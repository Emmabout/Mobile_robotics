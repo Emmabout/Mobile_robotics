{
 "cells": [
  {
   "cell_type": "markdown",
   "metadata": {},
   "source": [
    "# Main\n",
    "\n",
    "The pseudo-code of the main program is the following:\n",
    "\n",
    "- Creates the map from `vision.py` and determines global navigation plan through A* algorithm\n",
    "- Initializes position and other parameters\n",
    "- Starts main loop\n",
    "    - Determines if there is an unpredicted obstacle nearby\n",
    "    - If so, determines control inputs to avoid obstacle, otherwise determines control inputs to reach next temporary goal\n",
    "    - Determines newly reached state position with extended Kalman filter and odometry\n",
    "    - Quits main loop if last goal has been reached\n",
    "- Terminates program"
   ]
  }
 ],
 "metadata": {
  "kernelspec": {
   "display_name": "Python 3",
   "language": "python",
   "name": "python3"
  },
  "language_info": {
   "codemirror_mode": {
    "name": "ipython",
    "version": 3
   },
   "file_extension": ".py",
   "mimetype": "text/x-python",
   "name": "python",
   "nbconvert_exporter": "python",
   "pygments_lexer": "ipython3",
   "version": "3.7.3"
  }
 },
 "nbformat": 4,
 "nbformat_minor": 2
}
