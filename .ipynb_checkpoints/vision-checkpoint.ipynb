{
 "cells": [
  {
   "cell_type": "markdown",
   "metadata": {},
   "source": [
    "# Pablo the Thymio visits its first museum "
   ]
  },
  {
   "cell_type": "markdown",
   "metadata": {},
   "source": [
    "Today, Pablo wants to go to the museum. Since he's never been in a art museum, he decide to go to the famous \"Aseba Museum\"! \n",
    "The lady at the entrance gives him a map of the museum and thymio decides to study it before visiting.\n",
    "He goes in the cafeteria, order a cup of coffee and take his 4-colors pen.\n",
    "He circles in red all the painting he wants to see, and draw a green path to see them all.\n",
    "\n",
    "The adventure now begins:\n"
   ]
  },
  {
   "cell_type": "markdown",
   "metadata": {},
   "source": [
    "**Library to import**"
   ]
  },
  {
   "cell_type": "code",
   "execution_count": 188,
   "metadata": {},
   "outputs": [],
   "source": [
    "import cv2\n",
    "import time\n",
    "\n",
    "import numpy as np\n",
    "from math import *\n",
    "\n",
    "%matplotlib notebook \n",
    "import matplotlib.pyplot as plt\n",
    "%matplotlib notebook\n",
    "from matplotlib import colors\n",
    "%matplotlib inline\n",
    "\n",
    "from bokeh.plotting import figure\n",
    "from bokeh.io import output_notebook, show, push_notebook\n",
    "from tqdm import tqdm\n",
    "\n",
    "import IPython.display as Disp\n",
    "from ipywidgets import widgets"
   ]
  },
  {
   "cell_type": "markdown",
   "metadata": {},
   "source": [
    "**Magic numbers**"
   ]
  },
  {
   "cell_type": "code",
   "execution_count": 189,
   "metadata": {},
   "outputs": [],
   "source": [
    "#Code for the occupancy grid \n",
    "obstacle_here = 1\n",
    "painting_here = 2\n",
    "goal_here = 3\n",
    "start_here = 4\n",
    "marker_here = 5"
   ]
  },
  {
   "cell_type": "markdown",
   "metadata": {},
   "source": [
    "**Define global variables**"
   ]
  },
  {
   "cell_type": "code",
   "execution_count": 190,
   "metadata": {},
   "outputs": [],
   "source": [
    "#Size of the grid (defined in get_params())\n",
    "global max_val_x, max_val_y"
   ]
  },
  {
   "cell_type": "markdown",
   "metadata": {},
   "source": [
    "**VISION PROCESSING**"
   ]
  },
  {
   "cell_type": "code",
   "execution_count": 191,
   "metadata": {},
   "outputs": [],
   "source": [
    "def detect_image(img, template, display_images):\n",
    "    \"\"\"\n",
    "    Find template in img and draw a rectangle on it\n",
    "        if display_images, display the image\n",
    "    :return: coordinates of the center of the template in the image\n",
    "    \"\"\"\n",
    "    w, h = template.shape[::-1]\n",
    "    \n",
    "    method = cv2.TM_SQDIFF_NORMED\n",
    "\n",
    "    # Apply template Matching\n",
    "    res = cv2.matchTemplate(img,template,method)\n",
    "    min_val, max_val, min_loc, max_loc = cv2.minMaxLoc(res)\n",
    "    \n",
    "    #take minimum (due to the choice of the method)\n",
    "    top_left = min_loc\n",
    "    bottom_right = (top_left[0] + w, top_left[1] + h)\n",
    "    #draw rectangle in img \n",
    "    cv2.rectangle(img,top_left, bottom_right, (0,0,255), 7)\n",
    "\n",
    "    if display_images:\n",
    "        plt.figure()\n",
    "        ax4 = plt.subplot(121),plt.imshow(res, cmap = 'gray')\n",
    "        plt.title('Matching Result'), plt.xticks([]), plt.yticks([])\n",
    "        ax5 = plt.subplot(122),plt.imshow(img, cmap = 'gray')\n",
    "        plt.title('Detected picture'), plt.xticks([]), plt.yticks([])\n",
    "        plt.suptitle(method)\n",
    "        \n",
    "        plt.show()\n",
    "        \n",
    "    center = [(top_left[0] + bottom_right[0])/2, (top_left[1] + bottom_right[1])/2]\n",
    "    return center #coordinates of the center of the image."
   ]
  },
  {
   "cell_type": "markdown",
   "metadata": {},
   "source": [
    "-Why did we use this filter?\n",
    "\n",
    "-Bw_photo is not used --> bilateralFilter not used ? *Change to used, if no need to detect marker --> ok*\n"
   ]
  },
  {
   "cell_type": "code",
   "execution_count": 192,
   "metadata": {},
   "outputs": [],
   "source": [
    "def filtering(name_img, display_images):\n",
    "    \"\"\"\n",
    "    Filter the image using bilateral filter and otsu thersholding \n",
    "        if display_images, display the image\n",
    "    :return: image filtered\n",
    "    \"\"\"\n",
    "    photo = cv2.imread(name_img)\n",
    "    bilateral = cv2.bilateralFilter(photo,9,75,75)\n",
    "    \n",
    "    #convert image in BW\n",
    "    bw_photo = cv2.cvtColor(bilateral, cv2.COLOR_BGR2GRAY)\n",
    "\n",
    "    #ret2,th2 = cv2.threshold(cv2.cvtColor(photo, cv2.COLOR_BGR2GRAY),0,255,cv2.THRESH_BINARY+cv2.THRESH_OTSU)\n",
    "    _,filtered_image = cv2.threshold(bw_photo,0,255,cv2.THRESH_BINARY+cv2.THRESH_OTSU)\n",
    "\n",
    "    if display_images:\n",
    "        plt.figure()\n",
    "        ax = plt.subplot(121),plt.imshow(photo[:,:,::-1], cmap = 'gray')\n",
    "        plt.title('Original'), plt.xticks([]), plt.yticks([])\n",
    "        ax1 = plt.subplot(122),plt.imshow(filtered_image, cmap = 'gray')\n",
    "        plt.title('Filtered image'), plt.xticks([]), plt.yticks([])\n",
    "        \n",
    "        plt.show()\n",
    "        \n",
    "    return filtered_image"
   ]
  },
  {
   "cell_type": "code",
   "execution_count": 193,
   "metadata": {},
   "outputs": [],
   "source": [
    "def detect_multiple(name_img, img, template, threshold, display_images):\n",
    "    \"\"\"\n",
    "    Detect all template in image and draw a rectangle on each one of them \n",
    "        if display_images, display the image\n",
    "    :return: list of coordinates of each template's top left \n",
    "    \"\"\"\n",
    "    \n",
    "    img_gray = img\n",
    "    img_rgb = cv2.imread(name_img, cv2.IMREAD_COLOR)\n",
    "    \n",
    "    w, h = template.shape[::-1]\n",
    "\n",
    "    res = cv2.matchTemplate(img_gray,template,cv2.TM_SQDIFF_NORMED)\n",
    "\n",
    "    #take all coordinate where template is detected\n",
    "    loc = np.where(res <= threshold)\n",
    "    \n",
    "    #Since each template might be detected several time, we need to make sure we have one coordinate by template\n",
    "    \n",
    "    #take 1st point, init the precedent point and create a list of point\n",
    "    pt_prec = [loc[1][0], loc[0][0]]\n",
    "    list_pt = [pt_prec] \n",
    "    \n",
    "    #draw rectangle for first point in img_rgb\n",
    "    cv2.rectangle(img_rgb, (pt_prec[0], pt_prec[1]), (int(pt_prec[0] + w), int(pt_prec[1] + h)), (255,0,0), 5)\n",
    "    \n",
    "    #list of extra point we don't want\n",
    "    pt_notchoosen = []\n",
    "\n",
    "    #Check if point in loc is a new obstacle or not\n",
    "    for pt in zip(*loc[::-1]):\n",
    "        \n",
    "        #if not too close of the previous choosen point, might be a new obstacle\n",
    "        if (abs(pt[0] - pt_prec[0]) > 1) or (abs(pt[1] - pt_prec[1]) > 1) :\n",
    "            same_obstacle = 0\n",
    "            \n",
    "            #if too close of not wanted point, not a new obstacle, we don't want it\n",
    "            for pt_not in pt_notchoosen:\n",
    "                if (abs(pt[0] - pt_not[0]) <=10) and (abs(pt[1] - pt_not[1]) <= 10):\n",
    "                    same_obstacle = 1\n",
    "                    pt_notchoosen.append([pt[0], pt[1]])\n",
    "                    break\n",
    "            #if not too close, we add it to the list, draw a rectangle and update pt_prec\n",
    "            if not same_obstacle : \n",
    "                list_pt.append([pt[0], pt[1]])\n",
    "                cv2.rectangle(img_rgb, pt, (pt[0] + w, pt[1] + h), (255,0,0), 5)\n",
    "                pt_prec = pt\n",
    "                \n",
    "        #if too close of not wanted point, not a new obstacle, we don't want it        \n",
    "        else:\n",
    "            pt_notchoosen.append([pt[0], pt[1]])\n",
    "                    \n",
    "    \n",
    "    #cv2.imwrite('res.png',img_rgb)\n",
    "    if display_images:\n",
    "        plt.figure()\n",
    "        ax2 = plt.subplot(121),plt.imshow(res,cmap = 'gray')\n",
    "        plt.title('Matching Result'), plt.xticks([]), plt.yticks([])\n",
    "        ax3 = plt.subplot(122),plt.imshow(img_rgb,cmap = 'gray')\n",
    "        plt.title('Detected obstacles'), plt.xticks([]), plt.yticks([])\n",
    "        \n",
    "        plt.show()\n",
    "        \n",
    "    #list_pt contains the coordinates of the top left corners of all the objects    \n",
    "    return list_pt, w, h"
   ]
  },
  {
   "cell_type": "markdown",
   "metadata": {},
   "source": [
    "# -----------------------Coordonnées des obstacles/peintures/coins------------------"
   ]
  },
  {
   "cell_type": "code",
   "execution_count": 244,
   "metadata": {},
   "outputs": [],
   "source": [
    "def get_param():\n",
    "    global max_val_x, max_val_y\n",
    "    \n",
    "    name_map ='structure/cartecoindamier.jpg'\n",
    "    name_picture = ['oeuvres/triangle.png', 'oeuvres/nuage.png', 'oeuvres/coeur.png']\n",
    "    name_obstacle = 'structure/obstacle.png'\n",
    "    name_corner = 'structure/coin.png'\n",
    "    \n",
    "    #departure and goal symbols\n",
    "    name_start = 'oeuvres/thymio.png'\n",
    "    name_goal = 'oeuvres/etoile.png'\n",
    "\n",
    "    #G R I D parameters\n",
    "    max_val_x = 20\n",
    "    max_val_y = 14\n",
    "    \n",
    "    mapim = cv2.imread(name_map,0)\n",
    "    obstacle = cv2.imread(name_obstacle,0)\n",
    "    corner = cv2.imread(name_corner,0)\n",
    "    start = cv2.imread(name_start,0)\n",
    "    goal = cv2.imread(name_goal,0)\n",
    " \n",
    "    display_images = False\n",
    "\n",
    "    #filter images\n",
    "    map_filtered = filtering(name_map, display_images)\n",
    "    obstacle_filtered = filtering(name_obstacle, display_images)\n",
    "    corner_filtered = filtering(name_corner, display_images)\n",
    "    start_filtered = filtering(name_start, display_images)\n",
    "    goal_filtered = filtering(name_goal, display_images)\n",
    "    \n",
    "    picture_filtered = []\n",
    "    list_paintings = []\n",
    "    for i in range(len(name_picture)):\n",
    "        picture_filtered.append(filtering(name_picture[i], display_images))\n",
    "        list_paintings.append(detect_image(map_filtered, picture_filtered[i], display_images))\n",
    "\n",
    "    #get coordinates of pictures and obstacles\n",
    "    list_obstacles,w_obst,h_obst = detect_multiple(name_map, map_filtered, obstacle_filtered, 0.8 , display_images)\n",
    "    list_corners, w_corner, h_corner = detect_multiple(name_map, map_filtered, corner_filtered, 0.2, display_images)\n",
    "    start = detect_image(map_filtered, start_filtered, display_images)\n",
    "    goal = detect_image(map_filtered, goal_filtered, display_images)\n",
    "    \n",
    "    return list_paintings, list_obstacles, w_obst, h_obst, list_corners, w_corner, h_corner, start, goal"
   ]
  },
  {
   "cell_type": "markdown",
   "metadata": {},
   "source": [
    "**GRILLE**"
   ]
  },
  {
   "cell_type": "markdown",
   "metadata": {},
   "source": [
    "Environnement delimitation"
   ]
  },
  {
   "cell_type": "code",
   "execution_count": 245,
   "metadata": {},
   "outputs": [],
   "source": [
    "def get_rectangle(list_corners, w_corner, h_corner):\n",
    "    #prendre le plus petit rectangle décrit par les coins\n",
    "    sort_corners = sorted(list_corners) #trie les points selon x\n",
    "    x1 = max(sort_corners[0][0], sort_corners[1][0])\n",
    "    x2 = min(sort_corners[2][0], sort_corners[3][0]) + w_corner\n",
    "\n",
    "    sort_corners = sorted(list_corners , key=lambda k: [k[1], k[0]])\n",
    "    y1 = max(sort_corners[0][1], sort_corners[1][1])\n",
    "    y2 = min(sort_corners[2][1], sort_corners[3][1]) + h_corner\n",
    "\n",
    "    return [[x1,y1],[x2,y2]]"
   ]
  },
  {
   "cell_type": "markdown",
   "metadata": {},
   "source": [
    "create grid for visualization"
   ]
  },
  {
   "cell_type": "code",
   "execution_count": 246,
   "metadata": {},
   "outputs": [],
   "source": [
    "def create_visual_grid():\n",
    "    fig, ax = plt.subplots(figsize=(7,7))\n",
    "\n",
    "    major_ticks = np.arange(0, max_val_x+1, 10)\n",
    "    minor_ticks = np.arange(0, max_val_x+1, 1)\n",
    "    ax.set_xticks(major_ticks)\n",
    "    ax.set_xticks(minor_ticks, minor=True)\n",
    "    ax.set_yticks(major_ticks)\n",
    "    ax.set_yticks(minor_ticks, minor=True)\n",
    "    ax.grid(which='minor', alpha=0.2)\n",
    "    ax.grid(which='major', alpha=0.5)\n",
    "    ax.set_ylim([-1,max_val_y])\n",
    "    ax.set_xlim([-1,max_val_x])\n",
    "    ax.grid(True)\n",
    "    return fig, ax"
   ]
  },
  {
   "cell_type": "markdown",
   "metadata": {},
   "source": [
    "Convert into grid coordinate"
   ]
  },
  {
   "cell_type": "code",
   "execution_count": 247,
   "metadata": {},
   "outputs": [],
   "source": [
    "def convert_to_grid(x,y,list_corners):\n",
    "    x_grid = max_val_x*(x - list_corners[0][0])/(list_corners[1][0] - list_corners[0][0])\n",
    "    y_grid = max_val_y - max_val_y*(y - list_corners[0][1])/(list_corners[1][1] - list_corners[0][1])\n",
    "    return [x_grid,y_grid]"
   ]
  },
  {
   "cell_type": "markdown",
   "metadata": {},
   "source": [
    "Create The grid and fill it"
   ]
  },
  {
   "cell_type": "code",
   "execution_count": 248,
   "metadata": {},
   "outputs": [],
   "source": [
    "def create_fill_grid():\n",
    "    #Get coordinate\n",
    "    list_paintings, list_obstacles, w_obst, h_obst, list_corners, w_corner, h_corner, start, goal = get_param()\n",
    "    \n",
    "    #Create visual grid\n",
    "    fig, ax = create_visual_grid()\n",
    "    \n",
    "    # Creating the occupancy grid\n",
    "    occupancy_grid = np.zeros((max_val_x, max_val_y)) # Create an empty grid of max_val_x X max_val_y\n",
    " \n",
    "    cmap = colors.ListedColormap(['white', 'black', 'red', 'blue', 'yellow']) # Select the colors: Black = obstacles, \n",
    "                                                            # Red = paintings, blue = goal, yellow = departure??\n",
    "\n",
    "    #Get environnement delimitations\n",
    "    list_delimitation = get_rectangle(list_corners, w_corner, h_corner)\n",
    "    \n",
    "    #thymio grid size\n",
    "    half_thymio = 60 #[mm]\n",
    "    size_sheet = [841, 594] #[mm]\n",
    "    safe_zone = [half_thymio * max_val_x/size_sheet[0], half_thymio * max_val_y/size_sheet[1]]\n",
    "    \n",
    "    \n",
    "    for obs in list_obstacles:\n",
    "        #Convert coordinate into grid coordinate and take into accompt the obstacle size and thymio size (safezone)\n",
    "        obs_grid_tl = convert_to_grid(obs[0] - safe_zone[0], obs[1] + safe_zone[1], list_delimitation)\n",
    "        obs_grid_br = convert_to_grid(obs[0] + w_obst + safe_zone[0], obs[1] + h_obst - safe_zone[1], list_delimitation)\n",
    "        \n",
    "        #check if out of the grid because of safe zone                \n",
    "        for i in range(max(floor(obs_grid_tl[0]),0), min(ceil(obs_grid_br[0]), max_val_x)):\n",
    "            for j in range(max(floor(obs_grid_br[1]), 0), min(ceil(obs_grid_tl[1]), max_val_y)):\n",
    "                occupancy_grid[i,j] = obstacle_here\n",
    "\n",
    "    list_paintings_grid = []\n",
    "    #Convert coordinate into grid coordinate\n",
    "    for paint in list_paintings:\n",
    "        paint_grid = convert_to_grid(paint[0], paint[1], list_delimitation)\n",
    "        paint_grid = [round(paint_grid[0]), round(paint_grid[1])]\n",
    "        list_paintings_grid.append(paint_grid)\n",
    "        occupancy_grid[int(paint_grid[0]), int(paint_grid[1])] = painting_here\n",
    "\n",
    "    goal_grid = convert_to_grid(goal[0], goal[1], list_delimitation)\n",
    "    occupancy_grid[int(goal_grid[0]), int(goal_grid[1])] = goal_here\n",
    "    \n",
    "    start_grid = convert_to_grid(start[0], start[1], list_delimitation)\n",
    "    occupancy_grid[int(start_grid[0]), int(start_grid[1])] = start_here\n",
    "\n",
    "    # Displaying the map\n",
    "    ax.imshow(occupancy_grid, cmap=cmap)\n",
    "    \n",
    "    return occupancy_grid, list_paintings_grid, start_grid, goal_grid, fig, ax\n",
    "    "
   ]
  },
  {
   "cell_type": "markdown",
   "metadata": {},
   "source": [
    "G R I D "
   ]
  },
  {
   "cell_type": "markdown",
   "metadata": {},
   "source": [
    "**ASTAR**\n"
   ]
  },
  {
   "cell_type": "code",
   "execution_count": 249,
   "metadata": {},
   "outputs": [],
   "source": [
    "def _get_movements_4n():\n",
    "    \"\"\"\n",
    "    Get all possible 4-connectivity movements.\n",
    "    :return: list of movements with cost [(dx, dy, movement_cost)]\n",
    "    \"\"\"\n",
    "    return [(1, 0, 1.0),\n",
    "            (0, 1, 1.0),\n",
    "            (-1, 0, 1.0),\n",
    "            (0, -1, 1.0)]\n",
    "\n",
    "def reconstruct_path(cameFrom, current):\n",
    "    \"\"\"\n",
    "    Recurrently reconstructs the path from start node to the current node\n",
    "    :param cameFrom: map (dictionary) containing for each node n the node immediately \n",
    "                     preceding it on the cheapest path from start to n \n",
    "                     currently known.\n",
    "    :param current: current node (x, y)\n",
    "    :return: list of nodes from start to current node\n",
    "    \"\"\"\n",
    "    total_path = [current]\n",
    "    while current in cameFrom.keys():\n",
    "        # Add where the current node came from to the start of the list\n",
    "        total_path.insert(0, cameFrom[current]) \n",
    "        current=cameFrom[current]\n",
    "    return total_path\n",
    "\n",
    "def A_Star(start, goal, h, coords, occupancy_grid):\n",
    "    \"\"\"\n",
    "    A* for 2D occupancy grid. Finds a path from start to goal.\n",
    "    h is the heuristic function. h(n) estimates the cost to reach goal from node n.\n",
    "    :param start: start node (x, y)\n",
    "    :param goal_m: goal node (x, y)\n",
    "    :param occupancy_grid: the grid map\n",
    "    :return: a tuple that contains: (the resulting path in meters, the resulting path in data array indices)\n",
    "    \"\"\"\n",
    "\n",
    "    for point in [start, goal]: \n",
    "        assert point[0]>=0 and point[0]<max_val_x, \"start or end goal not contained in the map (x)\"\n",
    "        assert point[1]>=0 and point[1]<max_val_y, \"start or end goal not contained in the map (y)\"\n",
    "    \n",
    "    # check if start and goal nodes correspond to free spaces\n",
    "    if occupancy_grid[start[0], start[1]] == 1:\n",
    "        raise Exception('Start node is not traversable')\n",
    "\n",
    "    if occupancy_grid[goal[0], goal[1]] == 1:\n",
    "        raise Exception('Goal node is not traversable')\n",
    "    \n",
    "    # get possible movements\n",
    "    movements = _get_movements_4n()\n",
    "    \n",
    "    \n",
    "    # The set of visited nodes that need to be (re-)expanded, i.e. for which the neighbors need to be explored\n",
    "    # Initially, only the start node is known.\n",
    "    openSet = [start]\n",
    "    \n",
    "    # The set of visited nodes that no longer need to be expanded.\n",
    "    closedSet = []\n",
    "\n",
    "    # For node n, cameFrom[n] is the node immediately preceding it on the cheapest path from start to n currently known.\n",
    "    cameFrom = dict()\n",
    "\n",
    "    # For node n, gScore[n] is the cost of the cheapest path from start to n currently known.\n",
    "    gScore = dict(zip(coords, [np.inf for x in range(len(coords))]))\n",
    "    gScore[start] = 0\n",
    "\n",
    "    # For node n, fScore[n] := gScore[n] + h(n). map with default value of Infinity\n",
    "    fScore = dict(zip(coords, [np.inf for x in range(len(coords))]))\n",
    "    fScore[start] = h[start]\n",
    "\n",
    "    # while there are still elements to investigate\n",
    "    while openSet != []:\n",
    "        \n",
    "        #the node in openSet having the lowest fScore[] value\n",
    "        fScore_openSet = {key:val for (key,val) in fScore.items() if key in openSet}\n",
    "        current = min(fScore_openSet, key=fScore_openSet.get)\n",
    "        del fScore_openSet\n",
    "        \n",
    "        #If the goal is reached, reconstruct and return the obtained path\n",
    "        if current == goal:\n",
    "            return reconstruct_path(cameFrom, current), closedSet\n",
    "\n",
    "        openSet.remove(current)\n",
    "        closedSet.append(current)\n",
    "        \n",
    "        #for each neighbor of current:\n",
    "        for dx, dy, deltacost in movements:\n",
    "            \n",
    "            neighbor = (current[0]+dx, current[1]+dy)\n",
    "            \n",
    "            # if the node is not in the map, skip\n",
    "            if (neighbor[0] >= occupancy_grid.shape[0]) or (neighbor[1] >= occupancy_grid.shape[1]) or (neighbor[0] < 0) or (neighbor[1] < 0):\n",
    "                continue\n",
    "            \n",
    "            # if the node is occupied or has already been visited, skip\n",
    "            if (occupancy_grid[neighbor[0], neighbor[1]]==obstacle_here) or (neighbor in closedSet): \n",
    "                continue\n",
    "                \n",
    "            # d(current,neighbor) is the weight of the edge from current to neighbor\n",
    "            # tentative_gScore is the distance from start to the neighbor through current\n",
    "            tentative_gScore = gScore[current] + deltacost\n",
    "            \n",
    "            if neighbor not in openSet:\n",
    "                openSet.append(neighbor)\n",
    "                \n",
    "            if tentative_gScore < gScore[neighbor]:\n",
    "                # This path to neighbor is better than any previous one. Record it!\n",
    "                cameFrom[neighbor] = current\n",
    "                gScore[neighbor] = tentative_gScore\n",
    "                fScore[neighbor] = gScore[neighbor] + h[neighbor]\n",
    "\n",
    "    # Open set is empty but goal was never reached\n",
    "    print(\"No path found to goal\")\n",
    "    return [], closedSet\n"
   ]
  },
  {
   "cell_type": "markdown",
   "metadata": {},
   "source": [
    "Visit paintings"
   ]
  },
  {
   "cell_type": "code",
   "execution_count": 253,
   "metadata": {},
   "outputs": [],
   "source": [
    "def thymio_path(list_paintings_grid, start_grid, goal_grid, fig_astar, ax_astar, occupancy_grid):\n",
    "\n",
    "    # Define the start and end goal constant with entrance and exit of museum\n",
    "    entrance = tuple([int(start_grid[0]), int(start_grid[1])]) #(0,0)\n",
    "    exit = tuple([int(goal_grid[0]), int(goal_grid[1])]) #(20,10)\n",
    "\n",
    "\n",
    "    # List of all coordinates in the grid\n",
    "    x,y = np.mgrid[0:max_val_x:1, 0:max_val_y:1]\n",
    "    pos = np.empty(x.shape + (2,))\n",
    "    pos[:, :, 0] = x; pos[:, :, 1] = y\n",
    "    pos = np.reshape(pos, (x.shape[0]*x.shape[1], 2))\n",
    "    coords = list([(int(x[0]), int(x[1])) for x in pos])\n",
    "    path = []\n",
    "    visitedNodes = []\n",
    "\n",
    "    p = input('Enter the order you want to to see the paintings in :')\n",
    "    visiting_order = []\n",
    "    i = 0\n",
    "    x_t = []\n",
    "    y_t = []\n",
    "    pos_int = 0\n",
    "    while i<len(p):\n",
    "        if p[i].isdigit():\n",
    "            visiting_order.append(int(p[i]))\n",
    "            x_t.append(float(list_paintings_grid[int(p[i])][0]))\n",
    "            y_t.append(float(list_paintings_grid[int(p[i])][1]))\n",
    "        i = i + 1\n",
    "\n",
    "    coords_goal = list([x_v, y_v] for (x_v,y_v) in zip(x_t,y_t))\n",
    "\n",
    "    previous_pos = entrance #Start position\n",
    "    goal_pos = coords_goal[0]\n",
    "\n",
    "    for goal_pos in coords_goal:\n",
    "        # Define the heuristic, here = distance to goal ignoring obstacles\n",
    "        h = np.linalg.norm(pos - goal_pos, axis=-1)\n",
    "        h = dict(zip(coords, h))\n",
    "        goal_pos[0] = int(goal_pos[0])\n",
    "        goal_pos[1] = int(goal_pos[1])\n",
    "\n",
    "        # Run the A* algorithm #PUT ALL TOGETHER\n",
    "        new_path, new_visitedNodes = A_Star(tuple(previous_pos), tuple(goal_pos), h, coords, occupancy_grid)\n",
    "        if len(path) == 0:\n",
    "            path = np.array(new_path).reshape(-1, 2).transpose()\n",
    "        else:\n",
    "            path = np.concatenate((path, np.array(new_path).reshape(-1, 2).transpose()), axis=1)\n",
    "\n",
    "        if len(visitedNodes) == 0:\n",
    "            visitedNodes = np.array(new_visitedNodes).reshape(-1, 2).transpose()\n",
    "        else:\n",
    "            visitedNodes = np.concatenate((visitedNodes, np.array(new_visitedNodes).reshape(-1, 2).transpose()), axis=1)\n",
    "\n",
    "        previous_pos = goal_pos\n",
    "\n",
    "    #####GO TO EXIT\n",
    "    goal_pos = exit\n",
    "    # Define the heuristic, here = distance to goal ignoring obstacles\n",
    "    h = np.linalg.norm(pos - goal_pos, axis=-1)\n",
    "    h = dict(zip(coords, h))\n",
    "\n",
    "    # Run the A* algorithm\n",
    "    new_path, new_visitedNodes = A_Star(tuple(previous_pos), goal_pos, h, coords, occupancy_grid) \n",
    "    if len(path) == 0:\n",
    "            path = np.array(new_path).reshape(-1, 2).transpose()\n",
    "    else:\n",
    "        path = np.concatenate((path, np.array(new_path).reshape(-1, 2).transpose()), axis=1)\n",
    "\n",
    "    if len(visitedNodes) == 0:\n",
    "        visitedNodes = np.array(new_visitedNodes).reshape(-1, 2).transpose()\n",
    "    else:\n",
    "        visitedNodes = np.concatenate((visitedNodes, np.array(new_visitedNodes).reshape(-1, 2).transpose()), axis=1)\n",
    "\n",
    "    ##### Displaying the map\n",
    "    plt.figure()\n",
    "    #fig_astar, ax_astar = create_empty_plot()\n",
    "    cmap = colors.ListedColormap(['white', 'black', 'red', 'blue', 'yellow']) # Select the colors: Black = obstacles, Red = painting\n",
    "    ax_astar.imshow(occupancy_grid.transpose(), cmap=cmap)\n",
    "\n",
    "    # Plot the best path found and the list of visited nodes\n",
    "    ax_astar.scatter(visitedNodes[0], visitedNodes[1], marker=\"o\", color = 'orange')\n",
    "    ax_astar.plot(path[0], path[1], marker=\"o\", color = 'blue')\n",
    "    ax_astar.scatter(entrance[0], entrance[1], marker=\"o\", color = 'green', s=200)\n",
    "    ax_astar.scatter(exit[0], exit[1], marker=\"o\", color = 'purple', s=200)\n",
    "    print(path)"
   ]
  },
  {
   "cell_type": "code",
   "execution_count": 254,
   "metadata": {},
   "outputs": [
    {
     "name": "stdout",
     "output_type": "stream",
     "text": [
      "Enter the order you want to to see the paintings in :0 1\n",
      "[[10 10 10 10 10 10  9  9  8  8  8  8  8  7  7  6  6  5  5  4  4  4  5  6\n",
      "   7  8  9 10 11 12 13 14 14 15 15 16]\n",
      " [ 4  5  6  7  8  9  9 10 10 11 11 10  9  9  8  8  7  7  6  6  5  5  5  5\n",
      "   5  5  5  5  5  5  5  5  6  6  7  7]]\n"
     ]
    },
    {
     "data": {
      "image/png": "[encoded data removed]",
      "text/plain": [
       "<Figure size 504x504 with 1 Axes>"
      ]
     },
     "metadata": {
      "needs_background": "light"
     },
     "output_type": "display_data"
    },
    {
     "data": {
      "text/plain": [
       "<Figure size 432x288 with 0 Axes>"
      ]
     },
     "metadata": {},
     "output_type": "display_data"
    }
   ],
   "source": [
    "occupancy_grid, list_paintings_grid, start_grid, goal_grid, fig, ax = create_fill_grid()\n",
    "\n",
    "thymio_path(list_paintings_grid, start_grid, goal_grid, fig, ax, occupancy_grid)"
   ]
  },
  {
   "cell_type": "markdown",
   "metadata": {},
   "source": [
    "**Create checkerboard pattern on the grid** \n",
    "\n",
    "We will use A0 format for our map. We want squares of 6cm, hence we need 20 x 14 squares on our map. The 20th \n",
    "square will be cropped, se we will move the corners.\n"
   ]
  },
  {
   "cell_type": "code",
   "execution_count": 252,
   "metadata": {},
   "outputs": [
    {
     "name": "stdout",
     "output_type": "stream",
     "text": [
      "[[0. 0. 0. 0. 0. 0. 0. 0. 0. 0. 0. 0. 0. 0.]\n",
      " [0. 0. 0. 0. 0. 0. 0. 0. 0. 0. 0. 0. 0. 0.]\n",
      " [0. 0. 0. 0. 0. 0. 0. 0. 1. 1. 1. 1. 1. 0.]\n",
      " [0. 0. 0. 0. 0. 0. 0. 0. 1. 1. 1. 1. 1. 0.]\n",
      " [0. 0. 0. 0. 0. 2. 0. 0. 1. 1. 1. 1. 1. 0.]\n",
      " [0. 0. 0. 0. 0. 0. 0. 0. 0. 0. 0. 0. 0. 0.]\n",
      " [0. 0. 0. 0. 0. 0. 0. 0. 0. 0. 0. 0. 0. 0.]\n",
      " [0. 0. 0. 0. 0. 0. 0. 0. 0. 0. 0. 0. 0. 0.]\n",
      " [0. 0. 0. 0. 0. 0. 0. 0. 0. 0. 0. 2. 0. 0.]\n",
      " [0. 0. 0. 0. 0. 0. 0. 0. 0. 0. 0. 0. 0. 0.]\n",
      " [0. 0. 0. 0. 4. 0. 0. 0. 0. 0. 0. 0. 0. 0.]\n",
      " [0. 0. 0. 0. 0. 0. 0. 0. 0. 1. 1. 1. 1. 1.]\n",
      " [0. 0. 0. 0. 0. 0. 0. 0. 0. 1. 1. 1. 1. 1.]\n",
      " [0. 0. 0. 0. 0. 0. 0. 0. 0. 1. 1. 1. 1. 1.]\n",
      " [0. 0. 0. 0. 0. 0. 0. 0. 0. 0. 0. 0. 0. 0.]\n",
      " [0. 0. 0. 2. 0. 0. 0. 0. 0. 0. 0. 0. 0. 0.]\n",
      " [0. 0. 0. 0. 0. 0. 0. 3. 0. 0. 0. 0. 0. 0.]\n",
      " [0. 0. 0. 0. 0. 0. 0. 0. 0. 0. 0. 0. 0. 0.]\n",
      " [0. 0. 0. 0. 0. 0. 0. 0. 0. 0. 0. 0. 0. 0.]\n",
      " [0. 0. 0. 0. 0. 0. 0. 0. 0. 0. 0. 0. 0. 0.]]\n",
      "(20, 14)\n"
     ]
    }
   ],
   "source": [
    "print(occupancy_grid)\n",
    "print(occupancy_grid.shape)"
   ]
  },
  {
   "cell_type": "code",
   "execution_count": null,
   "metadata": {},
   "outputs": [],
   "source": [
    "def checkerboard(occupancy_grid):\n",
    "    \n",
    "    marker_here = 5\n",
    "    \n",
    "    for x in range (0,max_val_x):\n",
    "    "
   ]
  }
 ],
 "metadata": {
  "kernelspec": {
   "display_name": "Python 3",
   "language": "python",
   "name": "python3"
  },
  "language_info": {
   "codemirror_mode": {
    "name": "ipython",
    "version": 3
   },
   "file_extension": ".py",
   "mimetype": "text/x-python",
   "name": "python",
   "nbconvert_exporter": "python",
   "pygments_lexer": "ipython3",
   "version": "3.7.3"
  }
 },
 "nbformat": 4,
 "nbformat_minor": 2
}
