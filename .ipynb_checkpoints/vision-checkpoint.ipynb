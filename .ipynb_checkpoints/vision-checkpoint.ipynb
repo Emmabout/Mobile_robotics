{
 "cells": [
  {
   "cell_type": "markdown",
   "metadata": {},
   "source": [
    "# Thymio visits its first museum "
   ]
  },
  {
   "cell_type": "markdown",
   "metadata": {},
   "source": [
    "Today, thymio wants to go to the museum. Since he's never been in a art museum, he decide to go to the famous \"Aseba Museum\"! \n",
    "The lady at the entrance gives him a map of the museum and thymio decides to study it before visiting.\n",
    "He goes in the cafeteria, order a cup of coffee and take his 4-colors pen.\n",
    "He circles in red all the painting he wants to see, and draw a green path to see them all.\n",
    "\n",
    "The adventure now begins:\n"
   ]
  },
  {
   "cell_type": "markdown",
   "metadata": {},
   "source": [
    "**Library to import**"
   ]
  },
  {
   "cell_type": "code",
   "execution_count": 1,
   "metadata": {},
   "outputs": [],
   "source": [
    "import cv2\n",
    "import time\n",
    "\n",
    "import numpy as np\n",
    "from math import *\n",
    "\n",
    "%matplotlib notebook \n",
    "import matplotlib.pyplot as plt\n",
    "%matplotlib notebook\n",
    "from matplotlib import colors\n",
    "%matplotlib inline\n",
    "\n",
    "from bokeh.plotting import figure\n",
    "from bokeh.io import output_notebook, show, push_notebook\n",
    "from tqdm import tqdm\n",
    "\n",
    "import IPython.display as Disp\n",
    "from ipywidgets import widgets"
   ]
  },
  {
   "cell_type": "markdown",
   "metadata": {},
   "source": [
    "**Magic numbers**"
   ]
  },
  {
   "cell_type": "code",
   "execution_count": 2,
   "metadata": {},
   "outputs": [],
   "source": [
    "#Code for the occupancy grid\n",
    "limit_empty = 1 \n",
    "obstacle_here = 2\n",
    "painting_here = 3"
   ]
  },
  {
   "cell_type": "markdown",
   "metadata": {},
   "source": [
    "**Define global variables**"
   ]
  },
  {
   "cell_type": "code",
   "execution_count": 3,
   "metadata": {},
   "outputs": [],
   "source": [
    "#Size of the grid (defined in get_params())\n",
    "global max_val_x, max_val_y"
   ]
  },
  {
   "cell_type": "markdown",
   "metadata": {},
   "source": [
    "**VISION PROCESSING**"
   ]
  },
  {
   "cell_type": "code",
   "execution_count": 4,
   "metadata": {},
   "outputs": [],
   "source": [
    "def detect_image(img, template, plot_enable):\n",
    "    \"\"\"\n",
    "    Find template in img and draw a rectangle on it\n",
    "        if plot_enable, display the image\n",
    "    :return: coordinates of the center of the template in the image\n",
    "    \"\"\"\n",
    "    w, h = template.shape[::-1]\n",
    "    \n",
    "    method = cv2.TM_SQDIFF_NORMED\n",
    "\n",
    "    # Apply template Matching\n",
    "    res = cv2.matchTemplate(img,template,method)\n",
    "    min_val, max_val, min_loc, max_loc = cv2.minMaxLoc(res)\n",
    "    \n",
    "    #take minimum (due to the choice of the method)\n",
    "    top_left = min_loc\n",
    "    bottom_right = (top_left[0] + w, top_left[1] + h)\n",
    "    #draw rectangle in img \n",
    "    cv2.rectangle(img,top_left, bottom_right, (0,0,255), 7)\n",
    "\n",
    "    if plot_enable:\n",
    "        plt.figure()\n",
    "        ax4 = plt.subplot(121),plt.imshow(res, cmap = 'gray')\n",
    "        plt.title('Matching Result'), plt.xticks([]), plt.yticks([])\n",
    "        ax5 = plt.subplot(122),plt.imshow(img, cmap = 'gray')\n",
    "        plt.title('Detected picture'), plt.xticks([]), plt.yticks([])\n",
    "        plt.suptitle(method)\n",
    "        \n",
    "        plt.show()\n",
    "        \n",
    "    center = [(top_left[0] + bottom_right[0])/2, (top_left[1] + bottom_right[1])/2]\n",
    "    return center #coordinates of the center of the image."
   ]
  },
  {
   "cell_type": "markdown",
   "metadata": {},
   "source": [
    "-Why did we use this filter?\n",
    "\n",
    "-Bw_photo is not used --> bilateralFilter not used ? *Change to used, if no need to detect marker --> ok*\n"
   ]
  },
  {
   "cell_type": "code",
   "execution_count": 5,
   "metadata": {},
   "outputs": [],
   "source": [
    "def filtering(name_img, plot_enable):\n",
    "    \"\"\"\n",
    "    Filter the image using bilateral filter and otsu thersholding \n",
    "        if plot_enable, display the image\n",
    "    :return: image filtered\n",
    "    \"\"\"\n",
    "    photo = cv2.imread(name_img)\n",
    "    bilateral = cv2.bilateralFilter(photo,9,75,75)\n",
    "    \n",
    "    #convert image in BW\n",
    "    bw_photo = cv2.cvtColor(bilateral, cv2.COLOR_BGR2GRAY)\n",
    "\n",
    "    #ret2,th2 = cv2.threshold(cv2.cvtColor(photo, cv2.COLOR_BGR2GRAY),0,255,cv2.THRESH_BINARY+cv2.THRESH_OTSU)\n",
    "    _,filtered_image = cv2.threshold(bw_photo,0,255,cv2.THRESH_BINARY+cv2.THRESH_OTSU)\n",
    "\n",
    "    if plot_enable:\n",
    "        plt.figure()\n",
    "        ax = plt.subplot(121),plt.imshow(photo[:,:,::-1], cmap = 'gray')\n",
    "        plt.title('Original'), plt.xticks([]), plt.yticks([])\n",
    "        ax1 = plt.subplot(122),plt.imshow(filtered_image, cmap = 'gray')\n",
    "        plt.title('Filtered image'), plt.xticks([]), plt.yticks([])\n",
    "        \n",
    "        plt.show()\n",
    "        \n",
    "    return filtered_image"
   ]
  },
  {
   "cell_type": "code",
   "execution_count": 6,
   "metadata": {},
   "outputs": [],
   "source": [
    "def detect_multiple(name_img, img, template, threshold, plot_enable):\n",
    "    \"\"\"\n",
    "    Detect all template in image and draw a rectangle on each one of them \n",
    "        if plot_enable, display the image\n",
    "    :return: list of coordinates of each template's top left \n",
    "    \"\"\"\n",
    "    \n",
    "    img_gray = img\n",
    "    img_rgb = cv2.imread(name_img, cv2.IMREAD_COLOR)\n",
    "    \n",
    "    w, h = template.shape[::-1]\n",
    "\n",
    "    res = cv2.matchTemplate(img_gray,template,cv2.TM_SQDIFF_NORMED)\n",
    "\n",
    "    #take all coordinate where template is detected\n",
    "    loc = np.where(res <= threshold)\n",
    "    \n",
    "    #Since each template might be detected several time, we need to make sure we have one coordinate by template\n",
    "    \n",
    "    #take 1st point, init the precedent point and create a list of point\n",
    "    pt_prec = [loc[1][0], loc[0][0]]\n",
    "    list_pt = [pt_prec] \n",
    "    \n",
    "    #draw rectangle for first point in img_rgb\n",
    "    cv2.rectangle(img_rgb, (pt_prec[0], pt_prec[1]), (int(pt_prec[0] + w), int(pt_prec[1] + h)), (255,0,0), 5)\n",
    "    \n",
    "    #list of extra point we don't want\n",
    "    pt_notchoosen = []\n",
    "\n",
    "    #Check if point in loc is a new obstacle or not\n",
    "    for pt in zip(*loc[::-1]):\n",
    "        \n",
    "        #if not too close of the previous choosen point, might be a new obstacle\n",
    "        if (abs(pt[0] - pt_prec[0]) > 1) or (abs(pt[1] - pt_prec[1]) > 1) :\n",
    "            same_obstacle = 0\n",
    "            \n",
    "            #if too close of not wanted point, not a new obstacle, we don't want it\n",
    "            for pt_not in pt_notchoosen:\n",
    "                if (abs(pt[0] - pt_not[0]) <=10) and (abs(pt[1] - pt_not[1]) <= 10):\n",
    "                    same_obstacle = 1\n",
    "                    pt_notchoosen.append([pt[0], pt[1]])\n",
    "                    break\n",
    "            #if not too close, we add it to the list, draw a rectangle and update pt_prec\n",
    "            if not same_obstacle : \n",
    "                list_pt.append([pt[0], pt[1]])\n",
    "                cv2.rectangle(img_rgb, pt, (pt[0] + w, pt[1] + h), (255,0,0), 5)\n",
    "                pt_prec = pt\n",
    "                \n",
    "        #if too close of not wanted point, not a new obstacle, we don't want it        \n",
    "        else:\n",
    "            pt_notchoosen.append([pt[0], pt[1]])\n",
    "                    \n",
    "    \n",
    "    #cv2.imwrite('res.png',img_rgb)\n",
    "    if plot_enable:\n",
    "        plt.figure()\n",
    "        ax2 = plt.subplot(121),plt.imshow(res,cmap = 'gray')\n",
    "        plt.title('Matching Result'), plt.xticks([]), plt.yticks([])\n",
    "        ax3 = plt.subplot(122),plt.imshow(img_rgb,cmap = 'gray')\n",
    "        plt.title('Detected obstacles'), plt.xticks([]), plt.yticks([])\n",
    "        \n",
    "        plt.show()\n",
    "        \n",
    "    #list_pt contains the coordinates of the top left corners of all the objects    \n",
    "    return list_pt, w, h"
   ]
  },
  {
   "cell_type": "markdown",
   "metadata": {},
   "source": [
    "**Coordonnées des obstacles/peintures/coins**"
   ]
  },
  {
   "cell_type": "code",
   "execution_count": 7,
   "metadata": {},
   "outputs": [],
   "source": [
    "def get_param():\n",
    "    global max_val_x, max_val_y\n",
    "    \n",
    "    name_map ='structure/cartecoin.png'\n",
    "    name_picture = ['oeuvres/triangle.png', 'oeuvres/etoile.png', 'oeuvres/nuage.png', 'oeuvres/coeur.png']\n",
    "    name_obstacle = 'structure/obstacle.png'\n",
    "    name_corner = 'structure/coin.png'\n",
    "    \n",
    "    #G R I D\n",
    "    max_val_x = 14 # nm of square of 6 cm\n",
    "    max_val_y = 10\n",
    "    \n",
    "    mapim = cv2.imread(name_map,0)\n",
    "    obstacle = cv2.imread(name_obstacle,0)\n",
    "    corner = cv2.imread(name_corner,0)\n",
    " \n",
    "    plot_enable = False\n",
    "\n",
    "\n",
    "    #filter images\n",
    "    map_filtered = filtering(name_map, plot_enable)\n",
    "    obstacle_filtered = filtering(name_obstacle, plot_enable)\n",
    "    corner_filtered = filtering(name_corner, plot_enable)\n",
    "    \n",
    "    picture_filtered = []\n",
    "    list_paintings = []\n",
    "    for i in range(len(name_picture)):\n",
    "        picture_filtered.append(filtering(name_picture[i], plot_enable))\n",
    "        list_paintings.append(detect_image(map_filtered, picture_filtered[i], plot_enable))\n",
    "\n",
    "    #get coordinates of pictures and obstacles\n",
    "    list_obstacles,w_obst,h_obst = detect_multiple(name_map, map_filtered, obstacle_filtered, 0.8 , plot_enable)\n",
    "    list_corners, w_corner, h_corner = detect_multiple(name_map, map_filtered, corner_filtered, 0.2, plot_enable)\n",
    "    return list_paintings, list_obstacles, w_obst, h_obst, list_corners, w_corner, h_corner"
   ]
  },
  {
   "cell_type": "markdown",
   "metadata": {},
   "source": [
    "**GRILLE**"
   ]
  },
  {
   "cell_type": "markdown",
   "metadata": {},
   "source": [
    "Environnement delimitation"
   ]
  },
  {
   "cell_type": "code",
   "execution_count": 8,
   "metadata": {},
   "outputs": [],
   "source": [
    "def get_rectangle(list_corners, w_corner, h_corner):\n",
    "    #prendre le plus petit rectangle décrit par les coins\n",
    "    sort_corners = sorted(list_corners) #trie les points selon x\n",
    "    x1 = max(sort_corners[0][0], sort_corners[1][0])\n",
    "    x2 = min(sort_corners[2][0], sort_corners[3][0]) + w_corner\n",
    "\n",
    "    sort_corners = sorted(list_corners , key=lambda k: [k[1], k[0]])\n",
    "    y1 = max(sort_corners[0][1], sort_corners[1][1])\n",
    "    y2 = min(sort_corners[2][1], sort_corners[3][1]) + h_corner\n",
    "\n",
    "    return [[x1,y1],[x2,y2]]"
   ]
  },
  {
   "cell_type": "markdown",
   "metadata": {},
   "source": [
    "create grid for visualization"
   ]
  },
  {
   "cell_type": "code",
   "execution_count": 9,
   "metadata": {},
   "outputs": [],
   "source": [
    "def create_visual_grid():\n",
    "    fig, ax = plt.subplots(figsize=(7,7))\n",
    "\n",
    "    major_ticks = np.arange(0, max_val_x+1, 10)\n",
    "    minor_ticks = np.arange(0, max_val_x+1, 1)\n",
    "    ax.set_xticks(major_ticks)\n",
    "    ax.set_xticks(minor_ticks, minor=True)\n",
    "    ax.set_yticks(major_ticks)\n",
    "    ax.set_yticks(minor_ticks, minor=True)\n",
    "    ax.grid(which='minor', alpha=0.2)\n",
    "    ax.grid(which='major', alpha=0.5)\n",
    "    ax.set_ylim([-1,max_val_y])\n",
    "    ax.set_xlim([-1,max_val_x])\n",
    "    ax.grid(True)\n",
    "    return fig, ax"
   ]
  },
  {
   "cell_type": "markdown",
   "metadata": {},
   "source": [
    "Convert into grid coordinate"
   ]
  },
  {
   "cell_type": "code",
   "execution_count": 10,
   "metadata": {},
   "outputs": [],
   "source": [
    "def convert_to_grid(x,y,list_corners):\n",
    "    x_grid = max_val_x*(x - list_corners[0][0])/(list_corners[1][0] - list_corners[0][0])\n",
    "    y_grid = max_val_y - max_val_y*(y - list_corners[0][1])/(list_corners[1][1] - list_corners[0][1])\n",
    "    return [x_grid,y_grid]"
   ]
  },
  {
   "cell_type": "markdown",
   "metadata": {},
   "source": [
    "Create The grid and fill it"
   ]
  },
  {
   "cell_type": "code",
   "execution_count": 25,
   "metadata": {},
   "outputs": [],
   "source": [
    "def create_fill_grid():\n",
    "    #Get coordinate\n",
    "    list_paintings, list_obstacles, w_obst, h_obst, list_corners, w_corner, h_corner = get_param()\n",
    "    \n",
    "    #Create visual grid\n",
    "    fig, ax = create_visual_grid()\n",
    "    \n",
    "    # Creating the occupancy grid\n",
    "    np.random.seed(0) # To guarantee the same outcome on all computers\n",
    "    data = np.zeros((max_val_x, max_val_y)) # Create an empty grid of max_val_x X max_val_y\n",
    "    cmap = colors.ListedColormap(['white', 'black', 'red']) # Select the colors: Black = obstacles, Red = painting\n",
    "\n",
    "    #Get environnement delimitations\n",
    "    list_delimitation = get_rectangle(list_corners, w_corner, h_corner)\n",
    "    \n",
    "    #thymio grid size\n",
    "    half_thymio = 60 #[mm]\n",
    "    size_sheet = [841, 594] #[mm]\n",
    "    safe_zone = [half_thymio * max_val_x/size_sheet[0], half_thymio * max_val_y/size_sheet[1]]\n",
    "    \n",
    "    \n",
    "    for obs in list_obstacles:\n",
    "        #Convert coordinate into grid coordinate and take into accompt the obstacle size and thymio size (safezone)\n",
    "        obs_grid_tl = convert_to_grid(obs[0] - safe_zone[0], obs[1] + safe_zone[1], list_delimitation)\n",
    "        obs_grid_br = convert_to_grid(obs[0] + w_obst + safe_zone[0], obs[1] + h_obst - safe_zone[1], list_delimitation)\n",
    "        \n",
    "        #check if out of the grid because of safe zone                \n",
    "        for i in range(max(floor(obs_grid_tl[0]),0), min(ceil(obs_grid_br[0]), max_val_x)):\n",
    "            for j in range(max(floor(obs_grid_br[1]), 0), min(ceil(obs_grid_tl[1]), max_val_y)):\n",
    "                data[i,j] = obstacle_here\n",
    "\n",
    "    list_paintings_grid = []\n",
    "    #Convert coordinate into grid coordinate\n",
    "    for paint in list_paintings:\n",
    "        paint_grid = convert_to_grid(paint[0], paint[1], list_delimitation)\n",
    "        list_paintings_grid.append(paint_grid)\n",
    "        data[int(paint_grid[0]), int(paint_grid[1])] = painting_here\n",
    "\n",
    "\n",
    "    # Converting the random values into occupied and free cells\n",
    "    occupancy_grid = data.copy()\n",
    "    occupancy_grid[data==painting_here] = 2\n",
    "    occupancy_grid[data==obstacle_here] = 1\n",
    "    occupancy_grid[data==limit_empty] = 0\n",
    "\n",
    "    # Displaying the map\n",
    "    ax.imshow(occupancy_grid.transpose(), cmap=cmap)\n",
    "    \n",
    "    return occupancy_grid, list_paintings_grid, fig, ax\n",
    "    "
   ]
  },
  {
   "cell_type": "markdown",
   "metadata": {},
   "source": [
    "G R I D "
   ]
  },
  {
   "cell_type": "code",
   "execution_count": 26,
   "metadata": {},
   "outputs": [
    {
     "data": {
      "image/png": "[encoded data removed]",
      "text/plain": [
       "<Figure size 504x504 with 1 Axes>"
      ]
     },
     "metadata": {
      "needs_background": "light"
     },
     "output_type": "display_data"
    }
   ],
   "source": [
    "# ------- GRID -------\n",
    "occupancy_grid, list_paintings_grid, fig, ax = create_fill_grid()\n"
   ]
  },
  {
   "cell_type": "markdown",
   "metadata": {},
   "source": [
    "**ASTAR**\n"
   ]
  },
  {
   "cell_type": "code",
   "execution_count": 27,
   "metadata": {},
   "outputs": [],
   "source": [
    "def _get_movements_4n():\n",
    "    \"\"\"\n",
    "    Get all possible 4-connectivity movements.\n",
    "    :return: list of movements with cost [(dx, dy, movement_cost)]\n",
    "    \"\"\"\n",
    "    return [(1, 0, 1.0),\n",
    "            (0, 1, 1.0),\n",
    "            (-1, 0, 1.0),\n",
    "            (0, -1, 1.0)]\n",
    "\n",
    "def reconstruct_path(cameFrom, current):\n",
    "    \"\"\"\n",
    "    Recurrently reconstructs the path from start node to the current node\n",
    "    :param cameFrom: map (dictionary) containing for each node n the node immediately \n",
    "                     preceding it on the cheapest path from start to n \n",
    "                     currently known.\n",
    "    :param current: current node (x, y)\n",
    "    :return: list of nodes from start to current node\n",
    "    \"\"\"\n",
    "    total_path = [current]\n",
    "    while current in cameFrom.keys():\n",
    "        # Add where the current node came from to the start of the list\n",
    "        total_path.insert(0, cameFrom[current]) \n",
    "        current=cameFrom[current]\n",
    "    return total_path\n",
    "\n",
    "def A_Star(start, goal, h, coords, occupancy_grid):\n",
    "    \"\"\"\n",
    "    A* for 2D occupancy grid. Finds a path from start to goal.\n",
    "    h is the heuristic function. h(n) estimates the cost to reach goal from node n.\n",
    "    :param start: start node (x, y)\n",
    "    :param goal_m: goal node (x, y)\n",
    "    :param occupancy_grid: the grid map\n",
    "    :return: a tuple that contains: (the resulting path in meters, the resulting path in data array indices)\n",
    "    \"\"\"\n",
    "\n",
    "    for point in [start, goal]: \n",
    "        assert point[0]>=0 and point[0]<max_val_x, \"start or end goal not contained in the map (x)\"\n",
    "        assert point[1]>=0 and point[1]<max_val_y, \"start or end goal not contained in the map (y)\"\n",
    "    \n",
    "    # check if start and goal nodes correspond to free spaces\n",
    "    if occupancy_grid[start[0], start[1]] == 1:\n",
    "        raise Exception('Start node is not traversable')\n",
    "\n",
    "    if occupancy_grid[goal[0], goal[1]] == 1:\n",
    "        raise Exception('Goal node is not traversable')\n",
    "    \n",
    "    # get possible movements\n",
    "    movements = _get_movements_4n()\n",
    "    \n",
    "    \n",
    "    # The set of visited nodes that need to be (re-)expanded, i.e. for which the neighbors need to be explored\n",
    "    # Initially, only the start node is known.\n",
    "    openSet = [start]\n",
    "    \n",
    "    # The set of visited nodes that no longer need to be expanded.\n",
    "    closedSet = []\n",
    "\n",
    "    # For node n, cameFrom[n] is the node immediately preceding it on the cheapest path from start to n currently known.\n",
    "    cameFrom = dict()\n",
    "\n",
    "    # For node n, gScore[n] is the cost of the cheapest path from start to n currently known.\n",
    "    gScore = dict(zip(coords, [np.inf for x in range(len(coords))]))\n",
    "    gScore[start] = 0\n",
    "\n",
    "    # For node n, fScore[n] := gScore[n] + h(n). map with default value of Infinity\n",
    "    fScore = dict(zip(coords, [np.inf for x in range(len(coords))]))\n",
    "    fScore[start] = h[start]\n",
    "\n",
    "    # while there are still elements to investigate\n",
    "    while openSet != []:\n",
    "        \n",
    "        #the node in openSet having the lowest fScore[] value\n",
    "        fScore_openSet = {key:val for (key,val) in fScore.items() if key in openSet}\n",
    "        current = min(fScore_openSet, key=fScore_openSet.get)\n",
    "        del fScore_openSet\n",
    "        \n",
    "        #If the goal is reached, reconstruct and return the obtained path\n",
    "        if current == goal:\n",
    "            return reconstruct_path(cameFrom, current), closedSet\n",
    "\n",
    "        openSet.remove(current)\n",
    "        closedSet.append(current)\n",
    "        \n",
    "        #for each neighbor of current:\n",
    "        for dx, dy, deltacost in movements:\n",
    "            \n",
    "            neighbor = (current[0]+dx, current[1]+dy)\n",
    "            \n",
    "            # if the node is not in the map, skip\n",
    "            if (neighbor[0] >= occupancy_grid.shape[0]) or (neighbor[1] >= occupancy_grid.shape[1]) or (neighbor[0] < 0) or (neighbor[1] < 0):\n",
    "                continue\n",
    "            \n",
    "            # if the node is occupied or has already been visited, skip\n",
    "            if (occupancy_grid[neighbor[0], neighbor[1]]==obstacle_here) or (neighbor in closedSet): \n",
    "                continue\n",
    "                \n",
    "            # d(current,neighbor) is the weight of the edge from current to neighbor\n",
    "            # tentative_gScore is the distance from start to the neighbor through current\n",
    "            tentative_gScore = gScore[current] + deltacost\n",
    "            \n",
    "            if neighbor not in openSet:\n",
    "                openSet.append(neighbor)\n",
    "                \n",
    "            if tentative_gScore < gScore[neighbor]:\n",
    "                # This path to neighbor is better than any previous one. Record it!\n",
    "                cameFrom[neighbor] = current\n",
    "                gScore[neighbor] = tentative_gScore\n",
    "                fScore[neighbor] = gScore[neighbor] + h[neighbor]\n",
    "\n",
    "    # Open set is empty but goal was never reached\n",
    "    print(\"No path found to goal\")\n",
    "    return [], closedSet\n"
   ]
  },
  {
   "cell_type": "markdown",
   "metadata": {},
   "source": [
    "Visit paintings"
   ]
  },
  {
   "cell_type": "code",
   "execution_count": 23,
   "metadata": {},
   "outputs": [],
   "source": [
    "def thymio_path(list_paintings_grid, fig_astar, ax_astar):\n",
    "\n",
    "    # Define the start and end goal constant with entrance and exit of museum\n",
    "    entrance = (0,0)\n",
    "    exit = (1,1) #TO MODIFY IF NEEDED\n",
    "    #pos_paintings = (6, 2, 12, 0) #HERE POSITIONS GIVEN BUT AFTER WILL BE EXTRACTED\n",
    "\n",
    "\n",
    "    # List of all coordinates in the grid\n",
    "    x,y = np.mgrid[0:max_val_x:1, 0:max_val_y:1]\n",
    "    pos = np.empty(x.shape + (2,))\n",
    "    pos[:, :, 0] = x; pos[:, :, 1] = y\n",
    "    pos = np.reshape(pos, (x.shape[0]*x.shape[1], 2))\n",
    "    coords = list([(int(x[0]), int(x[1])) for x in pos])\n",
    "    path = []\n",
    "    visitedNodes = []\n",
    "\n",
    "    p = input('Enter the order you want to to see the paintings in :')\n",
    "    visiting_order = []\n",
    "    i = 0\n",
    "    x_t = []\n",
    "    y_t = []\n",
    "    pos_int = 0\n",
    "    while i<len(p) :\n",
    "        if p[i].isdigit():\n",
    "            visiting_order.append(int(p[i]))\n",
    "            nb = int(p[i]) #number from 0 to nb paint-1\n",
    "            x_t.append(float(list_paintings_grid[i][0]))\n",
    "            y_t.append(float(list_paintings_grid[i][1]))\n",
    "        i = i + 1\n",
    "\n",
    "    coords_goal = list([x_v, y_v] for (x_v,y_v) in zip(x_t,y_t))\n",
    "\n",
    "    previous_pos = entrance #Start position\n",
    "    goal_pos = coords_goal[0]\n",
    "\n",
    "    for goal_pos in coords_goal:\n",
    "        # Define the heuristic, here = distance to goal ignoring obstacles\n",
    "        h = np.linalg.norm(pos - goal_pos, axis=-1)\n",
    "        h = dict(zip(coords, h))\n",
    "        goal_pos[0] = int(goal_pos[0])\n",
    "        goal_pos[1] = int(goal_pos[1])\n",
    "\n",
    "        # Run the A* algorithm #PUT ALL TOGETHER\n",
    "        new_path, new_visitedNodes = A_Star(tuple(previous_pos), tuple(goal_pos), h, coords, occupancy_grid)\n",
    "        if len(path) == 0:\n",
    "            path = np.array(new_path).reshape(-1, 2).transpose()\n",
    "        else:\n",
    "            path = np.concatenate((path, np.array(new_path).reshape(-1, 2).transpose()), axis=1)\n",
    "\n",
    "        if len(visitedNodes) == 0:\n",
    "            visitedNodes = np.array(new_visitedNodes).reshape(-1, 2).transpose()\n",
    "        else:\n",
    "            visitedNodes = np.concatenate((visitedNodes, np.array(new_visitedNodes).reshape(-1, 2).transpose()), axis=1)\n",
    "\n",
    "        previous_pos = goal_pos\n",
    "\n",
    "    #####GO TO EXIT\n",
    "    goal_pos = exit\n",
    "    # Define the heuristic, here = distance to goal ignoring obstacles\n",
    "    h = np.linalg.norm(pos - goal_pos, axis=-1)\n",
    "    h = dict(zip(coords, h))\n",
    "\n",
    "    # Run the A* algorithm\n",
    "    new_path, new_visitedNodes = A_Star(tuple(previous_pos), goal_pos, h, coords, occupancy_grid) \n",
    "    if len(path) == 0:\n",
    "            path = np.array(new_path).reshape(-1, 2).transpose()\n",
    "    else:\n",
    "        path = np.concatenate((path, np.array(new_path).reshape(-1, 2).transpose()), axis=1)\n",
    "\n",
    "    if len(visitedNodes) == 0:\n",
    "        visitedNodes = np.array(new_visitedNodes).reshape(-1, 2).transpose()\n",
    "    else:\n",
    "        visitedNodes = np.concatenate((visitedNodes, np.array(new_visitedNodes).reshape(-1, 2).transpose()), axis=1)\n",
    "\n",
    "    ##### Displaying the map\n",
    "    #fig_astar, ax_astar = create_empty_plot()\n",
    "    ax_astar.imshow(occupancy_grid.transpose(), cmap=cmap)\n",
    "\n",
    "    # Plot the best path found and the list of visited nodes\n",
    "    ax_astar.scatter(visitedNodes[0], visitedNodes[1], marker=\"o\", color = 'orange');\n",
    "    ax_astar.plot(path[0], path[1], marker=\"o\", color = 'blue');\n",
    "    ax_astar.scatter(entrance[0], entrance[1], marker=\"o\", color = 'green', s=200);\n",
    "    ax_astar.scatter(exit[0], exit[1], marker=\"o\", color = 'purple', s=200);"
   ]
  },
  {
   "cell_type": "code",
   "execution_count": 24,
   "metadata": {},
   "outputs": [
    {
     "name": "stdout",
     "output_type": "stream",
     "text": [
      "Enter the order you want to to see the paintings in :1 0\n",
      "No path found to goal\n",
      "No path found to goal\n"
     ]
    },
    {
     "ename": "NameError",
     "evalue": "name 'create_empty_plot' is not defined",
     "output_type": "error",
     "traceback": [
      "\u001b[1;31m---------------------------------------------------------------------------\u001b[0m",
      "\u001b[1;31mNameError\u001b[0m                                 Traceback (most recent call last)",
      "\u001b[1;32m<ipython-input-24-ac8c23e0a6e1>\u001b[0m in \u001b[0;36m<module>\u001b[1;34m\u001b[0m\n\u001b[1;32m----> 1\u001b[1;33m \u001b[0mthymio_path\u001b[0m\u001b[1;33m(\u001b[0m\u001b[0mlist_paintings_grid\u001b[0m\u001b[1;33m)\u001b[0m\u001b[1;33m\u001b[0m\u001b[1;33m\u001b[0m\u001b[0m\n\u001b[0m",
      "\u001b[1;32m<ipython-input-23-c3883afe0ac0>\u001b[0m in \u001b[0;36mthymio_path\u001b[1;34m(list_paintings_grid)\u001b[0m\n\u001b[0;32m     75\u001b[0m \u001b[1;33m\u001b[0m\u001b[0m\n\u001b[0;32m     76\u001b[0m     \u001b[1;31m##### Displaying the map\u001b[0m\u001b[1;33m\u001b[0m\u001b[1;33m\u001b[0m\u001b[1;33m\u001b[0m\u001b[0m\n\u001b[1;32m---> 77\u001b[1;33m     \u001b[0mfig_astar\u001b[0m\u001b[1;33m,\u001b[0m \u001b[0max_astar\u001b[0m \u001b[1;33m=\u001b[0m \u001b[0mcreate_empty_plot\u001b[0m\u001b[1;33m(\u001b[0m\u001b[1;33m)\u001b[0m\u001b[1;33m\u001b[0m\u001b[1;33m\u001b[0m\u001b[0m\n\u001b[0m\u001b[0;32m     78\u001b[0m     \u001b[0max_astar\u001b[0m\u001b[1;33m.\u001b[0m\u001b[0mimshow\u001b[0m\u001b[1;33m(\u001b[0m\u001b[0moccupancy_grid\u001b[0m\u001b[1;33m.\u001b[0m\u001b[0mtranspose\u001b[0m\u001b[1;33m(\u001b[0m\u001b[1;33m)\u001b[0m\u001b[1;33m,\u001b[0m \u001b[0mcmap\u001b[0m\u001b[1;33m=\u001b[0m\u001b[0mcmap\u001b[0m\u001b[1;33m)\u001b[0m\u001b[1;33m\u001b[0m\u001b[1;33m\u001b[0m\u001b[0m\n\u001b[0;32m     79\u001b[0m \u001b[1;33m\u001b[0m\u001b[0m\n",
      "\u001b[1;31mNameError\u001b[0m: name 'create_empty_plot' is not defined"
     ]
    }
   ],
   "source": [
    "thymio_path(list_paintings_grid)"
   ]
  },
  {
   "cell_type": "code",
   "execution_count": null,
   "metadata": {},
   "outputs": [],
   "source": []
  },
  {
   "cell_type": "code",
   "execution_count": null,
   "metadata": {},
   "outputs": [],
   "source": []
  }
 ],
 "metadata": {
  "kernelspec": {
   "display_name": "Python 3",
   "language": "python",
   "name": "python3"
  },
  "language_info": {
   "codemirror_mode": {
    "name": "ipython",
    "version": 3
   },
   "file_extension": ".py",
   "mimetype": "text/x-python",
   "name": "python",
   "nbconvert_exporter": "python",
   "pygments_lexer": "ipython3",
   "version": "3.7.3"
  }
 },
 "nbformat": 4,
 "nbformat_minor": 2
}
