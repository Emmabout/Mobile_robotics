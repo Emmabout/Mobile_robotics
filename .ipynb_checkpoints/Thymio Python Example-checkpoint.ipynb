{
 "cells": [
  {
   "cell_type": "markdown",
   "metadata": {},
   "source": [
    "# Thymio-Python Bridge\n",
    "\n",
    "To connect to the Thymio robot and control it through python you will have to have the Thymio connected through the serial port. That means that your Thymio will have to be connected to the computer with a cable at all times. \n",
    "\n",
    "\n",
    "The python script `Thymio.py` is going to help you do that and we are going to guide you through the usage of the script. \n",
    "\n",
    "First you will have to insall pyserial to be able to connect to the serial port by running `pip3 install pyserial` in the terminal. \n",
    "\n",
    "\n",
    "If you want to be able to access and control the LEDs from the serial port, you will have to upgrade the Thymio's firmware to the version 13. This however is not necessary but if you think that you need it then you will have to install [Thymio suite](https://www.thymio.org/news/thymio-suite-second-test-phase/), launch Aseba studio and then right click on the Thymio and select upgrade firmware.\n"
   ]
  },
  {
   "cell_type": "markdown",
   "metadata": {},
   "source": [
    "## 0. Imports"
   ]
  },
  {
   "cell_type": "code",
   "execution_count": 10,
   "metadata": {},
   "outputs": [
    {
     "name": "stdout",
     "output_type": "stream",
     "text": [
      "/Users/laila-mobots/.virtualenvs/base/bin/python3\n"
     ]
    }
   ],
   "source": [
    "import os\n",
    "import sys\n",
    "import time\n",
    "import serial\n",
    "\n",
    "# Adding the src folder in the current directory as it contains the script\n",
    "# with the Thymio class\n",
    "sys.path.insert(0, os.path.join(os.getcwd(), 'src'))\n",
    "\n",
    "from Thymio import Thymio\n",
    "\n",
    "print(sys.executable)"
   ]
  },
  {
   "cell_type": "markdown",
   "metadata": {},
   "source": [
    "## 1. Connecting the Thymio\n",
    "\n",
    "To connect to the Thymio, you first have to start by connecting it to a USB port. Then you will need to identify the ID of the serial port it is connected to. \n",
    "\n",
    "With ASEBA Studio 1.16 you can see the serial port that the robot is connected to directly. It is highlighted in the image below.\n",
    "\n",
    "<img src=\"images/AsebaStudio.png\"\n",
    "     alt=\"Markdown Monster icon\"\n",
    "     style=\"float: left; margin-right: 10px;\" />\n",
    "\n",
    "\n",
    "Otherwise, the procedure to identify the serial port is the following : \n",
    "\n",
    "**MacOs** \n",
    "\n",
    "Open terminal and write : ls /dev/cu.usb* to get the serial portt\n",
    "1. Open a terminal window and enter the following command: ls /dev/cu.usbmodem*\n",
    "2. Look for cu.usbmodemXXXX, where XXXX is the number attributed by your computer. You should find one ID\n",
    "\n",
    "Note : Virtual serial port numbering on Mac depends on the physical USB port used and the device. If you want to keep the same names, you must connect to the same USB port each time.\n",
    "\n",
    "**Windows**\n",
    "- Open the Device Manager\n",
    "- Under Ports (COM & LPT) you can see the virtual ports connected to your computer.\n",
    "- Do a Right-click -> properties on the COM port you want to identify.\n",
    "- Go under the details tab and select Bus reported device description in the properties list.\n",
    "- The name of the port should be written in the text box below. The name of the port you are looking for is called Thymio II\n",
    "- Once you found the desired device, you can simply look at its port number (COMX).\n",
    "\n",
    "**Linux**\n",
    "1. Open a terminal window (ctrl+alt+t) and enter the following command: ls /dev/ttyACM*\n",
    "2. Look for ttyACM0 in the generated list.\n",
    "\n",
    "Note : Virtual serial port numbering on Linux depends on the connections order, thus it can be different if another device using virtual serial ports is already connected to your computer before connecting the robot, but the sequence remains the same."
   ]
  },
  {
   "cell_type": "code",
   "execution_count": 2,
   "metadata": {},
   "outputs": [],
   "source": [
    "th = Thymio.serial(port=\"/dev/cu.usbmodem142101\", refreshing_rate=0.1)"
   ]
  },
  {
   "cell_type": "markdown",
   "metadata": {},
   "source": [
    "### 2. List of accessible methods\n",
    "\n",
    "Using the function dir( ) you can see all the attributes of the Thymio instance. This can also be used with any other class instance in python"
   ]
  },
  {
   "cell_type": "code",
   "execution_count": 9,
   "metadata": {},
   "outputs": [
    {
     "data": {
      "text/plain": [
       "['__class__',\n",
       " '__del__',\n",
       " '__delattr__',\n",
       " '__dict__',\n",
       " '__dir__',\n",
       " '__doc__',\n",
       " '__enter__',\n",
       " '__eq__',\n",
       " '__exit__',\n",
       " '__format__',\n",
       " '__ge__',\n",
       " '__getattribute__',\n",
       " '__getitem__',\n",
       " '__gt__',\n",
       " '__hash__',\n",
       " '__init__',\n",
       " '__init_subclass__',\n",
       " '__le__',\n",
       " '__lt__',\n",
       " '__module__',\n",
       " '__ne__',\n",
       " '__new__',\n",
       " '__reduce__',\n",
       " '__reduce_ex__',\n",
       " '__repr__',\n",
       " '__setattr__',\n",
       " '__setitem__',\n",
       " '__sizeof__',\n",
       " '__str__',\n",
       " '__subclasshook__',\n",
       " '__weakref__',\n",
       " 'auto_handshake',\n",
       " 'close',\n",
       " 'get_node_description',\n",
       " 'get_target_node_id',\n",
       " 'get_target_node_var_total_size',\n",
       " 'get_var',\n",
       " 'get_var_array',\n",
       " 'get_variables',\n",
       " 'handle_message',\n",
       " 'handshake',\n",
       " 'input_lock',\n",
       " 'input_thread',\n",
       " 'io',\n",
       " 'list_nodes',\n",
       " 'node_id',\n",
       " 'null',\n",
       " 'output_lock',\n",
       " 'refresh_thread',\n",
       " 'refreshing_timeout',\n",
       " 'refreshing_trigger',\n",
       " 'remote_node',\n",
       " 'send',\n",
       " 'serial',\n",
       " 'serial_default_port',\n",
       " 'set_refreshing_rate',\n",
       " 'set_var',\n",
       " 'set_var_array',\n",
       " 'set_variables',\n",
       " 'tcp',\n",
       " 'terminating',\n",
       " 'variable_description']"
      ]
     },
     "execution_count": 9,
     "metadata": {},
     "output_type": "execute_result"
    }
   ],
   "source": [
    "dir(th)"
   ]
  },
  {
   "cell_type": "markdown",
   "metadata": {},
   "source": [
    "As you can see, the last element of this list is the `variable_description` function. This can be used to see what the differentt read-write variables that you can access are. You need to know the name and size of the variables that you are interested in."
   ]
  },
  {
   "cell_type": "code",
   "execution_count": 11,
   "metadata": {},
   "outputs": [
    {
     "name": "stdout",
     "output_type": "stream",
     "text": [
      "{'name': '_id', 'offset': 0, 'size': 1}\n",
      "{'name': 'event.source', 'offset': 1, 'size': 1}\n",
      "{'name': 'event.args', 'offset': 2, 'size': 32}\n",
      "{'name': '_fwversion', 'offset': 34, 'size': 2}\n",
      "{'name': '_productId', 'offset': 36, 'size': 1}\n",
      "{'name': 'buttons._raw', 'offset': 37, 'size': 5}\n",
      "{'name': 'button.backward', 'offset': 42, 'size': 1}\n",
      "{'name': 'button.left', 'offset': 43, 'size': 1}\n",
      "{'name': 'button.center', 'offset': 44, 'size': 1}\n",
      "{'name': 'button.forward', 'offset': 45, 'size': 1}\n",
      "{'name': 'button.right', 'offset': 46, 'size': 1}\n",
      "{'name': 'buttons._mean', 'offset': 47, 'size': 5}\n",
      "{'name': 'buttons._noise', 'offset': 52, 'size': 5}\n",
      "{'name': 'prox.horizontal', 'offset': 57, 'size': 7}\n",
      "{'name': 'prox.comm.rx._payloads', 'offset': 64, 'size': 7}\n",
      "{'name': 'prox.comm.rx._intensities', 'offset': 71, 'size': 7}\n",
      "{'name': 'prox.comm.rx', 'offset': 78, 'size': 1}\n",
      "{'name': 'prox.comm.tx', 'offset': 79, 'size': 1}\n",
      "{'name': 'prox.ground.ambiant', 'offset': 80, 'size': 2}\n",
      "{'name': 'prox.ground.reflected', 'offset': 82, 'size': 2}\n",
      "{'name': 'prox.ground.delta', 'offset': 84, 'size': 2}\n",
      "{'name': 'motor.left.target', 'offset': 86, 'size': 1}\n",
      "{'name': 'motor.right.target', 'offset': 87, 'size': 1}\n",
      "{'name': '_vbat', 'offset': 88, 'size': 2}\n",
      "{'name': '_imot', 'offset': 90, 'size': 2}\n",
      "{'name': 'motor.left.speed', 'offset': 92, 'size': 1}\n",
      "{'name': 'motor.right.speed', 'offset': 93, 'size': 1}\n",
      "{'name': 'motor.left.pwm', 'offset': 94, 'size': 1}\n",
      "{'name': 'motor.right.pwm', 'offset': 95, 'size': 1}\n",
      "{'name': 'acc', 'offset': 96, 'size': 3}\n",
      "{'name': 'leds.top', 'offset': 99, 'size': 3}\n",
      "{'name': 'leds.bottom.left', 'offset': 102, 'size': 3}\n",
      "{'name': 'leds.bottom.right', 'offset': 105, 'size': 3}\n",
      "{'name': 'leds.circle', 'offset': 108, 'size': 8}\n",
      "{'name': 'temperature', 'offset': 116, 'size': 1}\n",
      "{'name': 'rc5.address', 'offset': 117, 'size': 1}\n",
      "{'name': 'rc5.command', 'offset': 118, 'size': 1}\n",
      "{'name': 'mic.intensity', 'offset': 119, 'size': 1}\n",
      "{'name': 'mic.threshold', 'offset': 120, 'size': 1}\n",
      "{'name': 'mic._mean', 'offset': 121, 'size': 1}\n",
      "{'name': 'timer.period', 'offset': 122, 'size': 2}\n",
      "{'name': 'acc._tap', 'offset': 124, 'size': 1}\n",
      "{'name': 'sd.present', 'offset': 125, 'size': 1}\n"
     ]
    }
   ],
   "source": [
    "\n",
    "time.sleep(1)\n",
    "\n",
    "variables = th.variable_description()\n",
    "\n",
    "for var in variables : \n",
    "    print(var)\n",
    "    \n"
   ]
  },
  {
   "cell_type": "markdown",
   "metadata": {},
   "source": [
    "## 2. Reading values from Thymio sensors\n",
    "\n",
    "Here you can see how to read the values of the horizontal proximity sensors 10 times with a frequency of 5Hz (once every 0.2s). You can access "
   ]
  },
  {
   "cell_type": "code",
   "execution_count": 12,
   "metadata": {},
   "outputs": [
    {
     "name": "stdout",
     "output_type": "stream",
     "text": [
      "[0, 3291, 2857, 1064, 0, 0, 0]\n",
      "[0, 3291, 2857, 1064, 0, 0, 0]\n",
      "[0, 3291, 2857, 1064, 0, 0, 0]\n",
      "[0, 3291, 2857, 1064, 0, 0, 0]\n",
      "[0, 3291, 2857, 1064, 0, 0, 0]\n",
      "[0, 3291, 2857, 1064, 0, 0, 0]\n",
      "[0, 3291, 2857, 1064, 0, 0, 0]\n",
      "[0, 3291, 2857, 1064, 0, 0, 0]\n",
      "[0, 3291, 2857, 1064, 0, 0, 0]\n",
      "[0, 3291, 2857, 1064, 0, 0, 0]\n"
     ]
    }
   ],
   "source": [
    "for i in range(10):\n",
    "    print(th[\"prox.horizontal\"])\n",
    "    time.sleep(0.2)\n"
   ]
  },
  {
   "cell_type": "markdown",
   "metadata": {},
   "source": [
    "## 3. Passing single values to the Thymio"
   ]
  },
  {
   "cell_type": "markdown",
   "metadata": {},
   "source": [
    "All the variables of size 1 can be set using the `set_var` function. Here is the example that shows how to set the left and right motor speeds to 100. "
   ]
  },
  {
   "cell_type": "code",
   "execution_count": 4,
   "metadata": {},
   "outputs": [],
   "source": [
    "th.set_var(\"motor.left.target\", 100)\n",
    "th.set_var(\"motor.right.target\", 100)\n",
    "\n",
    "time.sleep(5)\n",
    "\n",
    "th.set_var(\"motor.left.target\", 0)\n",
    "th.set_var(\"motor.right.target\", 0)"
   ]
  },
  {
   "cell_type": "markdown",
   "metadata": {},
   "source": [
    "Note that to send a negative value, as the values are coded in uint_16, you need to add `2^16-x` where `x`is the absolute value of the negative speed that you want to set (c.f. complément à 2 sur 16 bits)"
   ]
  },
  {
   "cell_type": "code",
   "execution_count": null,
   "metadata": {},
   "outputs": [],
   "source": [
    "th.set_var(\"motor.left.target\", 100)\n",
    "th.set_var(\"motor.right.target\", 2**16-100)\n",
    "\n",
    "time.sleep(5)\n",
    "\n",
    "th.set_var(\"motor.left.target\", 0)\n",
    "th.set_var(\"motor.right.target\", 0)"
   ]
  },
  {
   "cell_type": "markdown",
   "metadata": {},
   "source": [
    "## 4. Passing multiple values to Thymio\n",
    "\n",
    "All the variables of size superior to one must be set using the `set_var_array` function. Here is the example of setting the top LED values to red."
   ]
  },
  {
   "cell_type": "code",
   "execution_count": 7,
   "metadata": {},
   "outputs": [],
   "source": [
    "th.set_var_array(\"leds.top\", [255, 0, 0])"
   ]
  }
 ],
 "metadata": {
  "kernelspec": {
   "display_name": "Python 3",
   "language": "python",
   "name": "python3"
  },
  "language_info": {
   "codemirror_mode": {
    "name": "ipython",
    "version": 3
   },
   "file_extension": ".py",
   "mimetype": "text/x-python",
   "name": "python",
   "nbconvert_exporter": "python",
   "pygments_lexer": "ipython3",
   "version": "3.7.3"
  }
 },
 "nbformat": 4,
 "nbformat_minor": 2
}
