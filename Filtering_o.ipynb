{
 "cells": [
  {
   "cell_type": "markdown",
   "metadata": {},
   "source": [
    "# Filtering\n",
    "\n",
    "Function to develop/test the filtering based on a checkerboard of white and grey squares."
   ]
  },
  {
   "cell_type": "markdown",
   "metadata": {},
   "source": [
    "## Initialization and imports\n",
    "\n",
    "Imports libraries and initializes the communication with Thymio through USB port.\n",
    "\n",
    "### Look-up table for ports:\n",
    "Replace `/dev/cu.usbmodem142101` (or current port value) below by the correct computer port:\n",
    "\n",
    "Lucas: `\\\\.\\COM3` for USB-cable and `\\\\.\\COM4` for USB-dongle\n",
    "\n",
    "Emma: ` `\n",
    "\n",
    "Elise: ` `\n",
    "\n",
    "Océane: ` `"
   ]
  },
  {
   "cell_type": "code",
   "execution_count": 2,
   "metadata": {},
   "outputs": [
    {
     "name": "stdout",
     "output_type": "stream",
     "text": [
      "Thymio has already been connected to the computer\n"
     ]
    }
   ],
   "source": [
    "import time\n",
    "import os\n",
    "import sys\n",
    "import serial\n",
    "from math import *\n",
    "import numpy as np\n",
    "from numpy import random as rand\n",
    "\n",
    "# Variable to know if Thymio has already been connected before or not (== 1 if it is the case)\n",
    "try:\n",
    "    CONNECC\n",
    "except NameError:\n",
    "    CONNECC = 0\n",
    "    print('Thymio will be connected.')\n",
    "else:\n",
    "    if CONNECC:\n",
    "        print('Thymio has already been connected to the computer')\n",
    "\n",
    "# Adding the src folder in the current directory as it contains the script\n",
    "# with the Thymio class\n",
    "sys.path.insert(0, os.path.join(os.getcwd(), 'src'))\n",
    "\n",
    "from Thymio import Thymio\n",
    "\n",
    "# Print the path to Python3 executable\n",
    "# print(sys.executable)\n",
    "\n",
    "if CONNECC == 0:\n",
    "    th = Thymio.serial(port=\"\\\\.\\COM3\", refreshing_rate=0.1)\n",
    "    print('Pablo has been connected to the computer')\n",
    "    CONNECC = 1\n",
    "    time.sleep(1)"
   ]
  },
  {
   "cell_type": "code",
   "execution_count": null,
   "metadata": {},
   "outputs": [],
   "source": [
    "# TEST\n",
    "\n",
    "th.set_var(\"motor.left.target\", 100)\n",
    "th.set_var(\"motor.right.target\", 100)\n",
    "time.sleep(1)\n",
    "\n",
    "a = time.time()\n",
    "b = a\n",
    "while b - a < 1:\n",
    "    print(th[\"motor.left.speed\"], th[\"motor.right.speed\"])\n",
    "    b = time.time()\n",
    "    \n",
    "th.set_var(\"motor.left.target\", 0)\n",
    "th.set_var(\"motor.right.target\", 0)"
   ]
  },
  {
   "cell_type": "code",
   "execution_count": null,
   "metadata": {},
   "outputs": [],
   "source": [
    "th.set_var(\"motor.left.target\", 100)\n",
    "th.set_var(\"motor.right.target\", 100)\n",
    "a = time.time()\n",
    "b = a\n",
    "while b-a < 1.5:\n",
    "    print(th[\"prox.ground.delta\"])\n",
    "    b = time.time()\n",
    "th.set_var(\"motor.left.target\", 0)\n",
    "th.set_var(\"motor.right.target\", 0)"
   ]
  },
  {
   "cell_type": "markdown",
   "metadata": {},
   "source": [
    "## (Odometry)\n",
    "\n",
    "Important stuff are the coefficients for the odometry and the global structure of the code to make the Thymio moves towards the defined goal:"
   ]
  },
  {
   "cell_type": "code",
   "execution_count": null,
   "metadata": {},
   "outputs": [],
   "source": [
    "counter = 0\n",
    "VelLeft = 100\n",
    "VelRight = -100\n",
    "adjust = 1.9 #4.15\n",
    "SpeedGain = adjust*0.0325 * 10**(-3)\n",
    "timer = 1 * 10**(-3) # 1ms\n",
    "b = 0.095 # distance between Thymio's wheels in m\n",
    "\n",
    "X = 0\n",
    "Y = 0\n",
    "Theta = 0\n",
    "\n",
    "t = 0\n",
    "\n",
    "while counter < 1000:\n",
    "    #a = time.time()\n",
    "    counter += 1\n",
    "    th.set_var(\"motor.right.target\", VelRight)\n",
    "    th.set_var(\"motor.left.target\", VelLeft)\n",
    "\n",
    "    DTheta = SpeedGain*(VelLeft - VelRight)/(2*b)\n",
    "    DS = SpeedGain*(VelLeft + VelRight)/2\n",
    "    \n",
    "    Theta += DTheta\n",
    "    X += DS*cos(radians(Theta))\n",
    "    Y += DS*sin(radians(Theta))\n",
    "\n",
    "    time.sleep(timer)\n",
    "    #b = time.time()\n",
    "    #t += b-a\n",
    "\n",
    "#print(t)\n",
    "th.set_var(\"motor.right.target\", 0)\n",
    "th.set_var(\"motor.left.target\", 0)\n",
    "\n",
    "print(X)\n",
    "print(Y)\n",
    "print(Theta)"
   ]
  },
  {
   "cell_type": "markdown",
   "metadata": {},
   "source": [
    "## To do:\n",
    "\n",
    "- Définir fonctions et classes utiles à l'ensemble du déplacement du Thymio\n",
    "    - markers2reality traduit les coordonnées des cases du damier en cm DONE\n",
    "    - Thymio contient la position du Thymio ainsi que permet de régler la vitesse des roues et récupérer les informations relatives aux différents capteurs DONE\n",
    "    - Kalmanfilter est la classe qui contiendra les différentes matrices nécessaires au filtrage\n",
    "        - Concernant le filtrage en lui-même: état X = (x, y, theta); A = matrice identité; B = odometry (change avec l'état du Thymio, car varie avec l'angle du Thymio, voir slides 19-20 cours sur la localisation) dont un exemple se trouve ci-dessus, les facteurs adjust et 0.0325 sont déduit par expériences, ils changeront probablement dû au chgt de la durée d'une boucle par rapport à l'exemple ci-dessus, il faudra donc préalablement dire que l'odométrie est parfaite, faire des tests pour voir si l'odométrie est satisfaisante ou non* (voir notes en bas); C = matrice identité si mesures == prédictions, sinon il faut changer les valeurs (c'est la dernière grande inconnue, je pense que ça se fait par intuitions premièrement, et ensuite à tâtons lors des tests, ne vous embêtez pas trop avec ça pour le moment, dîtes que c'est égal à 2 fois l'identité par exemple)\n",
    "    - Si d'autres fonctions/classes vous semblent intéressantes à créer vous gêner pas évidemment\n",
    "- Créer la boucle principale, celle-ci doit effectuer les tâches suivantes dans cet ordre:\n",
    "    - Initialiser la classe Thymio avec la start position voulue\n",
    "    - Déterminer la vitesse qu'il faut appliquer aux roues afin d'atteindre le prochain objectif (qu'il faut définir évidemment, ça peut simplement se faire par coordonnées des cases évidemment)\n",
    "    - Bouger le thymio \n",
    "    - Appliquer le filtrage pour déterminer la nouvelle position du Thymio\n",
    "    - Si le goal est considéré comme atteint (|X - goal| < epsilon, tel que epsilon << 1), alors définir goal suivant, sauf si c'était la fin, dans ce cas, Pablo commence à faire du break dance.\n",
    "    \n",
    "*NOTES*: lorsque vous aurez tout coder, il faudra tester le tout en disant que l'odométrie est parfaite, mais en faisant quand même tous les calculs de filtrage!!! Pour déterminer les coefficients d'ajustement de l'odométrie qui dépendent forcément de la durée d'une boucle complète!\n",
    "Evidemment, ne suivez pas bêtement cette liste de choses à faire si vous pensez qu'il est possible de faire mieux, je ne suis pas Dieu, j'ai pratiquement rien foutu hier soir.\n",
    "    "
   ]
  },
  {
   "cell_type": "markdown",
   "metadata": {},
   "source": [
    "## Definitions"
   ]
  },
  {
   "cell_type": "markdown",
   "metadata": {},
   "source": [
    "### Functions"
   ]
  },
  {
   "cell_type": "markdown",
   "metadata": {},
   "source": [
    "#### markers2reality:\n",
    "\n",
    "This function gives the position in real coordinates (cm) of the given markers coordinates (matrix coordinates). The checkerboard pattern has 6cm sided squares:"
   ]
  },
  {
   "cell_type": "code",
   "execution_count": 6,
   "metadata": {},
   "outputs": [],
   "source": [
    "def markers2reality(mx, my):\n",
    "    x = (2*mx + 1)*3\n",
    "    y = (2*my + 1)*3\n",
    "    return x,y"
   ]
  },
  {
   "cell_type": "code",
   "execution_count": 7,
   "metadata": {},
   "outputs": [],
   "source": [
    "def convert_cm_to_grid(x,y):\n",
    "    x_grid = floor(x/size_marker_cm)\n",
    "    y_grid = floor(y/size_marker_cm)\n",
    "    return [x_grid,y_grid]"
   ]
  },
  {
   "cell_type": "markdown",
   "metadata": {},
   "source": [
    "#### ground_sensor_theoretical:"
   ]
  },
  {
   "cell_type": "code",
   "execution_count": 8,
   "metadata": {},
   "outputs": [],
   "source": [
    "def gst(pos, occupancy_grid): #theta in degrees, x, y, in cm\n",
    "    pos_grid = convert_cm_to_grid(pos[0],pos[1])\n",
    "    alpha = 9\n",
    "    dist_sensor_center = 7.9\n",
    "    \n",
    "    if (pos[0]<0) or (pos[1]<0) or (pos_grid[0]>max_val_x) or (pos_grid[1]>max_val_y):\n",
    "        print('ERROR : Thymio out of the grid')\n",
    "        return\n",
    "    pos_sensor_left = [dist_sensor_center*sin((90 - pos[2] - alpha)*pi/180), \n",
    "                       dist_sensor_center*cos((90 - pos[2] - alpha)*pi/180)]\n",
    "    pos_sensor_right = [dist_sensor_center*sin((90 - pos[2] + alpha)*pi/180),\n",
    "                        dist_sensor_center*cos((90 - pos[2] + alpha)*pi/180)]\n",
    "    \n",
    "    pos_sensor_left_grid = convert_cm_to_grid(pos[0] + pos_sensor_left[0], pos[1] + pos_sensor_left[1])\n",
    "    pos_sensor_right_grid = convert_cm_to_grid(pos[0] + pos_sensor_right[0], pos[1] + pos_sensor_right[1])\n",
    "    #print(\"POS SENSOR GRID: \",pos_sensor_left_grid, pos_sensor_right_grid)\n",
    "    \n",
    "    left = occupancy_grid[int(pos_sensor_left_grid[0]), int(pos_sensor_left_grid[1])]\n",
    "    right = occupancy_grid[int(pos_sensor_right_grid[0]), int(pos_sensor_right_grid[1])]\n",
    "    return [left, right]"
   ]
  },
  {
   "cell_type": "markdown",
   "metadata": {},
   "source": [
    "### Classes"
   ]
  },
  {
   "cell_type": "markdown",
   "metadata": {},
   "source": [
    "#### Pablo\n",
    "\n",
    "This class designates the robot, including its state (x, y and theta) and the different functions that control its displacement:"
   ]
  },
  {
   "cell_type": "code",
   "execution_count": 253,
   "metadata": {},
   "outputs": [],
   "source": [
    "class robot:\n",
    "    def __init__(self, x, y): # x and y are in cm, theta in degrees\n",
    "        self.x = x\n",
    "        self.y = y\n",
    "        self.theta = 90\n",
    "        self.ground = [0,0]\n",
    "        self.front = [0,0,0,0,0]\n",
    "    \n",
    "    def set_pos(self, pos):\n",
    "        self.x = pos[0]\n",
    "        self.y = pos[1]\n",
    "        self.theta = pos[2]\n",
    "    \n",
    "    def get_ground(self):\n",
    "        delta_threshold = 750\n",
    "        self.ground = th[\"prox.ground.delta\"]\n",
    "        if self.ground[0] > delta_threshold:\n",
    "            self.ground[0] = 0\n",
    "        else:\n",
    "            self.ground[0] = 5\n",
    "        if self.ground[1] > delta_threshold:\n",
    "            self.ground[1] = 0\n",
    "        else:\n",
    "            self.ground[1] = 5\n",
    "        return self.ground\n",
    "        \n",
    "    def get_front(self):\n",
    "        self.front = th[\"prox.horizontal\"][0:4]\n",
    "        return self.front\n",
    "    \n",
    "    def speed(self):\n",
    "        return th[\"motor.left.speed\"], th[\"motor.right.speed\"]\n",
    "    \n",
    "    def move(self, u): # soit simplement set la vitesse des roues, possible de faire l'odometry ici aussi je pense\n",
    "        \n",
    "        # Move thymio depending on the control inputs u\n",
    "        if u[0] >= 0:\n",
    "            th.set_var(\"motor.left.target\", u[0])\n",
    "        else:\n",
    "            th.set_var(\"motor.left.target\", 2**16 + u[0])\n",
    "        if u[1] >= 0:\n",
    "            th.set_var(\"motor.right.target\", u[1])\n",
    "        else:\n",
    "            th.set_var(\"motor.right.target\", 2**16 + u[1])\n",
    "        \n",
    "    def nopuedo(self): # je sais pas encore ce que c'est, mais ce sera quelque chose j'imagine, jpp, arg, prout, pouet\n",
    "        pass\n",
    "    \n",
    "        \n",
    "    def __repr__(self): # called when print(Thymio) is used\n",
    "        return \"(x, y, theta) = (%.2f, %.2f, %.1f)\" %(self.x, self.y, self.theta)"
   ]
  },
  {
   "cell_type": "markdown",
   "metadata": {},
   "source": [
    "#### Filter:\n",
    "\n",
    "Gives the control input to the Thymio."
   ]
  },
  {
   "cell_type": "code",
   "execution_count": null,
   "metadata": {},
   "outputs": [],
   "source": [
    "class Filter:\n",
    "    def __init__(self, next_goal):\n",
    "        self.next_goal = next_goal\n",
    "        self.mode = 'rotate'\n",
    "    \n",
    "    def define_mode(self, pos)\n",
    "        \n",
    "        \n",
    "    def control_input(self,pos,occupancy_grid):\n",
    "        condition_left = (self.next_goal[0] == ground_sensor_theoretical(pos,occupancy_grid)[0])\n",
    "        condition_right = (self.next_goal[1] == ground_sensor_theoretical(pos,occupancy_grid)[1])\n",
    "        if (condition_left and condition_right):\n",
    "            u = [100, 100]\n",
    "        elif (condition_left and (not condition_right)):\n",
    "            u = [-50, 50]\n",
    "        elif ((not condition_left) and condition_right):\n",
    "            u = [50, -50]\n",
    "        else\n",
    "            u = [100, 100]\n",
    "            \n",
    "        "
   ]
  },
  {
   "cell_type": "code",
   "execution_count": null,
   "metadata": {},
   "outputs": [],
   "source": [
    "def closest_possible_state(occupancy_grid, robot):\n",
    "    found = 0\n",
    "    pos = robot.pos()\n",
    "    for distance in np.linspace(0.1,2,20):\n",
    "        for angle in np.linpsace(0,15,16):\n",
    "            if (gst(pos + [distance*cos(pos[2] + angle), distance*sin(pos[2] + angle), pos[2] + angle], occupancy_grid)\n",
    "                == robot.get_ground()):\n",
    "                y = pos + [distance*cos(pos[2] + angle), distance*sin(pos[2] + angle), angle]\n",
    "                found = 1\n",
    "            elif (gst(pos + [distance*cos(pos[2] - angle), distance*sin(pos[2] - angle), pos[2] - angle], occupancy_grid)\n",
    "                == robot.get_ground()):\n",
    "                y = pos + [distance*cos(pos[2] - angle), distance*sin(pos[2] - angle), -angle]\n",
    "                found = 1\n",
    "            if found == 1:\n",
    "                break\n",
    "        if found == 1:\n",
    "            break\n",
    "    return y\n",
    "            \n",
    "            "
   ]
  },
  {
   "cell_type": "code",
   "execution_count": 10,
   "metadata": {},
   "outputs": [],
   "source": [
    "def convert_aseba_to_speed(u):\n",
    "    b = 0.095\n",
    "    adjust = 0.06 #* 10**(-3)\n",
    "    odo_coeff = [adjust, adjust/3 * pi/180]\n",
    "    \n",
    "    dtheta = odo_coeff[1]*(u[1]-u[0])/(b)\n",
    "    ds = odo_coeff[0]*(u[0] + u[1])/2\n",
    "    return [ds, dtheta]"
   ]
  },
  {
   "cell_type": "code",
   "execution_count": 11,
   "metadata": {},
   "outputs": [],
   "source": [
    "def elapsed_time(t):\n",
    "    return time.time(), time.time() - t"
   ]
  },
  {
   "cell_type": "code",
   "execution_count": 67,
   "metadata": {},
   "outputs": [
    {
     "name": "stdout",
     "output_type": "stream",
     "text": [
      "[0.0, -0.7348754745239282]\n",
      "0.0009970664978027344\n"
     ]
    }
   ],
   "source": [
    "print(convert_aseba_to_speed([100,-100]))\n",
    "\n",
    "t1 = time.time()\n",
    "t2 = time.time()\n",
    "print(t2-t1)"
   ]
  },
  {
   "cell_type": "code",
   "execution_count": 65,
   "metadata": {},
   "outputs": [
    {
     "name": "stdout",
     "output_type": "stream",
     "text": [
      "6.0272896536217315 0.0\n"
     ]
    }
   ],
   "source": [
    "u = [100, 100]\n",
    "#th.set_var(\"motor.left.target\", u[0])\n",
    "#th.set_var(\"motor.right.target\", 2**16 + u[1])\n",
    "x = 0\n",
    "theta = 0\n",
    "time1 = time.time()\n",
    "t = [time.time(),time.time(), time.time()]\n",
    "while time.time() - t[2] < 1:\n",
    "    x += convert_aseba_to_speed(u)[0]*(time.time() - t[1] + 2.5*10**(-7)) # 0.25 us d'éxécution de la ligne\n",
    "    t[1] = time.time()\n",
    "    theta += convert_aseba_to_speed(u)[1]*(time.time() - t[0] + 2.5*10**(-7))\n",
    "    t[0] = time.time()\n",
    "\n",
    "print(x, theta)    \n",
    "u = [0,0]\n",
    "#th.set_var(\"motor.left.target\", u[0])\n",
    "#th.set_var(\"motor.right.target\", u[1])"
   ]
  },
  {
   "cell_type": "code",
   "execution_count": null,
   "metadata": {},
   "outputs": [],
   "source": []
  },
  {
   "cell_type": "markdown",
   "metadata": {},
   "source": [
    "#### Kalmanfilter\n",
    "\n",
    "Extended Kalman filter called at each iteration after Thymio's movement. See lecture on Uncertainties slides 33-end. Previous lecture on Localisation might be useful as well, odometry slides 19-20 and intro. to uncertainties slides 23-37."
   ]
  },
  {
   "cell_type": "code",
   "execution_count": 291,
   "metadata": {},
   "outputs": [],
   "source": [
    "class Kalmanfilter:\n",
    "    def __init__(self, robot, t_init):\n",
    "        self.A = np.array([[1,0,0,T,0,0][0,1,0,0,T,0],[0,0,1,0,0,T],[0,0,0,1,0,0],[0,0,0,0,1,0],[0,0,0,0,0,1]]) # jacobian, constant\n",
    "        #self.B = \n",
    "        self.C = np.array([[[0,0,0,0,0,0][0,0,0,0,0,0],[0,0,0,0,0,0],[0,0,0,1,0,0],[0,0,0,0,1,0],[0,0,0,0,0,1]],\n",
    "                           [[1,0,0,0,0,0][0,1,0,0,0,0],[0,0,1,0,0,0],[0,0,0,1,0,0],[0,0,0,0,1,0],[0,0,0,0,0,1]]])\n",
    "        self.R = np.array([[0.1,0,0,0,0,0][0,0.1,0,0,0,0],[0,0,0.1,0,0,0],[0,0,0,0.1,0,0],[0,0,0,0,0.1,0],[0,0,0,0,0,0.1]]) # displacement noise covariance matrix\n",
    "        self.Q = np.array([[0.1,0,0,0,0,0][0,0.1,0,0,0,0],[0,0,0.1,0,0,0],[0,0,0,0.1,0,0],[0,0,0,0,0.1,0],[0,0,0,0,0,0.1]]) # measurement noise, constant\n",
    "        self.mu = robot.pos # current mean, aka current state, MUST BE A VERTICAL VECTOR AS A NUMPY ARRAY 3x1\n",
    "        self.Sigma = np.array([[0,0,0,0,0,0][0,0,0,0,0,0],[0,0,0,0,0,0],[0,0,0,0,0,0],[0,0,0,0,0,0],[0,0,0,0,0,0]]) # current covariance matrix\n",
    "        self.b = 0.095 # distance between Thymio's wheels in m\n",
    "        self.t = t_init\n",
    "        # self.ground\n",
    "        \n",
    "    def predict(self, robot, occupancy_grid, u):\n",
    "        # First step: preliminary prediction based only on odometry\n",
    "        \n",
    "        # Calculate B*u term by term because it is not linear, cosinus and sinus ma boi\n",
    "        odo_coeff = 0.062 * 10**(-3) # random shit ma boi\n",
    "        dtheta = odo_coeff*(u[0]-u[1])/(2*self.b)\n",
    "        ds = odo_coeff*(u[0] + u[1])/2\n",
    "        dx = ds*cos(radians(mu[2] + dtheta))\n",
    "        dy = ds*sin(radians(mu[2] + dtheta))\n",
    "        \n",
    "        \n",
    "        \n",
    "        # Compute preliminary mû and Sigma\n",
    "        self.mu = np.dot(self.A,self,mu) + np.array([[dx],[dy],[dtheta]])\n",
    "        self.Sigma = np.dot(np.dot(self.A,self.Sigma),(self.A.T)) + self.R\n",
    "        \n",
    "        # Innovation step\n",
    "        if gst(pos, occupancy_grid) != robot.get_ground(): # if expectation =/= reality, we take measure to correct\n",
    "            y = closest_possible_state(occupancy_grid, robot)\n",
    "            \n",
    "            i = y - np.dot(C,self.mu)\n",
    "            S = np.dot(C, np.dot(self.Sigma, C.T)) + self.Q\n",
    "            K = np.dot(self.Sigma, np.dot(C.T, numpy.linalg.inv(S)))\n",
    "            \n",
    "            # Final step\n",
    "            self.mu += np.dot(K, i)\n",
    "            self.Sigma -= np.dot(K, np.dot(C, self.Sigma))\n",
    "            \n",
    "        return self.mu\n",
    "    \n",
    "    def innovation(self): # second step\n",
    "        return 0\n",
    "    \n",
    "    def aposteriori(self): # final step\n",
    "        return 0\n",
    "    "
   ]
  },
  {
   "cell_type": "code",
   "execution_count": 212,
   "metadata": {},
   "outputs": [],
   "source": [
    "\n",
    "class ParticlesF:\n",
    "    def __init__(self, M, robot, t):\n",
    "        self.M = M\n",
    "        self.t = t\n",
    "        for i in range(0,M):\n",
    "            d = rand.rand()*3 # cm\n",
    "            angle = rand.rand()*2*pi # angle to determine x and y with the distance d from the initial pos of Thymio\n",
    "            x = d*cos(angle) + robot.x\n",
    "            y = d*sin(angle) + robot.y\n",
    "            theta = (rand.rand()-0.5)*pi/6 + robot.theta # orientation of the thymio believed between -15° and +15°\n",
    "            \n",
    "            if i == 0:\n",
    "                self.particles = np.array([[x, y, theta]])\n",
    "                self.w = np.array([1/self.M])\n",
    "            else:\n",
    "                self.particles = np.append(self.particles, [[x, y, theta]], axis = 0)\n",
    "                self.w = np.append(self.w, [1/self.M], axis = 0)\n",
    "            #print(self.particles[i])\n",
    "    \n",
    "    def estimation(self, u, pos):\n",
    "        [ds, dtheta] = convert_aseba_to_speed(u)\n",
    "        self.t, T = elapsed_time(self.t)\n",
    "        esti = [0,0,0]\n",
    "        esti[2] = pos[2] + dtheta*T\n",
    "        esti[0] = pos[0] + ds*cos(radians(esti[2]))*T\n",
    "        esti[1] = pos[1] + ds*sin(radians(esti[2]))*T\n",
    "        # peut-être rajouter un peu d'aléatoire\n",
    "        for i in range(0,self.M):\n",
    "            self.particles[i,2] += dtheta*T\n",
    "            self.particles[i,0] += ds*cos(self.particles[i,2])*T # peut-être appliquer cos(theta + dtheta/2) plutôt que cos(theta + dtheta)\n",
    "            self.particles[i,1] += ds*sin(self.particles[i,2])*T\n",
    "        \n",
    "        return esti\n",
    "    \n",
    "    def believe(self, robot, u, occupancy_grid):\n",
    "        # Prediction stepasse\n",
    "        esti = ParticlesF.estimation(self, u, [robot.x, robot.y, robot.theta])\n",
    "        gst_esti = gst(esti, occupancy_grid)\n",
    "        weight_dic = {}\n",
    "        for i in range(0,self.M):\n",
    "            dist_to_esti = sqrt((esti[0] - self.particles[i,0])**2) + sqrt((esti[1] - self.particles[i,1])**2)\n",
    "            #print(dist_to_esti)\n",
    "            gst_part = gst(self.particles[i], occupancy_grid)\n",
    "            if gst_part == gst_esti:\n",
    "                gst_score = 2\n",
    "            elif gst_part[0] != gst_esti[0] and gst_part[1] != gst_esti[1]:\n",
    "                gst_score = 0\n",
    "            else:\n",
    "                gst_score = 1\n",
    "            \n",
    "            #print(gst_score)\n",
    "            if dist_to_esti < 0.2:\n",
    "                weight_dic[i] = 20 + 5*gst_score\n",
    "                #print(self.w[i])\n",
    "            else:\n",
    "                weight_dic[i] = 20 + 5*gst_score\n",
    "                #print(self.w[i])\n",
    "        \n",
    "        # Sort particles in the order of their weight\n",
    "        weight_dic = sorted(weight_dic.items(), key=operator.itemgetter(1), reverse=True)\n",
    "        selected = np.array([[0,0,0]])\n",
    "        for i in range(0,self.M):\n",
    "            if i == 0:\n",
    "                selected[i] = self.particles[weight_dic[i][0]]\n",
    "            else:\n",
    "                selected = np.append(selected, [self.particles[weight_dic[i][0]]], axis = 0)\n",
    "            self.w[i] = weight_dic[i][1]\n",
    "        \n",
    "        self.w = [i/sum(self.w) for i in self.w]\n",
    "        self.particles = selected\n",
    "        \n",
    "        # Believasse stepasse\n",
    "        for i in range(0,self.M):\n",
    "            p = rand.rand()\n",
    "            eliteSize = int(0.1*self.M)\n",
    "            if (i > eliteSize and p > self.w[i]):\n",
    "                d = rand.rand()*3 # cm\n",
    "                angle = rand.rand()*2*pi # angle to determine x and y with the distance d from the initial pos of Thymio\n",
    "                x = d*cos(angle) + esti[0]\n",
    "                y = d*sin(angle) + esti[1]\n",
    "                theta = (rand.rand()-0.5)*pi/6 + esti[2] # orientation of the thymio believed between -15° and +15°\n",
    "\n",
    "                self.particles[i,:] = [x, y, theta]\n",
    "                self.w[i] = 0.1/self.M\n",
    "        self.w = self.w/sum(self.w) # peut-être ajouter mutation ?\n",
    "        x = np.dot(self.particles[:,0], self.w.T)\n",
    "        y = np.dot(self.particles[:,1], self.w.T)\n",
    "        theta = np.dot(self.particles[:,2], self.w.T)\n",
    "        return [x, y, theta]\n",
    "        \n",
    "                "
   ]
  },
  {
   "cell_type": "code",
   "execution_count": null,
   "metadata": {},
   "outputs": [],
   "source": [
    "import numpy as np"
   ]
  },
  {
   "cell_type": "code",
   "execution_count": 13,
   "metadata": {},
   "outputs": [],
   "source": [
    "def checkerboard(occupancy_grid):\n",
    "    \n",
    "    for x in range (0,max_val_x):\n",
    "        for y in range (0,max_val_y):\n",
    "            if not occupancy_grid[x,y]:\n",
    "                if ((x + y)%2):\n",
    "                    occupancy_grid[x,y] = marker_here\n",
    "            \n",
    "    return occupancy_grid"
   ]
  },
  {
   "cell_type": "code",
   "execution_count": 260,
   "metadata": {},
   "outputs": [
    {
     "data": {
      "text/plain": [
       "[<matplotlib.lines.Line2D at 0x2597f0b65c0>]"
      ]
     },
     "execution_count": 260,
     "metadata": {},
     "output_type": "execute_result"
    },
    {
     "data": {
      "image/png": "[encoded data removed]",
      "text/plain": [
       "<Figure size 432x288 with 1 Axes>"
      ]
     },
     "metadata": {
      "needs_background": "light"
     },
     "output_type": "display_data"
    }
   ],
   "source": [
    "import numpy as np\n",
    "from numpy import random as rand\n",
    "from math import *\n",
    "import time\n",
    "import matplotlib.pyplot as plt\n",
    "from matplotlib import colors\n",
    "size_marker_cm = 6\n",
    "max_val_x = 100\n",
    "max_val_y = 100\n",
    "marker_here = 5\n",
    "\n",
    "\n",
    "occupancy = np.zeros((max_val_x, max_val_y))\n",
    "occupancy = checkerboard(occupancy)\n",
    "x, y = markers2reality(1,1)\n",
    "Pablo = robot(x,y)\n",
    "M = 500\n",
    "particules = ParticlesF(M, Pablo, time.time())\n",
    "\n",
    "u = [100,50]\n",
    "t1 = time.time()\n",
    "t2 = t1\n",
    "while t2 - t1 < 5:\n",
    "    Pablo.set_pos(particules.believe(Pablo, u, occupancy))\n",
    "    t2 = time.time()\n",
    "    \n",
    "\n",
    "plt.figure()\n",
    "for i in range(0,M):\n",
    "    plt.plot(particules.particles[i,0], particules.particles[i,1], color=((M/10)*particules.w[i],0,0), marker='.')\n",
    "plt.plot(Pablo.x, Pablo.y, 'yo')"
   ]
  },
  {
   "cell_type": "code",
   "execution_count": null,
   "metadata": {},
   "outputs": [],
   "source": []
  },
  {
   "cell_type": "code",
   "execution_count": 56,
   "metadata": {},
   "outputs": [
    {
     "name": "stdout",
     "output_type": "stream",
     "text": [
      "[0.         0.02222222 0.04444444 0.06666667 0.08888889 0.11111111\n",
      " 0.13333333 0.15555556 0.17777778 0.2       ]\n"
     ]
    }
   ],
   "source": [
    "import numpy as np\n",
    "\n",
    "r = np.array([0])\n",
    "for i in range(1,10):\n",
    "    r = np.append(r, [i], axis=0)\n",
    "print(r/sum(r))  "
   ]
  },
  {
   "cell_type": "code",
   "execution_count": 155,
   "metadata": {},
   "outputs": [
    {
     "name": "stdout",
     "output_type": "stream",
     "text": [
      "[(7, 0.9152730994325984), (6, 0.7077528104310822), (2, 0.5896322579516724), (0, 0.46746230447980075), (3, 0.4421514269576329), (1, 0.3374943585647029), (5, 0.17510307774154388), (8, 0.16385165787725497), (4, 0.1617308292201356), (9, 0.03312388321608739)]\n",
      "[2, 3, 7, 9, 6, 8, 4, 1, 5, 0]\n"
     ]
    }
   ],
   "source": [
    "import operator\n",
    "\n",
    "a = {}\n",
    "b = [9,8,7,6,5,4,3,2,1,0]\n",
    "for i in range(0,10):\n",
    "    a[i] = rand.rand()\n",
    "c = sorted(a.items(), key=operator.itemgetter(1), reverse=True)\n",
    "print(c)\n",
    "selected = []\n",
    "for i in range(0,10):\n",
    "    selected.append(b[c[i][0]])\n",
    "print(selected)\n"
   ]
  },
  {
   "cell_type": "code",
   "execution_count": null,
   "metadata": {},
   "outputs": [],
   "source": []
  }
 ],
 "metadata": {
  "kernelspec": {
   "display_name": "Python 3",
   "language": "python",
   "name": "python3"
  },
  "language_info": {
   "codemirror_mode": {
    "name": "ipython",
    "version": 3
   },
   "file_extension": ".py",
   "mimetype": "text/x-python",
   "name": "python",
   "nbconvert_exporter": "python",
   "pygments_lexer": "ipython3",
   "version": "3.7.3"
  }
 },
 "nbformat": 4,
 "nbformat_minor": 2
}
