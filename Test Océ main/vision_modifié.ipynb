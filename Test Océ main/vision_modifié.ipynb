{
 "cells": [
  {
   "cell_type": "markdown",
   "metadata": {},
   "source": [
    "# Pablo the Thymio visits its first museum "
   ]
  },
  {
   "cell_type": "code",
   "execution_count": 22,
   "metadata": {},
   "outputs": [],
   "source": [
    "def convert_path_to_movements(path):\n",
    "    for i in range (0, len(path)-1):\n",
    "        p_x = path[i][0]\n",
    "        p_y = path[i][1]\n",
    "        n_x = path[i+1][0]\n",
    "        n_y = path[i+1][1]\n",
    "        theta = 0\n",
    "        d = 0\n",
    "        #This condition is needed, since when we do the Astar it will always use the start and end (visiting is start and end)\n",
    "        if(n_x != p_x or n_y != p_y):\n",
    "            #1st quadrant\n",
    "            if(n_x > p_x and n_y >= p_y):\n",
    "                theta = np.arctan(abs(n_y-p_y)/abs(n_x-p_x))\n",
    "            #2nd quadrant\n",
    "            elif(n_x <= p_x and n_y > p_y):\n",
    "                theta = pi/2 + np.arctan(abs(n_x-p_x)/abs(n_y-p_y))\n",
    "            #3rd quadrant\n",
    "            elif(n_x < p_x and n_y <= p_y):\n",
    "                theta = pi + np.arctan(abs(n_y-p_y)/abs(n_x-p_x))\n",
    "            #4th quadrant\n",
    "            elif(n_x >= p_x and n_y < p_y):\n",
    "                theta = 3*pi/2 + np.arctan(abs(n_x-p_x)/abs(n_y-p_y))\n",
    "\n",
    "            d = np.sqrt(np.power(abs(n_x-p_x),2)+np.power(abs(n_y-p_y),2))\n",
    "\n",
    "            if(i == 0):\n",
    "                move = np.array([[np.copy(theta)], [np.copy(d)]])\n",
    "            else:\n",
    "                move = np.append(move, [[np.copy(theta)],[np.copy(d)]], axis=1)\n",
    "        else:\n",
    "            move = np.append(move, [[0],[0]], axis=1)\n",
    "    return move"
   ]
  },
  {
   "cell_type": "code",
   "execution_count": 44,
   "metadata": {},
   "outputs": [],
   "source": [
    "def move_to_timer(theta,distance):\n",
    "    #~ 0.0325 cm/s for 1 \n",
    "    #1 carré = 6 cm\n",
    "    #rotation: ~9.32s for 360° with [100, -100] motor inputs => ~ 0.0067 rad/s for [1, -1] motor inputs\n",
    "    distance_in_1_s = 0.0325\n",
    "    time_for_one_turn = 9.32\n",
    "    distance_cm = distance*6\n",
    "    \n",
    "    time_to_turn = theta*time_for_one_turn/(2*pi)\n",
    "    time_forward =  distance_cm/distance_in_1_s\n",
    "\n",
    "    return time_to_turn, time_forward\n",
    "#On va utiliser ces timer dans la fonction pour avancer"
   ]
  },
  {
   "cell_type": "code",
   "execution_count": 47,
   "metadata": {},
   "outputs": [
    {
     "name": "stdout",
     "output_type": "stream",
     "text": [
      "(4.627971097203369, 923.0769230769231)\n"
     ]
    }
   ],
   "source": [
    "print(move_to_timer(3.12,5))"
   ]
  },
  {
   "cell_type": "code",
   "execution_count": 48,
   "metadata": {},
   "outputs": [
    {
     "ename": "TypeError",
     "evalue": "can't multiply sequence by non-int of type 'float'",
     "output_type": "error",
     "traceback": [
      "\u001b[1;31m---------------------------------------------------------------------------\u001b[0m",
      "\u001b[1;31mTypeError\u001b[0m                                 Traceback (most recent call last)",
      "\u001b[1;32m<ipython-input-48-6cb14cd55425>\u001b[0m in \u001b[0;36m<module>\u001b[1;34m\u001b[0m\n\u001b[0;32m      1\u001b[0m \u001b[1;32mfor\u001b[0m \u001b[0mone_move\u001b[0m \u001b[1;32min\u001b[0m \u001b[0mmove\u001b[0m\u001b[1;33m:\u001b[0m\u001b[1;33m\u001b[0m\u001b[1;33m\u001b[0m\u001b[0m\n\u001b[1;32m----> 2\u001b[1;33m     \u001b[0mt_t\u001b[0m\u001b[1;33m,\u001b[0m \u001b[0mt_f\u001b[0m \u001b[1;33m=\u001b[0m \u001b[0mmove_to_timer\u001b[0m\u001b[1;33m(\u001b[0m\u001b[0mmove\u001b[0m\u001b[1;33m[\u001b[0m\u001b[1;36m1\u001b[0m\u001b[1;33m]\u001b[0m\u001b[1;33m,\u001b[0m\u001b[0mmove\u001b[0m\u001b[1;33m[\u001b[0m\u001b[1;36m0\u001b[0m\u001b[1;33m]\u001b[0m\u001b[1;33m)\u001b[0m\u001b[1;33m\u001b[0m\u001b[1;33m\u001b[0m\u001b[0m\n\u001b[0m\u001b[0;32m      3\u001b[0m     \u001b[0mth\u001b[0m\u001b[1;33m.\u001b[0m\u001b[0mset_var\u001b[0m\u001b[1;33m(\u001b[0m\u001b[1;34m\"motor.right.target\"\u001b[0m\u001b[1;33m,\u001b[0m \u001b[1;36m100\u001b[0m\u001b[1;33m)\u001b[0m\u001b[1;33m\u001b[0m\u001b[1;33m\u001b[0m\u001b[0m\n\u001b[0;32m      4\u001b[0m     \u001b[0mth\u001b[0m\u001b[1;33m.\u001b[0m\u001b[0mset_var\u001b[0m\u001b[1;33m(\u001b[0m\u001b[1;34m\"motor.left.target\"\u001b[0m\u001b[1;33m,\u001b[0m \u001b[1;33m-\u001b[0m\u001b[1;36m100\u001b[0m\u001b[1;33m)\u001b[0m\u001b[1;33m\u001b[0m\u001b[1;33m\u001b[0m\u001b[0m\n\u001b[0;32m      5\u001b[0m     \u001b[0mtime\u001b[0m\u001b[1;33m.\u001b[0m\u001b[0msleep\u001b[0m\u001b[1;33m(\u001b[0m\u001b[0mt_t\u001b[0m\u001b[1;33m)\u001b[0m\u001b[1;33m\u001b[0m\u001b[1;33m\u001b[0m\u001b[0m\n",
      "\u001b[1;32m<ipython-input-44-b2db23c2b1f4>\u001b[0m in \u001b[0;36mmove_to_timer\u001b[1;34m(theta, distance)\u001b[0m\n\u001b[0;32m      7\u001b[0m     \u001b[0mdistance_cm\u001b[0m \u001b[1;33m=\u001b[0m \u001b[0mdistance\u001b[0m\u001b[1;33m*\u001b[0m\u001b[1;36m6\u001b[0m\u001b[1;33m\u001b[0m\u001b[1;33m\u001b[0m\u001b[0m\n\u001b[0;32m      8\u001b[0m \u001b[1;33m\u001b[0m\u001b[0m\n\u001b[1;32m----> 9\u001b[1;33m     \u001b[0mtime_turn\u001b[0m \u001b[1;33m=\u001b[0m \u001b[0mtheta\u001b[0m\u001b[1;33m*\u001b[0m\u001b[0mtime_for_one_turn\u001b[0m\u001b[1;33m/\u001b[0m\u001b[1;33m(\u001b[0m\u001b[1;36m2\u001b[0m\u001b[1;33m*\u001b[0m\u001b[0mpi\u001b[0m\u001b[1;33m)\u001b[0m\u001b[1;33m\u001b[0m\u001b[1;33m\u001b[0m\u001b[0m\n\u001b[0m\u001b[0;32m     10\u001b[0m     \u001b[0mtime_forward\u001b[0m \u001b[1;33m=\u001b[0m  \u001b[0mdistance_cm\u001b[0m\u001b[1;33m/\u001b[0m\u001b[0mdistance_in_1_s\u001b[0m\u001b[1;33m\u001b[0m\u001b[1;33m\u001b[0m\u001b[0m\n\u001b[0;32m     11\u001b[0m \u001b[1;33m\u001b[0m\u001b[0m\n",
      "\u001b[1;31mTypeError\u001b[0m: can't multiply sequence by non-int of type 'float'"
     ]
    }
   ],
   "source": [
    "State = 0 # State == 0 => Thymio goes straight, State == 1 => Thymio is in obstacle avoidance mode\n",
    "Velocity_0 = 100\n",
    "Obstacle_gain = [10, 15]\n",
    "Threshold_enter_obstavoid = 20 # Threshold to enter obstacle avoidance mode\n",
    "Threshold_quit_obstavoid = 10 # Threshold to quit obstacle avoidance mode\n",
    "Timer = 1 * 10**(-3) # 1ms\n",
    "current_move = move.remove(move[0])\n",
    "d_needed = current_move[0]\n",
    "theta_needed = current_move[1]\n",
    "d_parcourue = 0\n",
    "\n",
    "while(1 and x+epsilon < path[-1][0] and y+epsilon < path[-1][1]):\n",
    "    if (State == 0 and\n",
    "        (th[\"prox.horizontal\"][0] > Threshold_enter_obstavoid or\n",
    "        th[\"prox.horizontal\"][1] > Threshold_enter_obstavoid or\n",
    "        th[\"prox.horizontal\"][2] > Threshold_enter_obstavoid or\n",
    "        th[\"prox.horizontal\"][3] > Threshold_enter_obstavoid or\n",
    "        th[\"prox.horizontal\"][4] > Threshold_enter_obstavoid)): # enter obstacle avoidance\n",
    "        State = 1\n",
    "    elif (State == 1 and\n",
    "        th[\"prox.horizontal\"][0] < Threshold_quit_obstavoid and\n",
    "        th[\"prox.horizontal\"][1] < Threshold_enter_obstavoid and\n",
    "        th[\"prox.horizontal\"][2] < Threshold_enter_obstavoid and\n",
    "        th[\"prox.horizontal\"][3] < Threshold_enter_obstavoid and\n",
    "        th[\"prox.horizontal\"][4] < Threshold_quit_obstavoid): # quit obstacle avoidance\n",
    "        State = 0\n",
    "    \n",
    "    if State == 0: #not avoidance, we do whatever\n",
    "        #Correction orientation en temps réel\n",
    "        if theta+epsilon_theta < theta_needed and theta-epsilon_theta > theta_needed :\n",
    "            if(theta+epsilon_theta<theta_needed):\n",
    "                th.set_var(\"motor.right.target\", 100)\n",
    "                th.set_var(\"motor.left.target\", 2**16 - 100)\n",
    "            else:\n",
    "                th.set_var(\"motor.right.target\", 2**16 - 100)\n",
    "                th.set_var(\"motor.left.target\", 100)\n",
    "        #Sinon avance chillement\n",
    "        else:\n",
    "            th.set_var(\"motor.right.target\", 100)\n",
    "            th.set_var(\"motor.left.target\", 100)\n",
    "            d_parcourue += d_main\n",
    "            if(d_parcourue >= d_needed):\n",
    "                #On vide la liste au fur et à mesure qu'on fait les déplacements\n",
    "                current_move = move.remove(move[0])\n",
    "                d_needed = current_move[0]\n",
    "                theta_needed = current_move[1]\n",
    "                d_parcourue = 0\n",
    "    else: # avoid obstacle depending on sensors values\n",
    "        if (th[\"prox.horizontal\"][0] == 0 and\n",
    "            th[\"prox.horizontal\"][1] == 0 and\n",
    "            th[\"prox.horizontal\"][3] == 0 and\n",
    "            th[\"prox.horizontal\"][4] == 0):\n",
    "            Left_gain = 0\n",
    "            Right_gain = int(Obstacle_gain[1]*(th[\"prox.horizontal\"][2]/100))\n",
    "        else:\n",
    "            Left_gain = int(Obstacle_gain[0]*(th[\"prox.horizontal\"][4]/100)) + int(Obstacle_gain[1]*(th[\"prox.horizontal\"][3]/100))\n",
    "            Right_gain = int(Obstacle_gain[0]*(th[\"prox.horizontal\"][0]/100)) + int(Obstacle_gain[1]*(th[\"prox.horizontal\"][1]/100))\n",
    "        \n",
    "        if Left_gain > Velocity_0:\n",
    "            th.set_var(\"motor.left.target\", 2**16 + (Velocity_0 - Left_gain))\n",
    "        else:\n",
    "            th.set_var(\"motor.left.target\", (Velocity_0 - Left_gain))\n",
    "        \n",
    "        if Right_gain > Velocity_0:\n",
    "            th.set_var(\"motor.right.target\", 2**16 + (Velocity_0 - Right_gain))\n",
    "        else:\n",
    "            th.set_var(\"motor.right.target\", (Velocity_0 - Right_gain))\n",
    "        \n",
    "    time.sleep(Timer) # wait 1ms before relooping\n",
    "\n",
    "\n",
    "th.set_var(\"motor.right.target\", 0)\n",
    "th.set_var(\"motor.left.target\", 0)"
   ]
  },
  {
   "cell_type": "code",
   "execution_count": null,
   "metadata": {},
   "outputs": [],
   "source": []
  }
 ],
 "metadata": {
  "kernelspec": {
   "display_name": "Python 3",
   "language": "python",
   "name": "python3"
  },
  "language_info": {
   "codemirror_mode": {
    "name": "ipython",
    "version": 3
   },
   "file_extension": ".py",
   "mimetype": "text/x-python",
   "name": "python",
   "nbconvert_exporter": "python",
   "pygments_lexer": "ipython3",
   "version": "3.7.4"
  }
 },
 "nbformat": 4,
 "nbformat_minor": 2
}
