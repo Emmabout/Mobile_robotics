{
 "cells": [
  {
   "cell_type": "markdown",
   "metadata": {},
   "source": [
    "# Pablo the Thymio visits its first museum "
   ]
  },
  {
   "cell_type": "markdown",
   "metadata": {},
   "source": [
    "Today, Pablo wants to go to the museum. Since he's never been in a art museum, he decide to go to the famous \"Aseba Museum\"! \n",
    "The lady at the entrance gives him a map of the museum and thymio decides to study it before visiting.\n",
    "He goes in the cafeteria, order a cup of coffee and take his 4-colors pen.\n",
    "He circles in red all the painting he wants to see, and draw a green path to see them all.\n",
    "\n",
    "The adventure now begins:\n"
   ]
  },
  {
   "cell_type": "markdown",
   "metadata": {},
   "source": [
    "**Libraries to import**"
   ]
  },
  {
   "cell_type": "code",
   "execution_count": 1,
   "metadata": {},
   "outputs": [],
   "source": [
    "import cv2\n",
    "import time\n",
    "import os\n",
    "import sys\n",
    "import serial\n",
    "import src\n",
    "import math\n",
    "\n",
    "import numpy as np\n",
    "from math import *\n",
    "\n",
    "%matplotlib notebook \n",
    "import matplotlib.pyplot as plt\n",
    "%matplotlib notebook\n",
    "from matplotlib import colors\n",
    "%matplotlib inline\n",
    "\n",
    "from bokeh.plotting import figure\n",
    "from bokeh.io import output_notebook, show, push_notebook\n",
    "from tqdm import tqdm\n",
    "\n",
    "import IPython.display as Disp\n",
    "from ipywidgets import widgets"
   ]
  },
  {
   "cell_type": "code",
   "execution_count": 2,
   "metadata": {},
   "outputs": [
    {
     "name": "stdout",
     "output_type": "stream",
     "text": [
      "Thymio will be connected.\n",
      "C:\\Users\\emmab\\Anaconda3\\python.exe\n"
     ]
    }
   ],
   "source": [
    "# Variable to know if Thymio has already been connected before or not (== 1 if it is the case)\n",
    "try:\n",
    "    CONNECC\n",
    "except NameError:\n",
    "    CONNECC = 0\n",
    "    print('Thymio will be connected.')\n",
    "\n",
    "# Adding the src folder in the current directory as it contains the script\n",
    "# with the Thymio class\n",
    "sys.path.insert(0, os.path.join(os.getcwd(), 'src'))\n",
    "\n",
    "from Thymio import Thymio\n",
    "\n",
    "# Print the path to Python3 executable\n",
    "print(sys.executable)"
   ]
  },
  {
   "cell_type": "code",
   "execution_count": 3,
   "metadata": {
    "scrolled": true
   },
   "outputs": [],
   "source": [
    "if CONNECC == 0:\n",
    "    CONNECC = 1\n",
    "    th = Thymio.serial(port=\"\\\\.\\COM5\", refreshing_rate=0.1)\n",
    "    time.sleep(1)\n",
    "th.set_var(\"motor.right.target\", 0)\n",
    "th.set_var(\"motor.left.target\", 0)"
   ]
  },
  {
   "cell_type": "markdown",
   "metadata": {},
   "source": [
    "**Magic numbers**"
   ]
  },
  {
   "cell_type": "code",
   "execution_count": 4,
   "metadata": {},
   "outputs": [],
   "source": [
    "#Code for the occupancy grid \n",
    "obstacle_here = 1\n",
    "painting_here = 2\n",
    "goal_here = 3\n",
    "start_here = 4\n",
    "marker_here = 5\n",
    "\n",
    "size_marker_cm = 6"
   ]
  },
  {
   "cell_type": "markdown",
   "metadata": {},
   "source": [
    "**Define global variables**"
   ]
  },
  {
   "cell_type": "code",
   "execution_count": 5,
   "metadata": {},
   "outputs": [],
   "source": [
    "#Size of the grid (defined in get_params())\n",
    "global max_val_x, max_val_y\n",
    "global list_delimitation #top left and bottom right corners [pixel]"
   ]
  },
  {
   "cell_type": "markdown",
   "metadata": {},
   "source": [
    "**Initialize the class Thymio, with position, sensor values etc**"
   ]
  },
  {
   "cell_type": "code",
   "execution_count": 6,
   "metadata": {},
   "outputs": [],
   "source": [
    "class T:\n",
    "    def __init__(self, x, y, vel): # x and y are in cm, theta in degrees\n",
    "        self.x = x\n",
    "        self.y = y\n",
    "        self.theta = 90\n",
    "        self.ground = [0,0]\n",
    "        self.front = [0,0,0,0,0]\n",
    "        self.vel = vel\n",
    "    \n",
    "    def set_pos(self, x, y, theta):\n",
    "        self.x = x\n",
    "        self.y = y\n",
    "        self.theta = theta\n",
    "    \n",
    "    def get_ground(self):\n",
    "        self.ground = th[\"prox.ground.delta\"] # à déterminer s'il vaut mieux choisir ground.ambiant, \n",
    "                                              # ground.delta\n",
    "        return self.ground                    # ou bien encore ground.... \n",
    "                                              #(le dernier des trois possibles, voir les variables Aseba)\n",
    "        \n",
    "    def get_front(self):\n",
    "        self.front = th[\"prox.horizontal\"][0:4]\n",
    "        return self.front\n",
    "        \n",
    "    def pos(self):\n",
    "        return [self.x, self.y, self.theta]\n",
    "    \n",
    "    def move(self, u): # soit simplement set la vitesse des roues, \n",
    "                       # possible de faire l'odometry ici aussi je pense\n",
    "        \n",
    "        # Move thymio depending on the control inputs u\n",
    "        th.set_var(\"motor.left.target\", u[0])\n",
    "        the.set_var(\"motor.right.target\", u[1])\n",
    "        \n",
    "        \n",
    "    def __repr__(self): # called when print(Thymio) is used\n",
    "        return \"(x, y, theta) = (%.2f, %.2f, %.1f)\" %(self.x, self.y, self.theta)"
   ]
  },
  {
   "cell_type": "markdown",
   "metadata": {},
   "source": [
    "# -----------------------------------------------VISION-----------------------------------------------\n",
    "\n",
    "The function `detect_images()` allows to detect an image (`template`) within another (`img`). We use this function to return the position of the center of each painting in the map. After trying the different methods for matching with the template, we found that the square difference normed seemed to work best."
   ]
  },
  {
   "cell_type": "code",
   "execution_count": 7,
   "metadata": {},
   "outputs": [],
   "source": [
    "def detect_image(img, template, display_images):\n",
    "    \"\"\"\n",
    "    Find template in img and draw a rectangle on it\n",
    "        if display_images, display the image\n",
    "    :return: coordinates of the center of the template in the image\n",
    "    \"\"\"\n",
    "    w, h = template.shape[::-1]\n",
    "    \n",
    "    method = cv2.TM_SQDIFF_NORMED\n",
    "\n",
    "    # Apply template Matching\n",
    "    res = cv2.matchTemplate(img,template,method)\n",
    "    min_val, max_val, min_loc, max_loc = cv2.minMaxLoc(res)\n",
    "    \n",
    "    #take minimum (due to the choice of the method)\n",
    "    top_left = min_loc\n",
    "    bottom_right = (top_left[0] + w, top_left[1] + h)\n",
    "    #draw rectangle in img \n",
    "    cv2.rectangle(img,top_left, bottom_right, (0,0,255), 7)\n",
    "\n",
    "    if display_images:\n",
    "        plt.figure()\n",
    "        ax4 = plt.subplot(121),plt.imshow(res, cmap = 'gray')\n",
    "        plt.title('Matching Result'), plt.xticks([]), plt.yticks([])\n",
    "        ax5 = plt.subplot(122),plt.imshow(img, cmap = 'gray')\n",
    "        plt.title('Detected picture'), plt.xticks([]), plt.yticks([])\n",
    "        plt.suptitle(method)\n",
    "        \n",
    "        plt.show()\n",
    "        \n",
    "    center = [(top_left[0] + bottom_right[0])/2, (top_left[1] + bottom_right[1])/2]\n",
    "    return center #coordinates of the center of the image."
   ]
  },
  {
   "cell_type": "markdown",
   "metadata": {},
   "source": [
    "`detect_multiple` uses the same principle as `detect_image`, except it can detect several occurences of the same template in the image. We use this function to detect the corners of the map, as well as the obstacles. Returns a list of the coordinates of the top left corners of each occurence."
   ]
  },
  {
   "cell_type": "code",
   "execution_count": 8,
   "metadata": {},
   "outputs": [],
   "source": [
    "def detect_multiple(name_img, img, template, threshold, display_images):\n",
    "    \"\"\"\n",
    "    Detect all template in image and draw a rectangle on each one of them \n",
    "        if display_images, display the image\n",
    "    :return: list of coordinates of each template's top left \n",
    "    \"\"\"\n",
    "    \n",
    "    img_gray = img\n",
    "    img_rgb = cv2.imread(name_img, cv2.IMREAD_COLOR)\n",
    "    \n",
    "    w, h = template.shape[::-1]\n",
    "\n",
    "    res = cv2.matchTemplate(img_gray,template,cv2.TM_SQDIFF_NORMED)\n",
    "\n",
    "    #take all coordinate where template is detected\n",
    "    loc = np.where(res <= threshold)\n",
    "    \n",
    "    #Since each template might be detected several time, we need to make sure we have one coordinate by template\n",
    "    \n",
    "    #take 1st point, init the precedent point and create a list of point\n",
    "    pt_prec = [loc[1][0], loc[0][0]]\n",
    "    list_pt = [pt_prec] \n",
    "    \n",
    "    #draw rectangle for first point in img_rgb\n",
    "    cv2.rectangle(img_rgb, (pt_prec[0], pt_prec[1]), (int(pt_prec[0] + w), int(pt_prec[1] + h)), (255,0,0), 5)\n",
    "    \n",
    "    #list of extra point we don't want\n",
    "    pt_notchoosen = []\n",
    "\n",
    "    #Check if point in loc is a new obstacle or not\n",
    "    for pt in zip(*loc[::-1]):\n",
    "        \n",
    "        #if not too close of the previous choosen point, might be a new obstacle\n",
    "        if (abs(pt[0] - pt_prec[0]) > 10) or (abs(pt[1] - pt_prec[1]) > 10) :\n",
    "            same_obstacle = 0\n",
    "            \n",
    "            #if too close of not wanted point, not a new obstacle, we don't want it\n",
    "            for pt_not in pt_notchoosen:\n",
    "                if (abs(pt[0] - pt_not[0]) <=10) and (abs(pt[1] - pt_not[1]) <= 10):\n",
    "                    same_obstacle = 1\n",
    "                    pt_notchoosen.append([pt[0], pt[1]])\n",
    "                    break\n",
    "            #if not too close, we add it to the list, draw a rectangle and update pt_prec\n",
    "            if not same_obstacle : \n",
    "                list_pt.append([pt[0], pt[1]])\n",
    "                cv2.rectangle(img_rgb, pt, (pt[0] + w, pt[1] + h), (255,0,0), 5)\n",
    "                pt_prec = pt\n",
    "                \n",
    "        #if too close of not wanted point, not a new obstacle, we don't want it        \n",
    "        else:\n",
    "            pt_notchoosen.append([pt[0], pt[1]])\n",
    "                    \n",
    "    \n",
    "    #cv2.imwrite('res.png',img_rgb)\n",
    "    if display_images:\n",
    "        plt.figure()\n",
    "        ax2 = plt.subplot(121),plt.imshow(res,cmap = 'gray')\n",
    "        plt.title('Matching Result'), plt.xticks([]), plt.yticks([])\n",
    "        ax3 = plt.subplot(122),plt.imshow(img_rgb,cmap = 'gray')\n",
    "        plt.title('Detected obstacles'), plt.xticks([]), plt.yticks([])\n",
    "        \n",
    "        plt.show()\n",
    "        \n",
    "    #list_pt contains the coordinates of the top left corners of all the objects    \n",
    "    return list_pt, w, h"
   ]
  },
  {
   "cell_type": "markdown",
   "metadata": {},
   "source": [
    "# Filtering\n",
    "\n",
    "The function `filtering()` is taking an image, applying a bilateral filter on it. Then we decided to apply Otsu's thresholding to filter the image. This allows to filter out the checkerboard that is on the map, and also the symbols (paintings, start, goal) are clearer. This function returns the filtered image.\n",
    "\n",
    "\n",
    "\n",
    "-Bw_photo is not used --> bilateralFilter not used ? *Change to used, if no need to detect marker --> ok* \n",
    "(ben si elle est used, c'est sur cette image qu'on applique le thresholding otsu.)\n"
   ]
  },
  {
   "cell_type": "code",
   "execution_count": 9,
   "metadata": {},
   "outputs": [],
   "source": [
    "def filtering(name_img, display_images):\n",
    "    \"\"\"\n",
    "    Filter the image using bilateral filter and otsu thersholding \n",
    "        if display_images, display the image\n",
    "    :return: image filtered\n",
    "    \"\"\"\n",
    "    photo = cv2.imread(name_img)\n",
    "    bilateral = cv2.bilateralFilter(photo,9,75,75)\n",
    "    \n",
    "    #convert image in BW\n",
    "    bw_photo = cv2.cvtColor(bilateral, cv2.COLOR_BGR2GRAY)\n",
    "\n",
    "    #_,filtered_image = cv2.threshold(cv2.cvtColor(photo, cv2.COLOR_BGR2GRAY),0,255,cv2.THRESH_BINARY+cv2.THRESH_OTSU)\n",
    "    _,filtered_image = cv2.threshold(bw_photo,0,255,cv2.THRESH_BINARY+cv2.THRESH_OTSU)\n",
    "\n",
    "    if display_images:\n",
    "        plt.figure()\n",
    "        ax = plt.subplot(121),plt.imshow(photo[:,:,::-1], cmap = 'gray')\n",
    "        plt.title('Original'), plt.xticks([]), plt.yticks([])\n",
    "        ax1 = plt.subplot(122),plt.imshow(filtered_image, cmap = 'gray')\n",
    "        plt.title('Filtered image'), plt.xticks([]), plt.yticks([])\n",
    "        \n",
    "        plt.show()\n",
    "        \n",
    "    return filtered_image"
   ]
  },
  {
   "cell_type": "markdown",
   "metadata": {},
   "source": [
    "# ----------------------------------------------Parameters----------------------------------------------\n",
    "\n",
    "In `get_params()`, we can set all the parameters : the name of the images files (the map, obstacles and corners are in the folder 'structure', and the paintings, start, goal are in the folder 'oeuvres'). \n",
    "The grid parameters can also be changed. It is the number of squares in x and y (`max_val_x`and `max_val_y`).\n",
    "\n",
    "All images are then filtered with `filtering()`. We use `detect_image`and `detect_multiple` in order to get the :\n",
    "    - list of corners (top left coordinates)\n",
    "    - list of obstacles (top left coordinates)\n",
    "    - list of paintings (center coordinates)\n",
    "    - start and stop positions (center coordinates)\n",
    "    \n",
    "We also return the width and height of the corners and obstacles, that we will use later in `get_rectangle` and `create_fill_grid`."
   ]
  },
  {
   "cell_type": "code",
   "execution_count": 10,
   "metadata": {},
   "outputs": [],
   "source": [
    "def get_param():\n",
    "    global max_val_x, max_val_y\n",
    "    \n",
    "    name_map ='structure_o/photocarte2.png'\n",
    "    name_picture = ['oeuvres_o/triangle.png'] #'oeuvres/nuage.png', 'oeuvres_o/coeur.png'\n",
    "    name_obstacle = 'structure_o/obstacle.png'\n",
    "    name_corner = 'structure_o/coin.png'\n",
    "    \n",
    "    #departure and goal symbols\n",
    "    name_start = 'oeuvres_o/thymio.png'\n",
    "    name_goal = 'oeuvres_o/etoile.png'\n",
    "\n",
    "    #G R I D parameters\n",
    "    max_val_x = 20\n",
    "    max_val_y = 12\n",
    "    \n",
    "    mapim = cv2.imread(name_map,0)\n",
    "    obstacle = cv2.imread(name_obstacle,0)\n",
    "    corner = cv2.imread(name_corner,0)\n",
    "    start = cv2.imread(name_start,0)\n",
    "    goal = cv2.imread(name_goal,0)\n",
    " \n",
    "    display_images = False\n",
    "\n",
    "    #filter images\n",
    "    map_filtered = filtering(name_map, display_images)\n",
    "    obstacle_filtered = filtering(name_obstacle, display_images)\n",
    "    corner_filtered = filtering(name_corner, display_images)\n",
    "    start_filtered = filtering(name_start, display_images)\n",
    "    goal_filtered = filtering(name_goal, display_images)\n",
    "    \n",
    "    picture_filtered = []\n",
    "    list_paintings = []\n",
    "    #get the list of the center coordinates of all paintings\n",
    "    for i in range(len(name_picture)):\n",
    "        picture_filtered.append(filtering(name_picture[i], display_images))\n",
    "        list_paintings.append(detect_image(map_filtered, picture_filtered[i], display_images))\n",
    "\n",
    "    #get list of coordinates of obstacles and corners\n",
    "    list_obstacles,w_obst,h_obst = detect_multiple(name_map, map_filtered, obstacle_filtered, 0.8 , display_images)\n",
    "    list_corners, w_corner, h_corner = detect_multiple(name_map, map_filtered, corner_filtered, 0.2, display_images)\n",
    "    \n",
    "    #get coordinates of the start and stop position\n",
    "    start = detect_image(map_filtered, start_filtered, display_images)\n",
    "    goal = detect_image(map_filtered, goal_filtered, display_images)\n",
    "    \n",
    "    return list_paintings, list_obstacles, w_obst, h_obst, list_corners, w_corner, h_corner, start, goal"
   ]
  },
  {
   "cell_type": "code",
   "execution_count": 11,
   "metadata": {},
   "outputs": [
    {
     "data": {
      "text/plain": [
       "([[1260.0, 679.5]],\n",
       " [[294, 2], [815, 625]],\n",
       " 119,\n",
       " 262,\n",
       " [[32, 3], [1437, 22], [25, 796], [1428, 816]],\n",
       " 95,\n",
       " 109,\n",
       " [619.5, 559.0],\n",
       " [279.0, 802.0])"
      ]
     },
     "execution_count": 11,
     "metadata": {},
     "output_type": "execute_result"
    }
   ],
   "source": [
    "get_param()"
   ]
  },
  {
   "cell_type": "markdown",
   "metadata": {},
   "source": [
    "# ------------------------------------------------GRID------------------------------------------------"
   ]
  },
  {
   "cell_type": "code",
   "execution_count": 12,
   "metadata": {},
   "outputs": [],
   "source": [
    "def get_rectangle(list_corners, w_corner, h_corner):\n",
    "    #take the smallest rectangle inside the corners\n",
    "    sort_corners = sorted(list_corners) #sorts points according to x\n",
    "    x1 = max(sort_corners[0][0], sort_corners[1][0])\n",
    "    x2 = min(sort_corners[2][0], sort_corners[3][0]) + w_corner\n",
    "\n",
    "    sort_corners = sorted(list_corners , key=lambda k: [k[1], k[0]])\n",
    "    y1 = max(sort_corners[0][1], sort_corners[1][1])\n",
    "    y2 = min(sort_corners[2][1], sort_corners[3][1]) + h_corner\n",
    "\n",
    "    return [[x1,y1],[x2,y2]]"
   ]
  },
  {
   "cell_type": "code",
   "execution_count": 13,
   "metadata": {},
   "outputs": [],
   "source": [
    "def create_visual_grid(): #allows to display the grid and Astar.\n",
    "    fig, ax = plt.subplots(figsize=(7,7))\n",
    "\n",
    "    major_ticks = np.arange(0, max_val_x+1, 10)\n",
    "    minor_ticks = np.arange(0, max_val_x+1, 1)\n",
    "    ax.set_xticks(major_ticks)\n",
    "    ax.set_xticks(minor_ticks, minor=True)\n",
    "    ax.set_yticks(major_ticks)\n",
    "    ax.set_yticks(minor_ticks, minor=True)\n",
    "    ax.grid(which='minor', alpha=0.2)\n",
    "    ax.grid(which='major', alpha=0.5)\n",
    "    ax.set_ylim([-1,max_val_y])\n",
    "    ax.set_xlim([-1,max_val_x])\n",
    "    ax.grid(True)\n",
    "    return fig, ax"
   ]
  },
  {
   "cell_type": "markdown",
   "metadata": {},
   "source": [
    "**Conversion functions**"
   ]
  },
  {
   "cell_type": "code",
   "execution_count": 14,
   "metadata": {},
   "outputs": [],
   "source": [
    "def convert_px_to_grid(x,y):\n",
    "    x_grid = max_val_x*(x - list_delimitation[0][0])/(list_delimitation[1][0] - list_delimitation[0][0])\n",
    "    y_grid = max_val_y - max_val_y*(y - list_delimitation[0][1])/(list_delimitation[1][1] - list_delimitation[0][1])\n",
    "    return [x_grid,y_grid]"
   ]
  },
  {
   "cell_type": "code",
   "execution_count": 15,
   "metadata": {},
   "outputs": [],
   "source": [
    "def convert_cm_to_grid(x,y):\n",
    "    x_grid = floor(x/size_marker_cm)\n",
    "    y_grid = floor(y/size_marker_cm)\n",
    "    return [x_grid,y_grid]"
   ]
  },
  {
   "cell_type": "code",
   "execution_count": 16,
   "metadata": {},
   "outputs": [],
   "source": [
    "def convert_grid_to_cm(mx, my):\n",
    "    x = (2*mx + 1)*3\n",
    "    y = (2*my + 1)*3\n",
    "    return (x,y)"
   ]
  },
  {
   "cell_type": "markdown",
   "metadata": {},
   "source": [
    "Create The grid and fill it\n",
    "\n",
    "Thanks to the lists of corners, obstacles, paintings, and the start and stop coordinates, we can now fill the occupancy grid. The magic numbers defined beforehand will help filling it. A `safe_zone` is included : for us, the 'center' of the Thymio is the circle in the middle of its wheels. So, we add a safe zone of 8cm around each obstacle to make sure the Thymio will not drive on an obstacle."
   ]
  },
  {
   "cell_type": "code",
   "execution_count": 163,
   "metadata": {},
   "outputs": [],
   "source": [
    "def create_fill_grid():\n",
    "    global list_delimitation\n",
    "    #Get coordinate\n",
    "    list_paintings, list_obstacles, w_obst, h_obst, list_corners, w_corner, h_corner, start, goal = get_param()\n",
    "    \n",
    "    #Create visual grid\n",
    "    fig, ax = create_visual_grid()\n",
    "    \n",
    "    # Creating the occupancy grid\n",
    "    occupancy_grid = np.zeros((max_val_x, max_val_y)) # Create an empty grid of max_val_x X max_val_y\n",
    " \n",
    "    cmap = colors.ListedColormap(['white', 'black', 'red', 'blue', 'yellow', 'pink']) # Select the colors: Black = obstacles, \n",
    "                                                            # Red = paintings, blue = goal, yellow = start\n",
    "\n",
    "    #Get environnement delimitations\n",
    "    list_delimitation = get_rectangle(list_corners, w_corner, h_corner)\n",
    "    \n",
    "    #thymio grid size\n",
    "    half_thymio = 1 #[cm]\n",
    "    size_sheet = [115.7, 50.2] #[cm]\n",
    "    safe_zone = [half_thymio * max_val_x/size_sheet[0], half_thymio * max_val_y/size_sheet[1]]\n",
    "    #safe_zone = [0,0]\n",
    "    #safe_zone = [1,1]\n",
    "    \n",
    "    for obs in list_obstacles:\n",
    "        obs_grid_tl_nosafeszone = convert_px_to_grid(obs[0], obs[1])\n",
    "        obs_grid_tl = [obs_grid_tl_nosafeszone[0] - safe_zone[0], obs_grid_tl_nosafeszone[1]+ safe_zone[1]]\n",
    "        \n",
    "        obs_grid_br_nosafezone = convert_px_to_grid(obs[0]+w_obst, obs[1]+h_obst)\n",
    "        obs_grid_br = [obs_grid_br_nosafezone[0]+safe_zone[0], obs_grid_br_nosafezone[1]-safe_zone[1]]\n",
    "        \n",
    "        #check if out of the grid because of safe zone                \n",
    "        for i in range(max(floor(obs_grid_tl[0]),0), min(ceil(obs_grid_br[0]), max_val_x)):\n",
    "            for j in range(max(floor(obs_grid_br[1]), 0), min(ceil(obs_grid_tl[1]), max_val_y)):\n",
    "                occupancy_grid[i,j] = obstacle_here\n",
    "\n",
    "    list_paintings_grid = []\n",
    "    #Convert coordinate into grid coordinate\n",
    "    for paint in list_paintings:\n",
    "        paint_grid = convert_px_to_grid(paint[0], paint[1])\n",
    "        paint_grid = [round(paint_grid[0]), round(paint_grid[1])]\n",
    "        list_paintings_grid.append(paint_grid)\n",
    "        occupancy_grid[int(paint_grid[0]), int(paint_grid[1])] = painting_here\n",
    "\n",
    "    goal_grid = convert_px_to_grid(goal[0], goal[1])\n",
    "    occupancy_grid[int(goal_grid[0]), int(goal_grid[1])] = goal_here\n",
    "    \n",
    "    start_grid = convert_px_to_grid(start[0], start[1])\n",
    "    occupancy_grid[int(start_grid[0]), int(start_grid[1])] = start_here\n",
    "    # Displaying the map\n",
    "    ax.imshow(occupancy_grid, cmap=cmap)\n",
    "    \n",
    "    return occupancy_grid, list_paintings_grid, start_grid, goal_grid, fig, ax\n",
    "    "
   ]
  },
  {
   "cell_type": "markdown",
   "metadata": {},
   "source": [
    "# ---------------------------------------------ASTAR---------------------------------------------\n",
    "\n",
    "Here, we will use the function `get_movements_4n` because we do not want the Thymio to drive between two obstacles. We will proceed to a normal Astar algorithm."
   ]
  },
  {
   "cell_type": "code",
   "execution_count": 143,
   "metadata": {},
   "outputs": [],
   "source": [
    "def _get_movements_4n():\n",
    "    \"\"\"\n",
    "    Get all possible 4-connectivity movements.\n",
    "    :return: list of movements with cost [(dx, dy, movement_cost)]\n",
    "    \"\"\"\n",
    "    return [(1, 0, 1.0),\n",
    "            (0, 1, 1.0),\n",
    "            (-1, 0, 1.0),\n",
    "            (0, -1, 1.0)]\n",
    "\n",
    "def reconstruct_path(cameFrom, current):\n",
    "    \"\"\"\n",
    "    Recurrently reconstructs the path from start node to the current node\n",
    "    :param cameFrom: map (dictionary) containing for each node n the node immediately \n",
    "                     preceding it on the cheapest path from start to n \n",
    "                     currently known.\n",
    "    :param current: current node (x, y)\n",
    "    :return: list of nodes from start to current node\n",
    "    \"\"\"\n",
    "    total_path = [current]\n",
    "    while current in cameFrom.keys():\n",
    "        # Add where the current node came from to the start of the list\n",
    "        total_path.insert(0, cameFrom[current]) \n",
    "        current=cameFrom[current]\n",
    "    return total_path\n",
    "\n",
    "def A_Star(start, goal, h, coords, occupancy_grid):\n",
    "    \"\"\"\n",
    "    A* for 2D occupancy grid. Finds a path from start to goal.\n",
    "    h is the heuristic function. h(n) estimates the cost to reach goal from node n.\n",
    "    :param start: start node (x, y)\n",
    "    :param goal_m: goal node (x, y)\n",
    "    :param occupancy_grid: the grid map\n",
    "    :return: a tuple that contains: (the resulting path in meters, the resulting path in data array indices)\n",
    "    \"\"\"\n",
    "\n",
    "    for point in [start, goal]: \n",
    "        assert point[0]>=0 and point[0]<max_val_x, \"start or end goal not contained in the map (x)\"\n",
    "        assert point[1]>=0 and point[1]<max_val_y, \"start or end goal not contained in the map (y)\"\n",
    "    \n",
    "    # check if start and goal nodes correspond to free spaces\n",
    "    if occupancy_grid[start[0], start[1]] == 1:\n",
    "        raise Exception('Start node is not traversable')\n",
    "\n",
    "    if occupancy_grid[goal[0], goal[1]] == 1:\n",
    "        raise Exception('Goal node is not traversable')\n",
    "    \n",
    "    # get possible movements\n",
    "    movements = _get_movements_4n()\n",
    "    \n",
    "    \n",
    "    # The set of visited nodes that need to be (re-)expanded, i.e. for which the neighbors need to be explored\n",
    "    # Initially, only the start node is known.\n",
    "    openSet = [start]\n",
    "    \n",
    "    # The set of visited nodes that no longer need to be expanded.\n",
    "    closedSet = []\n",
    "\n",
    "    # For node n, cameFrom[n] is the node immediately preceding it on the cheapest path from start to n currently known.\n",
    "    cameFrom = dict()\n",
    "\n",
    "    # For node n, gScore[n] is the cost of the cheapest path from start to n currently known.\n",
    "    gScore = dict(zip(coords, [np.inf for x in range(len(coords))]))\n",
    "    gScore[start] = 0\n",
    "\n",
    "    # For node n, fScore[n] := gScore[n] + h(n). map with default value of Infinity\n",
    "    fScore = dict(zip(coords, [np.inf for x in range(len(coords))]))\n",
    "    fScore[start] = h[start]\n",
    "\n",
    "    # while there are still elements to investigate\n",
    "    while openSet != []:\n",
    "        \n",
    "        #the node in openSet having the lowest fScore[] value\n",
    "        fScore_openSet = {key:val for (key,val) in fScore.items() if key in openSet}\n",
    "        current = min(fScore_openSet, key=fScore_openSet.get)\n",
    "        del fScore_openSet\n",
    "        \n",
    "        #If the goal is reached, reconstruct and return the obtained path\n",
    "        if current == goal:\n",
    "            return reconstruct_path(cameFrom, current), closedSet\n",
    "\n",
    "        openSet.remove(current)\n",
    "        closedSet.append(current)\n",
    "        \n",
    "        #for each neighbor of current:\n",
    "        for dx, dy, deltacost in movements:\n",
    "            \n",
    "            neighbor = (current[0]+dx, current[1]+dy)\n",
    "            \n",
    "            # if the node is not in the map, skip\n",
    "            if (neighbor[0] >= occupancy_grid.shape[0]) or (neighbor[1] >= occupancy_grid.shape[1]) or (neighbor[0] < 0) or (neighbor[1] < 0):\n",
    "                continue\n",
    "            \n",
    "            # if the node is occupied or has already been visited, skip\n",
    "            if (occupancy_grid[neighbor[0], neighbor[1]]==obstacle_here) or (neighbor in closedSet): \n",
    "                continue\n",
    "                \n",
    "            # d(current,neighbor) is the weight of the edge from current to neighbor\n",
    "            # tentative_gScore is the distance from start to the neighbor through current\n",
    "            tentative_gScore = gScore[current] + deltacost\n",
    "            \n",
    "            if neighbor not in openSet:\n",
    "                openSet.append(neighbor)\n",
    "                \n",
    "            if tentative_gScore < gScore[neighbor]:\n",
    "                # This path to neighbor is better than any previous one. Record it!\n",
    "                cameFrom[neighbor] = current\n",
    "                gScore[neighbor] = tentative_gScore\n",
    "                fScore[neighbor] = gScore[neighbor] + h[neighbor]\n",
    "\n",
    "    # Open set is empty but goal was never reached\n",
    "    print(\"No path found to goal\")\n",
    "    return [], closedSet\n"
   ]
  },
  {
   "cell_type": "markdown",
   "metadata": {},
   "source": [
    "The following function, `detect_stairs`, will detect if there is a way of \"cutting\" the path by driving diagonally. It takes the path returned by `A_star`, and transforms it by removing useless steps. This makes our navigation more efficient, the Thymio will reach its goal sooner."
   ]
  },
  {
   "cell_type": "code",
   "execution_count": 144,
   "metadata": {},
   "outputs": [],
   "source": [
    "def detect_stairs(path, occupancy_grid): \n",
    "    new_path = np.array([[path[0][0]], [path[1][0]]])\n",
    "    #new_occ = np.rot90(occupancy_grid)\n",
    "    new_occ = occupancy_grid\n",
    "    \n",
    "    for i in range (1,path.shape[1] - 2):        \n",
    "        if (occupancy_grid[path[0][i+1]][path[1][i+1]]) == painting_here: #if painting keep point\n",
    "            new_path = np.append(new_path, [[path[0][i+1]],[path[1][i+1]]], axis=1)\n",
    "            \n",
    "        else:\n",
    "            if (path[0][i + 2] == path[0][i] + 1) and (path[1][i + 2] == path[1][i] + 1): #going up right\n",
    "                occ1 = new_occ[path[0][i] + 1][path[1][i]]\n",
    "                occ2 = new_occ[path[0][i]][path[1][i] + 1]\n",
    "                if (occ1 == obstacle_here or occ2 == obstacle_here):\n",
    "                    new_path = np.append(new_path, [[path[0][i]],[path[1][i]]], axis=1)\n",
    "                    \n",
    "            elif (path[0][i + 2] == path[0][i] - 1) and (path[1][i + 2] == path[1][i] + 1): #going up left\n",
    "                occ1 = new_occ[path[0][i] - 1][path[1][i]]\n",
    "                occ2 = new_occ[path[0][i]][path[1][i] + 1]\n",
    "                if (occ1 == obstacle_here or occ2 == obstacle_here):\n",
    "                    new_path = np.append(new_path, [[path[0][i]],[path[1][i]]], axis=1)\n",
    "                    \n",
    "            elif (path[0][i + 2] == path[0][i] + 1) and (path[1][i + 2] == path[1][i] - 1): #going down right\n",
    "                occ1 = new_occ[path[0][i] + 1][path[1][i]]\n",
    "                occ2 = new_occ[path[0][i]][path[1][i] - 1]\n",
    "                if (occ1 == obstacle_here or occ2 == obstacle_here):\n",
    "                    new_path = np.append(new_path, [[path[0][i]],[path[1][i]]], axis=1)\n",
    "\n",
    "            elif (path[0][i + 2] == path[0][i] - 1) and (path[1][i + 2] == path[1][i] - 1): #going down left\n",
    "                occ1 = new_occ[path[0][i] - 1][path[1][i]]\n",
    "                occ2 = new_occ[path[0][i]][path[1][i] - 1]\n",
    "                if (occ1 == obstacle_here or occ2 == obstacle_here):\n",
    "                    new_path = np.append(new_path, [[path[0][i]],[path[1][i]]], axis=1)\n",
    "\n",
    "            else:\n",
    "                new_path = np.append(new_path, [[path[0][i]],[path[1][i]]], axis=1)\n",
    "    \n",
    "    new_path = np.append(new_path, [[path[0][-1]],[path[1][-1]]], axis=1)\n",
    "    return new_path"
   ]
  },
  {
   "cell_type": "markdown",
   "metadata": {},
   "source": [
    "`thymio_path` will first ask the user the order in which he/she want to visit the paintings. The user can enter the indices of the paintings, with or without spaces (for example `2 0 1`, `10`, etc). The function will return a path that starts from the `start` position detected by the vision. The path then goes through the paintings in the desired order, and ends up in the `goal` position detected by vision."
   ]
  },
  {
   "cell_type": "code",
   "execution_count": 162,
   "metadata": {},
   "outputs": [],
   "source": [
    "def thymio_path(list_paintings_grid, start_grid, goal_grid, fig_astar, ax_astar, occupancy_grid):\n",
    "\n",
    "    # Define the start and end goal constant with entrance and exit of museum\n",
    "    entrance = tuple([int(start_grid[0]), int(start_grid[1])]) #(0,0)\n",
    "    exit = tuple([int(goal_grid[0]), int(goal_grid[1])]) #(20,10)\n",
    "    previous_pos = entrance #Start position\n",
    "\n",
    "    # List of all coordinates in the grid\n",
    "    x,y = np.mgrid[0:max_val_x:1, 0:max_val_y:1]\n",
    "    pos = np.empty(x.shape + (2,))\n",
    "    pos[:, :, 0] = x; pos[:, :, 1] = y\n",
    "    pos = np.reshape(pos, (x.shape[0]*x.shape[1], 2))\n",
    "    coords = list([(int(x[0]), int(x[1])) for x in pos])\n",
    "    path = []\n",
    "    visitedNodes = []\n",
    "\n",
    "    #p = input('Enter the order you want to to see the paintings in :')\n",
    "    #visiting_order = []\n",
    "    #i = 0\n",
    "    x_t = []\n",
    "    y_t = []\n",
    "    #pos_int = 0\n",
    "    #while i<len(p):\n",
    "    #   if p[i].isdigit():\n",
    "    #      visiting_order.append(int(p[i]))\n",
    "    \n",
    "    \n",
    "    if list_paintings_grid :\n",
    "        x_t.append(float(list_paintings_grid[0][0]))\n",
    "        y_t.append(float(list_paintings_grid[0][1]))\n",
    "    #  i = i + 1\n",
    "        coords_goal = list([x_v, y_v] for (x_v,y_v) in zip(x_t,y_t))\n",
    "        goal_pos = coords_goal[0]\n",
    "        \n",
    "\n",
    "        for goal_pos in coords_goal:\n",
    "            # Define the heuristic, here = distance to goal ignoring obstacles\n",
    "            h = np.linalg.norm(pos - goal_pos, axis=-1)\n",
    "            h = dict(zip(coords, h))\n",
    "            goal_pos[0] = int(goal_pos[0])\n",
    "            goal_pos[1] = int(goal_pos[1])\n",
    "\n",
    "            # Run the A* algorithm #PUT ALL TOGETHER\n",
    "            new_path, new_visitedNodes = A_Star(tuple(previous_pos), tuple(goal_pos), h, coords, occupancy_grid)\n",
    "            if len(path) == 0:\n",
    "                path = np.array(new_path).reshape(-1, 2).transpose()\n",
    "            else:\n",
    "                path = np.concatenate((path, np.array(new_path).reshape(-1, 2).transpose()), axis=1)\n",
    "\n",
    "            if len(visitedNodes) == 0:\n",
    "                visitedNodes = np.array(new_visitedNodes).reshape(-1, 2).transpose()\n",
    "            else:\n",
    "                visitedNodes = np.concatenate((visitedNodes, np.array(new_visitedNodes).reshape(-1, 2).transpose()), axis=1)\n",
    "\n",
    "            previous_pos = goal_pos\n",
    "\n",
    "    #####GO TO EXIT\n",
    "    goal_pos = exit\n",
    "    # Define the heuristic, here = distance to goal ignoring obstacles\n",
    "    h = np.linalg.norm(pos - goal_pos, axis=-1)\n",
    "    h = dict(zip(coords, h))\n",
    "\n",
    "    # Run the A* algorithm\n",
    "    new_path, new_visitedNodes = A_Star(tuple(previous_pos), goal_pos, h, coords, occupancy_grid) \n",
    "    if len(path) == 0:\n",
    "            path = np.array(new_path).reshape(-1, 2).transpose()\n",
    "    else:\n",
    "        path = np.concatenate((path, np.array(new_path).reshape(-1, 2).transpose()), axis=1)\n",
    "\n",
    "    if len(visitedNodes) == 0:\n",
    "        visitedNodes = np.array(new_visitedNodes).reshape(-1, 2).transpose()\n",
    "    else:\n",
    "        visitedNodes = np.concatenate((visitedNodes, np.array(new_visitedNodes).reshape(-1, 2).transpose()), axis=1)\n",
    "    \n",
    "    path = detect_stairs(path, occupancy_grid)\n",
    "    \n",
    "    ##### Displaying the map\n",
    "    plt.figure()\n",
    "    #fig_astar, ax_astar = create_empty_plot()\n",
    "    cmap = colors.ListedColormap(['white', 'black', 'red', 'blue', 'yellow', 'pink']) # Select the colors: Black = obstacles, Red = painting\n",
    "    ax_astar.imshow(occupancy_grid.transpose(), cmap=cmap)\n",
    "\n",
    "    # Plot the best path found and the list of visited nodes\n",
    "    ax_astar.scatter(visitedNodes[0], visitedNodes[1], marker=\"o\", color = 'orange')\n",
    "    ax_astar.plot(path[0], path[1], marker=\"o\", color = 'blue')\n",
    "    ax_astar.scatter(entrance[0], entrance[1], marker=\"o\", color = 'green', s=200)\n",
    "    ax_astar.scatter(exit[0], exit[1], marker=\"o\", color = 'purple', s=200)\n",
    "    \n",
    "    path2 = []\n",
    "    #transform the path in a list of [x y]\n",
    "    for i in range(0, path.shape[1]):\n",
    "        path2.append([path[0][i], path[1][i]])\n",
    "    \n",
    "    return path2"
   ]
  },
  {
   "cell_type": "markdown",
   "metadata": {},
   "source": [
    "**Create checkerboard pattern on the grid** \n",
    "For the filtering, we chose to print a map with a checkerboard pattern. We make sure that the vision does not detect this pattern and detects only the desired objects (paintings, etc).\n",
    "\n",
    "We will use A0 format for our map. We want squares of 6cm, hence we need 20 x 14. The 20th \n",
    "square will be cropped, se we will move the corners."
   ]
  },
  {
   "cell_type": "code",
   "execution_count": 146,
   "metadata": {},
   "outputs": [],
   "source": [
    "def checkerboard(occupancy_grid):\n",
    "    \n",
    "    for x in range (0,max_val_x):\n",
    "        for y in range (0,max_val_y):\n",
    "            if not occupancy_grid[x,y]:\n",
    "                if ((x + y)%2):\n",
    "                    occupancy_grid[x,y] = marker_here\n",
    "            \n",
    "    return occupancy_grid          \n",
    "    "
   ]
  },
  {
   "cell_type": "markdown",
   "metadata": {},
   "source": [
    "\n",
    "For the filtering part, we need to know the theoretical value that the ground sensor have according to their position. This is the purpose of `ground_sensor_theoretical`, that will be given a position and angle, and will return what each sensor (right and left) should return. `1` means that the sensor is on a grey square, `0` means whilte."
   ]
  },
  {
   "cell_type": "code",
   "execution_count": 147,
   "metadata": {},
   "outputs": [],
   "source": [
    "def ground_sensor_theoretical(theta, x, y, occupancy_grid): #theta in degrees, x, y, in cm\n",
    "    pos_grid = convert_cm_to_grid(x,y)\n",
    "    alpha = 9 #degrees\n",
    "    dist_sensor_center = 7.9\n",
    "    \n",
    "    if (x<0) or (y<0) or (pos_grid[0]>max_val_x) or (pos_grid[1]>max_val_y):\n",
    "        print('ERROR : Thymio out of the grid')\n",
    "        return\n",
    "    pos_sensor_left = [dist_sensor_center*sin((90 - theta - alpha)*pi/180), \n",
    "                       dist_sensor_center*cos((90 - theta - alpha)*pi/180)]\n",
    "    pos_sensor_right = [dist_sensor_center*sin((90 - theta + alpha)*pi/180),\n",
    "                        dist_sensor_center*cos((90 - theta + alpha)*pi/180)]\n",
    "    \n",
    "    pos_sensor_left_grid = convert_cm_to_grid(x + pos_sensor_left[0], y + pos_sensor_left[1])\n",
    "    pos_sensor_right_grid = convert_cm_to_grid(x + pos_sensor_right[0], y + pos_sensor_right[1])\n",
    "    print(\"POS SENSOR GRID: \",pos_sensor_left_grid, pos_sensor_right_grid)\n",
    "    \n",
    "    left = occupancy_grid[int(pos_sensor_left_grid[0]), int(pos_sensor_left_grid[1])]\n",
    "    right = occupancy_grid[int(pos_sensor_right_grid[0]), int(pos_sensor_right_grid[1])]\n",
    "    return [left, right]"
   ]
  },
  {
   "cell_type": "markdown",
   "metadata": {},
   "source": [
    "`convert_path_to_movements` is given the path calculated previousy. It will transform it into angles that the Thymio should have, and distances between each point and the next one. This function is needed before processing to making the Thymio move. The distance returned is in grid squares, and the angle in radians."
   ]
  },
  {
   "cell_type": "code",
   "execution_count": 148,
   "metadata": {},
   "outputs": [],
   "source": [
    "def convert_path_to_movements(path):\n",
    "    for i in range (0, len(path)-1):\n",
    "        p_x = path[i][0]\n",
    "        p_y = path[i][1]\n",
    "        n_x = path[i+1][0]\n",
    "        n_y = path[i+1][1]\n",
    "        theta = 0\n",
    "        d = 0\n",
    "        #This condition is needed, since when we do the Astar it will always use the start and end (visiting is start and end)\n",
    "        if(n_x != p_x or n_y != p_y):\n",
    "            #1st quadrant\n",
    "            if(n_x > p_x and n_y >= p_y):\n",
    "                theta = np.arctan(abs(n_y-p_y)/abs(n_x-p_x))\n",
    "            #2nd quadrant\n",
    "            elif(n_x <= p_x and n_y > p_y):\n",
    "                theta = pi/2 + np.arctan(abs(n_x-p_x)/abs(n_y-p_y))\n",
    "            #3rd quadrant\n",
    "            elif(n_x < p_x and n_y <= p_y):\n",
    "                theta = pi + np.arctan(abs(n_y-p_y)/abs(n_x-p_x))\n",
    "            #4th quadrant\n",
    "            elif(n_x >= p_x and n_y < p_y):\n",
    "                theta = 3*pi/2 + np.arctan(abs(n_x-p_x)/abs(n_y-p_y))\n",
    "\n",
    "            d = np.sqrt(np.power(abs(n_x-p_x),2)+np.power(abs(n_y-p_y),2))\n",
    "\n",
    "            if(i == 0):\n",
    "                move = np.array([[np.copy(d)], [np.copy(theta)]])\n",
    "            else:\n",
    "                move = np.append(move, [[np.copy(d)],[np.copy(theta)]], axis=1)\n",
    "        else:\n",
    "            move = np.append(move, [[0],[0]], axis=1)\n",
    "    return move"
   ]
  },
  {
   "cell_type": "code",
   "execution_count": 149,
   "metadata": {},
   "outputs": [],
   "source": [
    "def angle(pablo_theta, pos_curr_x, pos_curr_y, pos_next_x, pos_next_y):\n",
    "    x = pos_next_x - pos_curr_x\n",
    "    y = pos_next_y - pos_curr_y\n",
    "    threshold_x = 0.5\n",
    "    threshold_y = 0.5\n",
    "    \n",
    "    if (abs(x) <= threshold_x) and (y >= threshold_y) :\n",
    "        theta_target = 90\n",
    "    elif (abs(x) <= threshold_x) and (y <= threshold_y):\n",
    "        theta_target = -90\n",
    "    elif (x < threshold_x) and (y >= threshold_y) : \n",
    "        theta_target = degrees(np.arctan(y/x))\n",
    "        theta_target = 180 + theta_target\n",
    "        \n",
    "    elif (x < threshold_x) and (y <= threshold_y) :\n",
    "        theta_target = degrees(np.arctan(y/x))\n",
    "        theta_target = -180 + theta_target\n",
    "        \n",
    "    else:\n",
    "        theta_target = degrees(np.arctan(y/x))\n",
    "    \n",
    "    remaining_theta = theta_target - pablo_theta\n",
    "    return remaining_theta"
   ]
  },
  {
   "cell_type": "code",
   "execution_count": 150,
   "metadata": {},
   "outputs": [],
   "source": [
    "#rotates the Thymio up to the desired angle theta\n",
    "def rotate_pablo(remaining_theta, threshold):\n",
    "    speed = 100\n",
    "    neg_speed = 2**16 - 100\n",
    "    if (remaining_theta > threshold):\n",
    "        th.set_var(\"motor.right.target\", speed)\n",
    "        th.set_var(\"motor.left.target\", neg_speed)\n",
    "        return True\n",
    "    \n",
    "    elif (remaining_theta < -threshold):\n",
    "        th.set_var(\"motor.right.target\", neg_speed)\n",
    "        th.set_var(\"motor.left.target\", speed)\n",
    "        return True\n",
    "    \n",
    "    else :\n",
    "        return False #returns true if thymio rotating, false if not"
   ]
  },
  {
   "cell_type": "code",
   "execution_count": 151,
   "metadata": {},
   "outputs": [],
   "source": [
    "def distance(pos_curr_x, pos_curr_y, pos_next_x, pos_next_y):\n",
    "    #Pythagore !!!!!!\n",
    "    a = pos_next_x - pos_curr_x\n",
    "    b = pos_next_y - pos_curr_y\n",
    "    c = sqrt(a**2 + b**2)\n",
    "    return c"
   ]
  },
  {
   "cell_type": "code",
   "execution_count": 152,
   "metadata": {},
   "outputs": [],
   "source": [
    "#moves the thymio up to the desired position\n",
    "def move_pablo(remaining_distance, threshold):\n",
    "    speed = 100\n",
    "    \n",
    "    if remaining_distance > threshold :\n",
    "        th.set_var(\"motor.right.target\", speed)\n",
    "        th.set_var(\"motor.left.target\", speed)   \n",
    "        return True\n",
    "    else :\n",
    "        return False"
   ]
  },
  {
   "cell_type": "code",
   "execution_count": 153,
   "metadata": {},
   "outputs": [],
   "source": [
    "def stop_pablo():\n",
    "    th.set_var(\"motor.right.target\", 0)\n",
    "    th.set_var(\"motor.left.target\", 0)"
   ]
  },
  {
   "cell_type": "code",
   "execution_count": 154,
   "metadata": {},
   "outputs": [],
   "source": [
    "def update_pablo(remaining_theta, duration, threshold_angle, remaining_distance, threshold_dist):\n",
    "    \n",
    "    if(remaining_theta > threshold_angle):\n",
    "        Delta_theta = duration*360/9.52 #experimentally certified\n",
    "        Delta_pos = 0\n",
    "        \n",
    "    elif(remaining_theta < -threshold_angle):\n",
    "        Delta_theta = -duration*360/9.04\n",
    "        Delta_pos = 0\n",
    "        \n",
    "    elif remaining_distance > threshold_dist:\n",
    "        Delta_pos = duration*5.8/1.8\n",
    "        Delta_theta = 0\n",
    "    else:\n",
    "        Delta_pos = 0\n",
    "        Delta_theta = 0\n",
    "    \n",
    "    #make sure that Pablo.theta stays within [-180,180]\n",
    "    new_theta = Pablo.theta+Delta_theta\n",
    "    if new_theta >= 180:\n",
    "        new_theta = new_theta - 360\n",
    "    elif new_theta < -180:\n",
    "        new_theta = new_theta + 360\n",
    "        \n",
    "    Pablo.set_pos(Pablo.x+Delta_pos*cos(radians(Pablo.theta)),Pablo.y+Delta_pos*sin(radians(Pablo.theta)), \n",
    "                  new_theta)\n",
    "    "
   ]
  },
  {
   "cell_type": "code",
   "execution_count": 155,
   "metadata": {},
   "outputs": [
    {
     "name": "stdout",
     "output_type": "stream",
     "text": [
      "[[0. 0. 0. 0. 0. 0. 0. 0. 0. 0. 0. 0.]\n",
      " [0. 0. 0. 0. 0. 0. 0. 0. 0. 0. 0. 0.]\n",
      " [0. 0. 0. 0. 0. 0. 0. 0. 0. 0. 0. 0.]\n",
      " [0. 3. 0. 0. 0. 0. 0. 0. 1. 1. 1. 1.]\n",
      " [0. 0. 0. 0. 0. 0. 0. 0. 1. 1. 1. 1.]\n",
      " [0. 0. 0. 0. 0. 0. 0. 0. 1. 1. 1. 1.]\n",
      " [0. 0. 0. 0. 0. 0. 0. 0. 0. 0. 0. 0.]\n",
      " [0. 0. 0. 0. 4. 0. 0. 0. 0. 0. 0. 0.]\n",
      " [0. 0. 0. 0. 0. 0. 0. 0. 0. 0. 0. 0.]\n",
      " [0. 0. 0. 0. 0. 0. 0. 0. 0. 0. 0. 0.]\n",
      " [1. 1. 1. 1. 0. 0. 0. 0. 0. 0. 0. 0.]\n",
      " [1. 1. 1. 1. 0. 0. 0. 0. 0. 0. 0. 0.]\n",
      " [1. 1. 1. 1. 0. 0. 0. 0. 0. 0. 0. 0.]\n",
      " [0. 0. 0. 0. 0. 0. 0. 0. 0. 0. 0. 0.]\n",
      " [0. 0. 0. 0. 0. 0. 0. 0. 0. 0. 0. 0.]\n",
      " [0. 0. 0. 0. 0. 0. 0. 0. 0. 0. 0. 0.]\n",
      " [0. 0. 0. 2. 0. 0. 0. 0. 0. 0. 0. 0.]\n",
      " [0. 0. 0. 0. 0. 0. 0. 0. 0. 0. 0. 0.]\n",
      " [0. 0. 0. 0. 0. 0. 0. 0. 0. 0. 0. 0.]\n",
      " [0. 0. 0. 0. 0. 0. 0. 0. 0. 0. 0. 0.]]\n"
     ]
    },
    {
     "data": {
      "image/png": "[encoded data removed]",
      "text/plain": [
       "<Figure size 504x504 with 1 Axes>"
      ]
     },
     "metadata": {
      "needs_background": "light"
     },
     "output_type": "display_data"
    },
    {
     "data": {
      "text/plain": [
       "<Figure size 432x288 with 0 Axes>"
      ]
     },
     "metadata": {},
     "output_type": "display_data"
    }
   ],
   "source": [
    "#-----Pour voir les résultats de la vision etc----\n",
    "occupancy_grid, list_paintings_grid, start_grid, goal_grid, fig, ax= create_fill_grid()\n",
    "\n",
    "print(occupancy_grid)\n",
    "occupancy_grid = checkerboard(occupancy_grid)\n",
    "#list_paintings_grid = []\n",
    "path = thymio_path(list_paintings_grid, start_grid, goal_grid, fig, ax, occupancy_grid)\n",
    "\n",
    "start_cm = convert_grid_to_cm(start_grid[0],start_grid[1])\n",
    "Pablo = T(start_cm[0], start_cm[1], 100)\n",
    "\n"
   ]
  },
  {
   "cell_type": "code",
   "execution_count": 156,
   "metadata": {},
   "outputs": [],
   "source": [
    "def get_local_mode(local_mode):\n",
    "    Threshold_enter_obstavoid =20 \n",
    "    Threshold_quit_obstavoid =10\n",
    "    \n",
    "    if (local_mode == 0 and\n",
    "            (th[\"prox.horizontal\"][0] > Threshold_enter_obstavoid or\n",
    "            th[\"prox.horizontal\"][1] > Threshold_enter_obstavoid or\n",
    "            th[\"prox.horizontal\"][2] > Threshold_enter_obstavoid or\n",
    "            th[\"prox.horizontal\"][3] > Threshold_enter_obstavoid or\n",
    "            th[\"prox.horizontal\"][4] > Threshold_enter_obstavoid)): # enter obstacle avoidance\n",
    "            local_mode = 1\n",
    "    elif (local_mode == 1 and\n",
    "            th[\"prox.horizontal\"][0] < Threshold_quit_obstavoid and\n",
    "            th[\"prox.horizontal\"][1] < Threshold_enter_obstavoid and\n",
    "            th[\"prox.horizontal\"][2] < Threshold_enter_obstavoid and\n",
    "            th[\"prox.horizontal\"][3] < Threshold_enter_obstavoid and\n",
    "            th[\"prox.horizontal\"][4] < Threshold_quit_obstavoid): # quit obstacle avoidance\n",
    "            local_mode = 0\n",
    "    return local_mode"
   ]
  },
  {
   "cell_type": "code",
   "execution_count": 157,
   "metadata": {},
   "outputs": [],
   "source": [
    "def local_obstacle_avoidance():\n",
    "    local_mode = 1\n",
    "    speed = 100\n",
    "    neg_speed = 2**16 - 100\n",
    "    \n",
    "    while local_mode:\n",
    "        th.set_var(\"motor.left.target\", speed)\n",
    "        th.set_var(\"motor.right.target\", neg_speed)\n",
    "        local_mode = get_local_mode(local_mode)"
   ]
  },
  {
   "cell_type": "code",
   "execution_count": 158,
   "metadata": {},
   "outputs": [],
   "source": [
    "def navigation (path, visited_painting):\n",
    "    time0 = time.time()\n",
    "    threshold_angle = 0.5 #1 #degree\n",
    "    threshold_dist = 0.2 #cm\n",
    "    local_mode = 0\n",
    "    counter =0\n",
    "    \n",
    "    while path:\n",
    "        curr_goal = convert_grid_to_cm(path[0][0],path[0][1]) #next step\n",
    "        print(\"----------------------------current goal :\",path[0])\n",
    "        remaining_theta = angle(Pablo.theta, Pablo.x, Pablo.y, curr_goal[0], curr_goal[1])\n",
    "        rotating = rotate_pablo(remaining_theta, threshold_angle)\n",
    "        time_prec = time.time()\n",
    "\n",
    "        while rotating:\n",
    "            remaining_theta = angle(Pablo.theta, Pablo.x, Pablo.y, curr_goal[0], curr_goal[1])\n",
    "            rotating = rotate_pablo(remaining_theta, threshold_angle)\n",
    "            time_next = time.time()\n",
    "            duration = time_next - time_prec\n",
    "            #update Pablo.theta\n",
    "            update_pablo(remaining_theta, duration, threshold_angle, 0, threshold_dist)\n",
    "            time_prec = time_next\n",
    "\n",
    "            #get the mode : 1 if local obstacle avoidance\n",
    "            local_mode = get_local_mode(local_mode)\n",
    "            if local_mode:\n",
    "                counter = 0\n",
    "                print(\"local mode :\" )\n",
    "                time_before = time.time()\n",
    "                local_obstacle_avoidance()\n",
    "                time_after = time.time()\n",
    "                duration_local = time_after - time_before\n",
    "                #print(\"angle before\", Pablo.theta)\n",
    "                update_pablo((-threshold_angle - 1), duration_local, threshold_angle, 0, threshold_dist)\n",
    "                time_null = time.time()\n",
    "                while counter <= 1.5:\n",
    "                    move_straight = 1\n",
    "                    move_straight = move_pablo(10, threshold_dist)\n",
    "                    counter = time.time() - time_null\n",
    "                stop_pablo()\n",
    "                update_pablo(0, counter, threshold_angle, (threshold_dist+1), threshold_dist)\n",
    "                remaining_theta = angle(Pablo.theta, Pablo.x, Pablo.y, curr_goal[0], curr_goal[1])\n",
    "                #print(\"REMAINING ANGLE\", angle(Pablo.theta, Pablo.x, Pablo.y, curr_goal[0], curr_goal[1]))\n",
    "                #print(\"PABLO ANGLE AFTER\", Pablo.theta)\n",
    "                print(\"fini de local mode rotating\")\n",
    "                goal_reached = False\n",
    "                return goal_reached, visited_painting\n",
    "                \n",
    "                \n",
    "\n",
    "        print('fini de rotating', remaining_theta)\n",
    "        remaining_distance = distance(Pablo.x, Pablo.y, curr_goal[0], curr_goal[1])\n",
    "        move_straight = move_pablo(remaining_distance, threshold_dist)\n",
    "        time_prec = time.time()\n",
    "        #print(\"MOVE STRQIGHT\", move_straight)\n",
    "        #print(\"REMAINING DISTANCE avant de bouger\", remaining_distance)\n",
    "        while move_straight:\n",
    "\n",
    "            remaining_distance = distance(Pablo.x, Pablo.y, curr_goal[0], curr_goal[1])\n",
    "            move_straight = move_pablo(remaining_distance, threshold_dist)\n",
    "            time_next = time.time()\n",
    "            duration = time_next - time_prec\n",
    "            #update Pablo.x, y\n",
    "            update_pablo(0, duration, threshold_angle, remaining_distance, threshold_dist)\n",
    "            time_prec = time_next\n",
    "\n",
    "            #get the mode : 1 if local obstacle avoidance\n",
    "            local_mode = get_local_mode(local_mode)\n",
    "            if local_mode:\n",
    "                counter = 0\n",
    "                print(\"local mode\")\n",
    "                time_before = time.time()\n",
    "                local_obstacle_avoidance()\n",
    "                time_after = time.time()\n",
    "                duration_local = time_after - time_before\n",
    "                update_pablo((-threshold_angle - 1), duration_local, threshold_angle, 0, threshold_dist)\n",
    "                time_null = time.time()\n",
    "                while counter <= 1.5:\n",
    "                    move_straight = 1\n",
    "                    move_straight = move_pablo(10, threshold_dist)\n",
    "                    counter = time.time() - time_null\n",
    "                move_straight = 0\n",
    "                stop_pablo()\n",
    "                update_pablo(0, counter, threshold_angle, (threshold_dist + 1), threshold_dist)\n",
    "                remaining_distance = distance(Pablo.x, Pablo.y, curr_goal[0], curr_goal[1])\n",
    "                #print(\"REMAINING DISTANCE\",distance(Pablo.x, Pablo.y, curr_goal[0], curr_goal[1]))\n",
    "                print(\"fini de local mode rotating\")\n",
    "                goal_reached = False\n",
    "                return goal_reached, visited_painting\n",
    "            \n",
    "        threshold_dist = threshold_dist + 0.05 #cm\n",
    "        print('fini de move', remaining_distance)\n",
    "        stop_pablo()\n",
    "        \n",
    "        #delete path coordinates that are consecutively the same\n",
    "        if len(path)>=2:\n",
    "            while path[1] == path[0]:\n",
    "                del path[1]\n",
    "                \n",
    "        if ((abs(Pablo.x - curr_goal[0]) <= threshold_dist) and (abs(Pablo.y - curr_goal[1]) <= threshold_dist)):\n",
    "            if occupancy_grid[path[0][0]][path[0][1]] == painting_here:\n",
    "                visited_painting = True\n",
    "            del path[0]\n",
    "            \n",
    "    print(\"goal reached\")\n",
    "    goal_reached = True\n",
    "    return goal_reached, visited_painting\n",
    "        \n",
    "    "
   ]
  },
  {
   "cell_type": "code",
   "execution_count": 159,
   "metadata": {
    "scrolled": true
   },
   "outputs": [
    {
     "name": "stdout",
     "output_type": "stream",
     "text": [
      "4.0\n",
      "------------path : [[8, 4], [9, 4], [10, 4], [11, 4], [12, 4], [13, 4], [16, 3], [16, 3], [16, 3], [15, 3], [13, 3], [13, 4], [12, 4], [11, 4], [10, 4], [9, 4], [8, 4], [7, 4], [3, 1]]\n",
      "----------------------------current goal : [8, 4]\n",
      "fini de rotating -0.4881149477676809\n",
      "fini de move 0.19745036198331659\n",
      "----------------------------current goal : [9, 4]\n",
      "fini de rotating -0.4695499802773192\n",
      "fini de move 0.2475972995149606\n",
      "----------------------------current goal : [10, 4]\n",
      "fini de rotating -0.47682266422609804\n",
      "fini de move 0.2976203302010183\n",
      "----------------------------current goal : [11, 4]\n",
      "fini de rotating -0.48401515666265565\n",
      "fini de move 0.3488680551747451\n",
      "----------------------------current goal : [12, 4]\n",
      "fini de rotating -0.49101261650638917\n",
      "local mode\n",
      "fini de local mode rotating\n",
      "0.0\n",
      "------------path : [[13, 4], [16, 3], [16, 3], [16, 3], [15, 3], [13, 3], [13, 4], [12, 4], [11, 4], [10, 4], [9, 4], [8, 4], [7, 4], [3, 1]]\n",
      "----------------------------current goal : [13, 4]\n",
      "local mode :\n",
      "fini de local mode rotating\n",
      "5.0\n",
      "------------path : [[16, 3], [16, 3], [16, 3], [15, 3], [13, 3], [13, 4], [12, 4], [11, 4], [10, 4], [9, 4], [8, 4], [7, 4], [3, 1]]\n",
      "----------------------------current goal : [16, 3]\n",
      "fini de rotating 0.4940256861815424\n",
      "local mode\n",
      "fini de local mode rotating\n",
      "5.0\n",
      "------------path : [[16, 3], [16, 3], [16, 3], [15, 3], [13, 3], [13, 4], [12, 4], [11, 4], [10, 4], [9, 4], [8, 4], [7, 4], [3, 1]]\n",
      "----------------------------current goal : [16, 3]\n",
      "fini de rotating 0.4659567814416494\n",
      "local mode\n",
      "fini de local mode rotating\n",
      "0.0\n",
      "------------path : [[16, 3], [16, 3], [15, 3], [13, 3], [13, 4], [12, 4], [11, 4], [10, 4], [9, 4], [8, 4], [7, 4], [3, 1]]\n",
      "----------------------------current goal : [16, 3]\n",
      "local mode :\n",
      "fini de local mode rotating\n",
      "2.0\n",
      "------------path : [[16, 3], [15, 3], [13, 3], [13, 4], [12, 4], [11, 4], [10, 4], [9, 4], [8, 4], [7, 4], [3, 1]]\n",
      "----------------------------current goal : [16, 3]\n",
      "local mode :\n",
      "fini de local mode rotating\n",
      "0.0\n",
      "------------path : [[16, 3], [16, 3], [15, 3], [13, 3], [13, 4], [12, 4], [11, 4], [10, 4], [9, 4], [8, 4], [7, 4], [3, 1]]\n",
      "----------------------------current goal : [16, 3]\n",
      "local mode :\n",
      "fini de local mode rotating\n",
      "0.0\n",
      "------------path : [[16, 3], [16, 3], [15, 3], [13, 3], [13, 4], [12, 4], [11, 4], [10, 4], [9, 4], [8, 4], [7, 4], [3, 1]]\n",
      "----------------------------current goal : [16, 3]\n",
      "fini de rotating -0.4631677858215255\n",
      "local mode\n",
      "fini de local mode rotating\n",
      "0.0\n",
      "------------path : [[16, 3], [16, 3], [15, 3], [13, 3], [13, 4], [12, 4], [11, 4], [10, 4], [9, 4], [8, 4], [7, 4], [3, 1]]\n",
      "----------------------------current goal : [16, 3]\n",
      "local mode :\n",
      "fini de local mode rotating\n",
      "5.0\n",
      "------------path : [[16, 3], [16, 3], [16, 3], [15, 3], [13, 3], [13, 4], [12, 4], [11, 4], [10, 4], [9, 4], [8, 4], [7, 4], [3, 1]]\n",
      "----------------------------current goal : [16, 3]\n",
      "fini de rotating -0.4632288264869544\n",
      "fini de move 0.19991831294771742\n",
      "----------------------------current goal : [15, 3]\n",
      "fini de rotating -0.48738578299929713\n",
      "fini de move 0.24817168928914152\n",
      "----------------------------current goal : [13, 3]\n",
      "fini de rotating -0.4895528338211079\n",
      "fini de move 0.29809164251853304\n",
      "----------------------------current goal : [13, 4]\n",
      "fini de rotating 0.48244073628802653\n",
      "fini de move 0.3499586579054393\n",
      "----------------------------current goal : [12, 4]\n"
     ]
    },
    {
     "ename": "KeyboardInterrupt",
     "evalue": "",
     "output_type": "error",
     "traceback": [
      "\u001b[1;31m---------------------------------------------------------------------------\u001b[0m",
      "\u001b[1;31mKeyboardInterrupt\u001b[0m                         Traceback (most recent call last)",
      "\u001b[1;32m<ipython-input-159-962eb1c4ebef>\u001b[0m in \u001b[0;36m<module>\u001b[1;34m\u001b[0m\n\u001b[0;32m     18\u001b[0m     \u001b[1;32mdel\u001b[0m \u001b[0mpath\u001b[0m\u001b[1;33m[\u001b[0m\u001b[1;36m0\u001b[0m\u001b[1;33m]\u001b[0m\u001b[1;33m\u001b[0m\u001b[1;33m\u001b[0m\u001b[0m\n\u001b[0;32m     19\u001b[0m     \u001b[0mprint\u001b[0m\u001b[1;33m(\u001b[0m\u001b[1;34m\"------------path :\"\u001b[0m\u001b[1;33m,\u001b[0m \u001b[0mpath\u001b[0m\u001b[1;33m)\u001b[0m\u001b[1;33m\u001b[0m\u001b[1;33m\u001b[0m\u001b[0m\n\u001b[1;32m---> 20\u001b[1;33m     \u001b[0mgoal_reached\u001b[0m\u001b[1;33m,\u001b[0m \u001b[0mvisited_painting\u001b[0m \u001b[1;33m=\u001b[0m \u001b[0mnavigation\u001b[0m\u001b[1;33m(\u001b[0m\u001b[0mpath\u001b[0m\u001b[1;33m,\u001b[0m \u001b[0mvisited_painting\u001b[0m\u001b[1;33m)\u001b[0m\u001b[1;33m\u001b[0m\u001b[1;33m\u001b[0m\u001b[0m\n\u001b[0m\u001b[0;32m     21\u001b[0m \u001b[1;33m\u001b[0m\u001b[0m\n\u001b[0;32m     22\u001b[0m \u001b[1;33m\u001b[0m\u001b[0m\n",
      "\u001b[1;32m<ipython-input-158-2fd57d2b8fff>\u001b[0m in \u001b[0;36mnavigation\u001b[1;34m(path, visited_painting)\u001b[0m\n\u001b[0;32m     15\u001b[0m         \u001b[1;32mwhile\u001b[0m \u001b[0mrotating\u001b[0m\u001b[1;33m:\u001b[0m\u001b[1;33m\u001b[0m\u001b[1;33m\u001b[0m\u001b[0m\n\u001b[0;32m     16\u001b[0m             \u001b[0mremaining_theta\u001b[0m \u001b[1;33m=\u001b[0m \u001b[0mangle\u001b[0m\u001b[1;33m(\u001b[0m\u001b[0mPablo\u001b[0m\u001b[1;33m.\u001b[0m\u001b[0mtheta\u001b[0m\u001b[1;33m,\u001b[0m \u001b[0mPablo\u001b[0m\u001b[1;33m.\u001b[0m\u001b[0mx\u001b[0m\u001b[1;33m,\u001b[0m \u001b[0mPablo\u001b[0m\u001b[1;33m.\u001b[0m\u001b[0my\u001b[0m\u001b[1;33m,\u001b[0m \u001b[0mcurr_goal\u001b[0m\u001b[1;33m[\u001b[0m\u001b[1;36m0\u001b[0m\u001b[1;33m]\u001b[0m\u001b[1;33m,\u001b[0m \u001b[0mcurr_goal\u001b[0m\u001b[1;33m[\u001b[0m\u001b[1;36m1\u001b[0m\u001b[1;33m]\u001b[0m\u001b[1;33m)\u001b[0m\u001b[1;33m\u001b[0m\u001b[1;33m\u001b[0m\u001b[0m\n\u001b[1;32m---> 17\u001b[1;33m             \u001b[0mrotating\u001b[0m \u001b[1;33m=\u001b[0m \u001b[0mrotate_pablo\u001b[0m\u001b[1;33m(\u001b[0m\u001b[0mremaining_theta\u001b[0m\u001b[1;33m,\u001b[0m \u001b[0mthreshold_angle\u001b[0m\u001b[1;33m)\u001b[0m\u001b[1;33m\u001b[0m\u001b[1;33m\u001b[0m\u001b[0m\n\u001b[0m\u001b[0;32m     18\u001b[0m             \u001b[0mtime_next\u001b[0m \u001b[1;33m=\u001b[0m \u001b[0mtime\u001b[0m\u001b[1;33m.\u001b[0m\u001b[0mtime\u001b[0m\u001b[1;33m(\u001b[0m\u001b[1;33m)\u001b[0m\u001b[1;33m\u001b[0m\u001b[1;33m\u001b[0m\u001b[0m\n\u001b[0;32m     19\u001b[0m             \u001b[0mduration\u001b[0m \u001b[1;33m=\u001b[0m \u001b[0mtime_next\u001b[0m \u001b[1;33m-\u001b[0m \u001b[0mtime_prec\u001b[0m\u001b[1;33m\u001b[0m\u001b[1;33m\u001b[0m\u001b[0m\n",
      "\u001b[1;32m<ipython-input-150-85b9ebbfdbe3>\u001b[0m in \u001b[0;36mrotate_pablo\u001b[1;34m(remaining_theta, threshold)\u001b[0m\n\u001b[0;32m      9\u001b[0m \u001b[1;33m\u001b[0m\u001b[0m\n\u001b[0;32m     10\u001b[0m     \u001b[1;32melif\u001b[0m \u001b[1;33m(\u001b[0m\u001b[0mremaining_theta\u001b[0m \u001b[1;33m<\u001b[0m \u001b[1;33m-\u001b[0m\u001b[0mthreshold\u001b[0m\u001b[1;33m)\u001b[0m\u001b[1;33m:\u001b[0m\u001b[1;33m\u001b[0m\u001b[1;33m\u001b[0m\u001b[0m\n\u001b[1;32m---> 11\u001b[1;33m         \u001b[0mth\u001b[0m\u001b[1;33m.\u001b[0m\u001b[0mset_var\u001b[0m\u001b[1;33m(\u001b[0m\u001b[1;34m\"motor.right.target\"\u001b[0m\u001b[1;33m,\u001b[0m \u001b[0mneg_speed\u001b[0m\u001b[1;33m)\u001b[0m\u001b[1;33m\u001b[0m\u001b[1;33m\u001b[0m\u001b[0m\n\u001b[0m\u001b[0;32m     12\u001b[0m         \u001b[0mth\u001b[0m\u001b[1;33m.\u001b[0m\u001b[0mset_var\u001b[0m\u001b[1;33m(\u001b[0m\u001b[1;34m\"motor.left.target\"\u001b[0m\u001b[1;33m,\u001b[0m \u001b[0mspeed\u001b[0m\u001b[1;33m)\u001b[0m\u001b[1;33m\u001b[0m\u001b[1;33m\u001b[0m\u001b[0m\n\u001b[0;32m     13\u001b[0m         \u001b[1;32mreturn\u001b[0m \u001b[1;32mTrue\u001b[0m\u001b[1;33m\u001b[0m\u001b[1;33m\u001b[0m\u001b[0m\n",
      "\u001b[1;32m~\\Documents\\EPFL\\Basics of Mobile Robotics\\Project\\Mobile_robotics\\Test Océ main\\src\\Thymio.py\u001b[0m in \u001b[0;36mset_var\u001b[1;34m(self, name, val, index)\u001b[0m\n\u001b[0;32m    539\u001b[0m             \u001b[0mself\u001b[0m\u001b[1;33m.\u001b[0m\u001b[0mremote_node\u001b[0m\u001b[1;33m.\u001b[0m\u001b[0mset_var\u001b[0m\u001b[1;33m(\u001b[0m\u001b[0mname\u001b[0m\u001b[1;33m,\u001b[0m \u001b[0mval\u001b[0m\u001b[1;33m,\u001b[0m \u001b[0mindex\u001b[0m\u001b[1;33m)\u001b[0m\u001b[1;33m\u001b[0m\u001b[1;33m\u001b[0m\u001b[0m\n\u001b[0;32m    540\u001b[0m         self.set_variables(self.remote_node.var_offset[name] + index,\n\u001b[1;32m--> 541\u001b[1;33m                            [val])\n\u001b[0m\u001b[0;32m    542\u001b[0m \u001b[1;33m\u001b[0m\u001b[0m\n\u001b[0;32m    543\u001b[0m     \u001b[1;32mdef\u001b[0m \u001b[0mset_var_array\u001b[0m\u001b[1;33m(\u001b[0m\u001b[0mself\u001b[0m\u001b[1;33m,\u001b[0m \u001b[0mname\u001b[0m\u001b[1;33m,\u001b[0m \u001b[0mval\u001b[0m\u001b[1;33m)\u001b[0m\u001b[1;33m:\u001b[0m\u001b[1;33m\u001b[0m\u001b[1;33m\u001b[0m\u001b[0m\n",
      "\u001b[1;32m~\\Documents\\EPFL\\Basics of Mobile Robotics\\Project\\Mobile_robotics\\Test Océ main\\src\\Thymio.py\u001b[0m in \u001b[0;36mset_variables\u001b[1;34m(self, chunk_offset, chunk, target_node_id)\u001b[0m\n\u001b[0;32m    507\u001b[0m         ] + chunk)\n\u001b[0;32m    508\u001b[0m         \u001b[0mmsg\u001b[0m \u001b[1;33m=\u001b[0m \u001b[0mMessage\u001b[0m\u001b[1;33m(\u001b[0m\u001b[0mMessage\u001b[0m\u001b[1;33m.\u001b[0m\u001b[0mID_SET_VARIABLES\u001b[0m\u001b[1;33m,\u001b[0m \u001b[0mself\u001b[0m\u001b[1;33m.\u001b[0m\u001b[0mnode_id\u001b[0m\u001b[1;33m,\u001b[0m \u001b[0mpayload\u001b[0m\u001b[1;33m)\u001b[0m\u001b[1;33m\u001b[0m\u001b[1;33m\u001b[0m\u001b[0m\n\u001b[1;32m--> 509\u001b[1;33m         \u001b[0mself\u001b[0m\u001b[1;33m.\u001b[0m\u001b[0msend\u001b[0m\u001b[1;33m(\u001b[0m\u001b[0mmsg\u001b[0m\u001b[1;33m)\u001b[0m\u001b[1;33m\u001b[0m\u001b[1;33m\u001b[0m\u001b[0m\n\u001b[0m\u001b[0;32m    510\u001b[0m \u001b[1;33m\u001b[0m\u001b[0m\n\u001b[0;32m    511\u001b[0m     \u001b[1;32mdef\u001b[0m \u001b[0mvariable_description\u001b[0m\u001b[1;33m(\u001b[0m\u001b[0mself\u001b[0m\u001b[1;33m)\u001b[0m\u001b[1;33m:\u001b[0m\u001b[1;33m\u001b[0m\u001b[1;33m\u001b[0m\u001b[0m\n",
      "\u001b[1;32m~\\Documents\\EPFL\\Basics of Mobile Robotics\\Project\\Mobile_robotics\\Test Océ main\\src\\Thymio.py\u001b[0m in \u001b[0;36msend\u001b[1;34m(self, msg)\u001b[0m\n\u001b[0;32m    454\u001b[0m         \"\"\"\n\u001b[0;32m    455\u001b[0m         \u001b[1;32mwith\u001b[0m \u001b[0mself\u001b[0m\u001b[1;33m.\u001b[0m\u001b[0moutput_lock\u001b[0m\u001b[1;33m:\u001b[0m\u001b[1;33m\u001b[0m\u001b[1;33m\u001b[0m\u001b[0m\n\u001b[1;32m--> 456\u001b[1;33m             \u001b[0mself\u001b[0m\u001b[1;33m.\u001b[0m\u001b[0mio\u001b[0m\u001b[1;33m.\u001b[0m\u001b[0mwrite\u001b[0m\u001b[1;33m(\u001b[0m\u001b[0mmsg\u001b[0m\u001b[1;33m.\u001b[0m\u001b[0mserialize\u001b[0m\u001b[1;33m(\u001b[0m\u001b[1;33m)\u001b[0m\u001b[1;33m)\u001b[0m\u001b[1;33m\u001b[0m\u001b[1;33m\u001b[0m\u001b[0m\n\u001b[0m\u001b[0;32m    457\u001b[0m \u001b[1;33m\u001b[0m\u001b[0m\n\u001b[0;32m    458\u001b[0m     \u001b[1;32mdef\u001b[0m \u001b[0mget_target_node_id\u001b[0m\u001b[1;33m(\u001b[0m\u001b[0mself\u001b[0m\u001b[1;33m)\u001b[0m\u001b[1;33m:\u001b[0m\u001b[1;33m\u001b[0m\u001b[1;33m\u001b[0m\u001b[0m\n",
      "\u001b[1;32m~\\Anaconda3\\lib\\site-packages\\serial\\serialwin32.py\u001b[0m in \u001b[0;36mwrite\u001b[1;34m(self, data)\u001b[0m\n\u001b[0;32m    310\u001b[0m             \u001b[1;31m#~ win32event.ResetEvent(self._overlapped_write.hEvent)\u001b[0m\u001b[1;33m\u001b[0m\u001b[1;33m\u001b[0m\u001b[1;33m\u001b[0m\u001b[0m\n\u001b[0;32m    311\u001b[0m             \u001b[0mn\u001b[0m \u001b[1;33m=\u001b[0m \u001b[0mwin32\u001b[0m\u001b[1;33m.\u001b[0m\u001b[0mDWORD\u001b[0m\u001b[1;33m(\u001b[0m\u001b[1;33m)\u001b[0m\u001b[1;33m\u001b[0m\u001b[1;33m\u001b[0m\u001b[0m\n\u001b[1;32m--> 312\u001b[1;33m             \u001b[0msuccess\u001b[0m \u001b[1;33m=\u001b[0m \u001b[0mwin32\u001b[0m\u001b[1;33m.\u001b[0m\u001b[0mWriteFile\u001b[0m\u001b[1;33m(\u001b[0m\u001b[0mself\u001b[0m\u001b[1;33m.\u001b[0m\u001b[0m_port_handle\u001b[0m\u001b[1;33m,\u001b[0m \u001b[0mdata\u001b[0m\u001b[1;33m,\u001b[0m \u001b[0mlen\u001b[0m\u001b[1;33m(\u001b[0m\u001b[0mdata\u001b[0m\u001b[1;33m)\u001b[0m\u001b[1;33m,\u001b[0m \u001b[0mctypes\u001b[0m\u001b[1;33m.\u001b[0m\u001b[0mbyref\u001b[0m\u001b[1;33m(\u001b[0m\u001b[0mn\u001b[0m\u001b[1;33m)\u001b[0m\u001b[1;33m,\u001b[0m \u001b[0mself\u001b[0m\u001b[1;33m.\u001b[0m\u001b[0m_overlapped_write\u001b[0m\u001b[1;33m)\u001b[0m\u001b[1;33m\u001b[0m\u001b[1;33m\u001b[0m\u001b[0m\n\u001b[0m\u001b[0;32m    313\u001b[0m             \u001b[1;32mif\u001b[0m \u001b[0mself\u001b[0m\u001b[1;33m.\u001b[0m\u001b[0m_write_timeout\u001b[0m \u001b[1;33m!=\u001b[0m \u001b[1;36m0\u001b[0m\u001b[1;33m:\u001b[0m  \u001b[1;31m# if blocking (None) or w/ write timeout (>0)\u001b[0m\u001b[1;33m\u001b[0m\u001b[1;33m\u001b[0m\u001b[0m\n\u001b[0;32m    314\u001b[0m                 \u001b[1;32mif\u001b[0m \u001b[1;32mnot\u001b[0m \u001b[0msuccess\u001b[0m \u001b[1;32mand\u001b[0m \u001b[0mwin32\u001b[0m\u001b[1;33m.\u001b[0m\u001b[0mGetLastError\u001b[0m\u001b[1;33m(\u001b[0m\u001b[1;33m)\u001b[0m \u001b[1;32mnot\u001b[0m \u001b[1;32min\u001b[0m \u001b[1;33m(\u001b[0m\u001b[0mwin32\u001b[0m\u001b[1;33m.\u001b[0m\u001b[0mERROR_SUCCESS\u001b[0m\u001b[1;33m,\u001b[0m \u001b[0mwin32\u001b[0m\u001b[1;33m.\u001b[0m\u001b[0mERROR_IO_PENDING\u001b[0m\u001b[1;33m)\u001b[0m\u001b[1;33m:\u001b[0m\u001b[1;33m\u001b[0m\u001b[1;33m\u001b[0m\u001b[0m\n",
      "\u001b[1;31mKeyboardInterrupt\u001b[0m: "
     ]
    },
    {
     "data": {
      "image/png": "[encoded data removed]",
      "text/plain": [
       "<Figure size 504x504 with 1 Axes>"
      ]
     },
     "metadata": {
      "needs_background": "light"
     },
     "output_type": "display_data"
    },
    {
     "data": {
      "text/plain": [
       "<Figure size 432x288 with 0 Axes>"
      ]
     },
     "metadata": {},
     "output_type": "display_data"
    },
    {
     "data": {
      "text/plain": [
       "<Figure size 432x288 with 0 Axes>"
      ]
     },
     "metadata": {},
     "output_type": "display_data"
    },
    {
     "data": {
      "text/plain": [
       "<Figure size 432x288 with 0 Axes>"
      ]
     },
     "metadata": {},
     "output_type": "display_data"
    },
    {
     "data": {
      "text/plain": [
       "<Figure size 432x288 with 0 Axes>"
      ]
     },
     "metadata": {},
     "output_type": "display_data"
    },
    {
     "data": {
      "text/plain": [
       "<Figure size 432x288 with 0 Axes>"
      ]
     },
     "metadata": {},
     "output_type": "display_data"
    },
    {
     "data": {
      "text/plain": [
       "<Figure size 432x288 with 0 Axes>"
      ]
     },
     "metadata": {},
     "output_type": "display_data"
    },
    {
     "data": {
      "text/plain": [
       "<Figure size 432x288 with 0 Axes>"
      ]
     },
     "metadata": {},
     "output_type": "display_data"
    },
    {
     "data": {
      "text/plain": [
       "<Figure size 432x288 with 0 Axes>"
      ]
     },
     "metadata": {},
     "output_type": "display_data"
    },
    {
     "data": {
      "text/plain": [
       "<Figure size 432x288 with 0 Axes>"
      ]
     },
     "metadata": {},
     "output_type": "display_data"
    },
    {
     "data": {
      "text/plain": [
       "<Figure size 432x288 with 0 Axes>"
      ]
     },
     "metadata": {},
     "output_type": "display_data"
    }
   ],
   "source": [
    "#--------main------\n",
    "goal_reached = False\n",
    "visited_painting = False\n",
    "\n",
    "occupancy_grid, list_paintings_grid, start_grid, goal_grid, fig, ax= create_fill_grid()\n",
    "occupancy_grid = checkerboard(occupancy_grid)\n",
    "\n",
    "#start position given to Pablo so we can delete it in the path\n",
    "start_cm = convert_grid_to_cm(int(start_grid[0]),int(start_grid[1]))\n",
    "Pablo = T(start_cm[0], start_cm[1], 0)\n",
    "\n",
    "\n",
    "while not goal_reached:\n",
    "\n",
    "    start_grid = convert_cm_to_grid(Pablo.x, Pablo.y)\n",
    "    print(occupancy_grid[start_grid[0]][start_grid[1]])\n",
    "    path = thymio_path(list_paintings_grid, start_grid, goal_grid, fig, ax, occupancy_grid)\n",
    "    del path[0] \n",
    "    print(\"------------path :\", path)\n",
    "    goal_reached, visited_painting = navigation(path, visited_painting)\n",
    "    \n",
    "    \n",
    "print(\"------------------------------goal reached\")\n",
    "stop_pablo()\n"
   ]
  },
  {
   "cell_type": "code",
   "execution_count": 160,
   "metadata": {},
   "outputs": [
    {
     "name": "stdout",
     "output_type": "stream",
     "text": [
      "81.33003580670128 26.883606578630857\n",
      "[[0. 5. 0. 5. 0. 5. 0. 5. 0. 5. 0. 5.]\n",
      " [5. 0. 5. 0. 5. 0. 5. 0. 5. 0. 5. 0.]\n",
      " [0. 5. 0. 5. 0. 5. 0. 5. 0. 5. 0. 5.]\n",
      " [5. 3. 5. 0. 5. 0. 5. 0. 1. 1. 1. 1.]\n",
      " [0. 5. 0. 5. 0. 5. 0. 5. 1. 1. 1. 1.]\n",
      " [5. 0. 5. 0. 5. 0. 5. 0. 1. 1. 1. 1.]\n",
      " [0. 5. 0. 5. 0. 5. 0. 5. 0. 5. 0. 5.]\n",
      " [5. 0. 5. 0. 4. 0. 5. 0. 5. 0. 5. 0.]\n",
      " [0. 5. 0. 5. 0. 5. 0. 5. 0. 5. 0. 5.]\n",
      " [5. 0. 5. 0. 5. 0. 5. 0. 5. 0. 5. 0.]\n",
      " [1. 1. 1. 1. 0. 5. 0. 5. 0. 5. 0. 5.]\n",
      " [1. 1. 1. 1. 5. 0. 5. 0. 5. 0. 5. 0.]\n",
      " [1. 1. 1. 1. 0. 5. 0. 5. 0. 5. 0. 5.]\n",
      " [5. 0. 5. 0. 5. 0. 5. 0. 5. 0. 5. 0.]\n",
      " [0. 5. 0. 5. 0. 5. 0. 5. 0. 5. 0. 5.]\n",
      " [5. 0. 5. 0. 5. 0. 5. 0. 5. 0. 5. 0.]\n",
      " [0. 5. 0. 2. 0. 5. 0. 5. 0. 5. 0. 5.]\n",
      " [5. 0. 5. 0. 5. 0. 5. 0. 5. 0. 5. 0.]\n",
      " [0. 5. 0. 5. 0. 5. 0. 5. 0. 5. 0. 5.]\n",
      " [5. 0. 5. 0. 5. 0. 5. 0. 5. 0. 5. 0.]]\n",
      "5.0\n",
      "start [17, 4]\n"
     ]
    }
   ],
   "source": [
    "print(Pablo.x, Pablo.y)\n",
    "print(occupancy_grid)\n",
    "print(occupancy_grid[9][4])\n",
    "print('start', start_grid)"
   ]
  },
  {
   "cell_type": "code",
   "execution_count": 161,
   "metadata": {},
   "outputs": [],
   "source": [
    "stop_pablo()"
   ]
  },
  {
   "cell_type": "code",
   "execution_count": null,
   "metadata": {},
   "outputs": [],
   "source": [
    "t = time.time()\n",
    "t_next = t + 9.04\n",
    "while time.time()<t_next:\n",
    "    th.set_var(\"motor.left.target\", 100)\n",
    "    th.set_var(\"motor.right.target\", 2**16 -100)\n",
    "    \n",
    "th.set_var(\"motor.right.target\", 0)\n",
    "th.set_var(\"motor.left.target\", 0)"
   ]
  },
  {
   "cell_type": "code",
   "execution_count": null,
   "metadata": {},
   "outputs": [],
   "source": [
    "def shit_local_obstacle_avoidance():\n",
    "    local_mode = 1  # local_mode == 0 => Thymio goes straight, \n",
    "                    # local_mode == 1 => Thymio is in obstacle avoidance mode\n",
    "    Velocity_0 = 100\n",
    "    Obstacle_gain = [10, 15]\n",
    "    Threshold_enter_obstavoid = 20 # Threshold to enter obstacle avoidance mode\n",
    "    Threshold_quit_obstavoid = 10 # Threshold to quit obstacle avoidance mode\n",
    "    Timer = 1 * 10**(-3) # 1ms\n",
    "    Counter = 0\n",
    "    Limit_loops = 10000 # number of while loops to go through before quitting, entering obstacle avoidance mode reset the counter\n",
    "\n",
    "    while Counter < Limit_loops:\n",
    "        local_mode = get_local_mode(local_mode)\n",
    "\n",
    "        if local_mode == 0: # goes straight\n",
    "            th.set_var(\"motor.right.target\", Velocity_0)\n",
    "            th.set_var(\"motor.left.target\", Velocity_0)\n",
    "            Counter += 1\n",
    "            \n",
    "            \n",
    "        else: # avoid obstacle depending on sensors values\n",
    "            if (th[\"prox.horizontal\"][0] == 0 and\n",
    "                th[\"prox.horizontal\"][1] == 0 and\n",
    "                th[\"prox.horizontal\"][3] == 0 and\n",
    "                th[\"prox.horizontal\"][4] == 0):\n",
    "                Left_gain = 0\n",
    "                Right_gain = int(Obstacle_gain[1]*(th[\"prox.horizontal\"][2]/100))\n",
    "            else:\n",
    "                Left_gain = int(Obstacle_gain[0]*(th[\"prox.horizontal\"][4]/100)) + int(Obstacle_gain[1]*(th[\"prox.horizontal\"][3]/100))\n",
    "                Right_gain = int(Obstacle_gain[0]*(th[\"prox.horizontal\"][0]/100)) + int(Obstacle_gain[1]*(th[\"prox.horizontal\"][1]/100))\n",
    "\n",
    "            if Left_gain > Velocity_0:\n",
    "                th.set_var(\"motor.left.target\", 2**16 + (Velocity_0 - Left_gain))\n",
    "            else:\n",
    "                th.set_var(\"motor.left.target\", (Velocity_0 - Left_gain))\n",
    "\n",
    "            if Right_gain > Velocity_0:\n",
    "                th.set_var(\"motor.right.target\", 2**16 + (Velocity_0 - Right_gain))\n",
    "            else:\n",
    "                th.set_var(\"motor.right.target\", (Velocity_0 - Right_gain))\n",
    "            Counter = 0\n",
    "\n",
    "        time.sleep(Timer) # wait 1ms before relooping\n"
   ]
  },
  {
   "cell_type": "code",
   "execution_count": null,
   "metadata": {},
   "outputs": [],
   "source": [
    "t = time.time()\n",
    "t_next = t + 9.52\n",
    "while time.time()<t_next:\n",
    "    th.set_var(\"motor.right.target\", 100)\n",
    "    th.set_var(\"motor.left.target\", 2**16 -100)\n",
    "    \n",
    "th.set_var(\"motor.right.target\", 0)\n",
    "th.set_var(\"motor.left.target\", 0)"
   ]
  },
  {
   "cell_type": "code",
   "execution_count": null,
   "metadata": {},
   "outputs": [],
   "source": [
    "t = time.time() #5.8cm ->1.8s\n",
    "t_next = t + 1.8\n",
    "while time.time()<t_next:\n",
    "    th.set_var(\"motor.right.target\", 100)\n",
    "    th.set_var(\"motor.left.target\", 100)\n",
    "    \n",
    "th.set_var(\"motor.right.target\", 0)\n",
    "th.set_var(\"motor.left.target\", 0)"
   ]
  },
  {
   "cell_type": "code",
   "execution_count": null,
   "metadata": {},
   "outputs": [],
   "source": []
  }
 ],
 "metadata": {
  "kernelspec": {
   "display_name": "Python 3",
   "language": "python",
   "name": "python3"
  },
  "language_info": {
   "codemirror_mode": {
    "name": "ipython",
    "version": 3
   },
   "file_extension": ".py",
   "mimetype": "text/x-python",
   "name": "python",
   "nbconvert_exporter": "python",
   "pygments_lexer": "ipython3",
   "version": "3.7.3"
  }
 },
 "nbformat": 4,
 "nbformat_minor": 2
}
