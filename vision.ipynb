{
 "cells": [
  {
   "cell_type": "markdown",
   "metadata": {},
   "source": [
    "# Pablo the Thymio visits its first museum "
   ]
  },
  {
   "cell_type": "markdown",
   "metadata": {},
   "source": [
    "Today, Pablo wants to go to the museum. Since he's never been in a art museum, he decide to go to the famous \"Aseba Museum\"! \n",
    "The lady at the entrance gives him a map of the museum and thymio decides to study it before visiting.\n",
    "He goes in the cafeteria, order a cup of coffee and take his 4-colors pen.\n",
    "He circles in red all the painting he wants to see, and draw a green path to see them all.\n",
    "\n",
    "The adventure now begins:\n"
   ]
  },
  {
   "cell_type": "markdown",
   "metadata": {},
   "source": [
    "**Libraries to import**"
   ]
  },
  {
   "cell_type": "code",
   "execution_count": 1,
   "metadata": {},
   "outputs": [
    {
     "ename": "ModuleNotFoundError",
     "evalue": "No module named 'serial'",
     "output_type": "error",
     "traceback": [
      "\u001b[1;31m---------------------------------------------------------------------------\u001b[0m",
      "\u001b[1;31mModuleNotFoundError\u001b[0m                       Traceback (most recent call last)",
      "\u001b[1;32m<ipython-input-1-df860d5fd160>\u001b[0m in \u001b[0;36m<module>\u001b[1;34m\u001b[0m\n\u001b[0;32m      3\u001b[0m \u001b[1;32mimport\u001b[0m \u001b[0mos\u001b[0m\u001b[1;33m\u001b[0m\u001b[1;33m\u001b[0m\u001b[0m\n\u001b[0;32m      4\u001b[0m \u001b[1;32mimport\u001b[0m \u001b[0msys\u001b[0m\u001b[1;33m\u001b[0m\u001b[1;33m\u001b[0m\u001b[0m\n\u001b[1;32m----> 5\u001b[1;33m \u001b[1;32mimport\u001b[0m \u001b[0mserial\u001b[0m\u001b[1;33m\u001b[0m\u001b[1;33m\u001b[0m\u001b[0m\n\u001b[0m\u001b[0;32m      6\u001b[0m \u001b[1;33m\u001b[0m\u001b[0m\n\u001b[0;32m      7\u001b[0m \u001b[1;32mimport\u001b[0m \u001b[0mnumpy\u001b[0m \u001b[1;32mas\u001b[0m \u001b[0mnp\u001b[0m\u001b[1;33m\u001b[0m\u001b[1;33m\u001b[0m\u001b[0m\n",
      "\u001b[1;31mModuleNotFoundError\u001b[0m: No module named 'serial'"
     ]
    }
   ],
   "source": [
    "import cv2\n",
    "import time\n",
    "import os\n",
    "import sys\n",
    "import serial\n",
    "\n",
    "import numpy as np\n",
    "from math import *\n",
    "\n",
    "%matplotlib notebook \n",
    "import matplotlib.pyplot as plt\n",
    "%matplotlib notebook\n",
    "from matplotlib import colors\n",
    "%matplotlib inline\n",
    "\n",
    "from bokeh.plotting import figure\n",
    "from bokeh.io import output_notebook, show, push_notebook\n",
    "from tqdm import tqdm\n",
    "\n",
    "import IPython.display as Disp\n",
    "from ipywidgets import widgets"
   ]
  },
  {
   "cell_type": "markdown",
   "metadata": {},
   "source": [
    "**Magic numbers**"
   ]
  },
  {
   "cell_type": "code",
   "execution_count": 2,
   "metadata": {},
   "outputs": [],
   "source": [
    "#Code for the occupancy grid \n",
    "obstacle_here = 1\n",
    "painting_here = 2\n",
    "goal_here = 3\n",
    "start_here = 4\n",
    "marker_here = 5\n",
    "\n",
    "size_marker_cm = 6"
   ]
  },
  {
   "cell_type": "markdown",
   "metadata": {},
   "source": [
    "**Define global variables**"
   ]
  },
  {
   "cell_type": "code",
   "execution_count": 3,
   "metadata": {},
   "outputs": [],
   "source": [
    "#Size of the grid (defined in get_params())\n",
    "global max_val_x, max_val_y\n",
    "global list_delimitation #top left and bottom right corners [pixel]"
   ]
  },
  {
   "cell_type": "markdown",
   "metadata": {},
   "source": [
    "**Initialize the class Thymio, with position, sensor values etc**"
   ]
  },
  {
   "cell_type": "code",
   "execution_count": 222,
   "metadata": {},
   "outputs": [],
   "source": [
    "class Thymio:\n",
    "    def __init__(self, x, y, vel): # x and y are in cm, theta in degrees\n",
    "        self.x = x\n",
    "        self.y = y\n",
    "        self.theta = 90\n",
    "        self.ground = [0,0]\n",
    "        self.front = [0,0,0,0,0]\n",
    "        self.vel = vel\n",
    "    \n",
    "    def set_pos(self, x, y, theta):\n",
    "        self.x = x\n",
    "        self.y = y\n",
    "        self.theta = theta\n",
    "    \n",
    "    def get_ground(self):\n",
    "        self.ground = th[\"prox.ground.delta\"] # à déterminer s'il vaut mieux choisir ground.ambiant, \n",
    "                                              # ground.delta\n",
    "        return self.ground                    # ou bien encore ground.... \n",
    "                                              #(le dernier des trois possibles, voir les variables Aseba)\n",
    "        \n",
    "    def get_front(self):\n",
    "        self.front = th[\"prox.horizontal\"][0:4]\n",
    "        return self.front\n",
    "        \n",
    "    def pos(self):\n",
    "        return [self.x, self.y, self.theta]\n",
    "    \n",
    "    def move(self, u): # soit simplement set la vitesse des roues, \n",
    "                       # possible de faire l'odometry ici aussi je pense\n",
    "        \n",
    "        # Move thymio depending on the control inputs u\n",
    "        th.set_var(\"motor.left.target\", u[0])\n",
    "        the.set_var(\"motor.right.target\", u[1])\n",
    "        \n",
    "        \n",
    "    def __repr__(self): # called when print(Thymio) is used\n",
    "        return \"(x, y, theta) = (%.2f, %.2f, %.1f)\" %(self.x, self.y, self.theta)"
   ]
  },
  {
   "cell_type": "markdown",
   "metadata": {},
   "source": [
    "# -----------------------------------------------VISION-----------------------------------------------\n",
    "\n",
    "The function `detect_images()` allows to detect an image (`template`) within another (`img`). We use this function to return the position of the center of each painting in the map. After trying the different methods for matching with the template, we found that the square difference normed seemed to work best."
   ]
  },
  {
   "cell_type": "code",
   "execution_count": 201,
   "metadata": {},
   "outputs": [],
   "source": [
    "def detect_image(img, template, display_images):\n",
    "    \"\"\"\n",
    "    Find template in img and draw a rectangle on it\n",
    "        if display_images, display the image\n",
    "    :return: coordinates of the center of the template in the image\n",
    "    \"\"\"\n",
    "    w, h = template.shape[::-1]\n",
    "    \n",
    "    method = cv2.TM_SQDIFF_NORMED\n",
    "\n",
    "    # Apply template Matching\n",
    "    res = cv2.matchTemplate(img,template,method)\n",
    "    min_val, max_val, min_loc, max_loc = cv2.minMaxLoc(res)\n",
    "    \n",
    "    #take minimum (due to the choice of the method)\n",
    "    top_left = min_loc\n",
    "    bottom_right = (top_left[0] + w, top_left[1] + h)\n",
    "    #draw rectangle in img \n",
    "    cv2.rectangle(img,top_left, bottom_right, (0,0,255), 7)\n",
    "\n",
    "    if display_images:\n",
    "        plt.figure()\n",
    "        ax4 = plt.subplot(121),plt.imshow(res, cmap = 'gray')\n",
    "        plt.title('Matching Result'), plt.xticks([]), plt.yticks([])\n",
    "        ax5 = plt.subplot(122),plt.imshow(img, cmap = 'gray')\n",
    "        plt.title('Detected picture'), plt.xticks([]), plt.yticks([])\n",
    "        plt.suptitle(method)\n",
    "        \n",
    "        plt.show()\n",
    "        \n",
    "    center = [(top_left[0] + bottom_right[0])/2, (top_left[1] + bottom_right[1])/2]\n",
    "    return center #coordinates of the center of the image."
   ]
  },
  {
   "cell_type": "markdown",
   "metadata": {},
   "source": [
    "`detect_multiple` uses the same principle as `detect_image`, except it can detect several occurences of the same template in the image. We use this function to detect the corners of the map, as well as the obstacles. Returns a list of the coordinates of the top left corners of each occurence."
   ]
  },
  {
   "cell_type": "code",
   "execution_count": 202,
   "metadata": {},
   "outputs": [],
   "source": [
    "def detect_multiple(name_img, img, template, threshold, display_images):\n",
    "    \"\"\"\n",
    "    Detect all template in image and draw a rectangle on each one of them \n",
    "        if display_images, display the image\n",
    "    :return: list of coordinates of each template's top left \n",
    "    \"\"\"\n",
    "    \n",
    "    img_gray = img\n",
    "    img_rgb = cv2.imread(name_img, cv2.IMREAD_COLOR)\n",
    "    \n",
    "    w, h = template.shape[::-1]\n",
    "\n",
    "    res = cv2.matchTemplate(img_gray,template,cv2.TM_SQDIFF_NORMED)\n",
    "\n",
    "    #take all coordinate where template is detected\n",
    "    loc = np.where(res <= threshold)\n",
    "    \n",
    "    #Since each template might be detected several time, we need to make sure we have one coordinate by template\n",
    "    \n",
    "    #take 1st point, init the precedent point and create a list of point\n",
    "    pt_prec = [loc[1][0], loc[0][0]]\n",
    "    list_pt = [pt_prec] \n",
    "    \n",
    "    #draw rectangle for first point in img_rgb\n",
    "    cv2.rectangle(img_rgb, (pt_prec[0], pt_prec[1]), (int(pt_prec[0] + w), int(pt_prec[1] + h)), (255,0,0), 5)\n",
    "    \n",
    "    #list of extra point we don't want\n",
    "    pt_notchoosen = []\n",
    "\n",
    "    #Check if point in loc is a new obstacle or not\n",
    "    for pt in zip(*loc[::-1]):\n",
    "        \n",
    "        #if not too close of the previous choosen point, might be a new obstacle\n",
    "        if (abs(pt[0] - pt_prec[0]) > 1) or (abs(pt[1] - pt_prec[1]) > 1) :\n",
    "            same_obstacle = 0\n",
    "            \n",
    "            #if too close of not wanted point, not a new obstacle, we don't want it\n",
    "            for pt_not in pt_notchoosen:\n",
    "                if (abs(pt[0] - pt_not[0]) <=10) and (abs(pt[1] - pt_not[1]) <= 10):\n",
    "                    same_obstacle = 1\n",
    "                    pt_notchoosen.append([pt[0], pt[1]])\n",
    "                    break\n",
    "            #if not too close, we add it to the list, draw a rectangle and update pt_prec\n",
    "            if not same_obstacle : \n",
    "                list_pt.append([pt[0], pt[1]])\n",
    "                cv2.rectangle(img_rgb, pt, (pt[0] + w, pt[1] + h), (255,0,0), 5)\n",
    "                pt_prec = pt\n",
    "                \n",
    "        #if too close of not wanted point, not a new obstacle, we don't want it        \n",
    "        else:\n",
    "            pt_notchoosen.append([pt[0], pt[1]])\n",
    "                    \n",
    "    \n",
    "    #cv2.imwrite('res.png',img_rgb)\n",
    "    if display_images:\n",
    "        plt.figure()\n",
    "        ax2 = plt.subplot(121),plt.imshow(res,cmap = 'gray')\n",
    "        plt.title('Matching Result'), plt.xticks([]), plt.yticks([])\n",
    "        ax3 = plt.subplot(122),plt.imshow(img_rgb,cmap = 'gray')\n",
    "        plt.title('Detected obstacles'), plt.xticks([]), plt.yticks([])\n",
    "        \n",
    "        plt.show()\n",
    "        \n",
    "    #list_pt contains the coordinates of the top left corners of all the objects    \n",
    "    return list_pt, w, h"
   ]
  },
  {
   "cell_type": "markdown",
   "metadata": {},
   "source": [
    "# Filtering\n",
    "\n",
    "The function `filtering()` is taking an image, applying a bilateral filter on it. Then we decided to apply Otsu's thresholding to filter the image. This allows to filter out the checkerboard that is on the map, and also the symbols (paintings, start, goal) are clearer. This function returns the filtered image.\n",
    "\n",
    "\n",
    "\n",
    "-Bw_photo is not used --> bilateralFilter not used ? *Change to used, if no need to detect marker --> ok* \n",
    "(ben si elle est used, c'est sur cette image qu'on applique le thresholding otsu.)\n"
   ]
  },
  {
   "cell_type": "code",
   "execution_count": 203,
   "metadata": {},
   "outputs": [],
   "source": [
    "def filtering(name_img, display_images):\n",
    "    \"\"\"\n",
    "    Filter the image using bilateral filter and otsu thersholding \n",
    "        if display_images, display the image\n",
    "    :return: image filtered\n",
    "    \"\"\"\n",
    "    photo = cv2.imread(name_img)\n",
    "    bilateral = cv2.bilateralFilter(photo,9,75,75)\n",
    "    \n",
    "    #convert image in BW\n",
    "    bw_photo = cv2.cvtColor(bilateral, cv2.COLOR_BGR2GRAY)\n",
    "\n",
    "    #ret2,th2 = cv2.threshold(cv2.cvtColor(photo, cv2.COLOR_BGR2GRAY),0,255,cv2.THRESH_BINARY+cv2.THRESH_OTSU)\n",
    "    _,filtered_image = cv2.threshold(bw_photo,0,255,cv2.THRESH_BINARY+cv2.THRESH_OTSU)\n",
    "\n",
    "    if display_images:\n",
    "        plt.figure()\n",
    "        ax = plt.subplot(121),plt.imshow(photo[:,:,::-1], cmap = 'gray')\n",
    "        plt.title('Original'), plt.xticks([]), plt.yticks([])\n",
    "        ax1 = plt.subplot(122),plt.imshow(filtered_image, cmap = 'gray')\n",
    "        plt.title('Filtered image'), plt.xticks([]), plt.yticks([])\n",
    "        \n",
    "        plt.show()\n",
    "        \n",
    "    return filtered_image"
   ]
  },
  {
   "cell_type": "markdown",
   "metadata": {},
   "source": [
    "# ----------------------------------------------Parameters----------------------------------------------\n",
    "\n",
    "In `get_params()`, we can set all the parameters : the name of the images files (the map, obstacles and corners are in the folder 'structure', and the paintings, start, goal are in the folder 'oeuvres'). \n",
    "The grid parameters can also be changed. It is the number of squares in x and y (`max_val_x`and `max_val_y`).\n",
    "\n",
    "All images are then filtered with `filtering()`. We use `detect_image`and `detect_multiple` in order to get the :\n",
    "    - list of corners (top left coordinates)\n",
    "    - list of obstacles (top left coordinates)\n",
    "    - list of paintings (center coordinates)\n",
    "    - start and stop positions (center coordinates)\n",
    "    \n",
    "We also return the width and height of the corners and obstacles, that we will use later in **AJOUTER FUNCTION**."
   ]
  },
  {
   "cell_type": "code",
   "execution_count": 204,
   "metadata": {},
   "outputs": [],
   "source": [
    "def get_param():\n",
    "    global max_val_x, max_val_y\n",
    "    \n",
    "    name_map ='structure/cartecoindamier.jpg'\n",
    "    name_picture = ['oeuvres/triangle.png', 'oeuvres/nuage.png', 'oeuvres/coeur.png']\n",
    "    name_obstacle = 'structure/obstacle.png'\n",
    "    name_corner = 'structure/coin.png'\n",
    "    \n",
    "    #departure and goal symbols\n",
    "    name_start = 'oeuvres/thymio.png'\n",
    "    name_goal = 'oeuvres/etoile.png'\n",
    "\n",
    "    #G R I D parameters\n",
    "    max_val_x = 20\n",
    "    max_val_y = 14\n",
    "    \n",
    "    mapim = cv2.imread(name_map,0)\n",
    "    obstacle = cv2.imread(name_obstacle,0)\n",
    "    corner = cv2.imread(name_corner,0)\n",
    "    start = cv2.imread(name_start,0)\n",
    "    goal = cv2.imread(name_goal,0)\n",
    " \n",
    "    display_images = False\n",
    "\n",
    "    #filter images\n",
    "    map_filtered = filtering(name_map, display_images)\n",
    "    obstacle_filtered = filtering(name_obstacle, display_images)\n",
    "    corner_filtered = filtering(name_corner, display_images)\n",
    "    start_filtered = filtering(name_start, display_images)\n",
    "    goal_filtered = filtering(name_goal, display_images)\n",
    "    \n",
    "    picture_filtered = []\n",
    "    list_paintings = []\n",
    "    #get the list of the center coordinates of all paintings\n",
    "    for i in range(len(name_picture)):\n",
    "        picture_filtered.append(filtering(name_picture[i], display_images))\n",
    "        list_paintings.append(detect_image(map_filtered, picture_filtered[i], display_images))\n",
    "\n",
    "    #get list of coordinates of obstacles and corners\n",
    "    list_obstacles,w_obst,h_obst = detect_multiple(name_map, map_filtered, obstacle_filtered, 0.8 , display_images)\n",
    "    list_corners, w_corner, h_corner = detect_multiple(name_map, map_filtered, corner_filtered, 0.2, display_images)\n",
    "    \n",
    "    #get coordinates of the start and stop position\n",
    "    start = detect_image(map_filtered, start_filtered, display_images)\n",
    "    goal = detect_image(map_filtered, goal_filtered, display_images)\n",
    "    \n",
    "    return list_paintings, list_obstacles, w_obst, h_obst, list_corners, w_corner, h_corner, start, goal"
   ]
  },
  {
   "cell_type": "markdown",
   "metadata": {},
   "source": [
    "# ------------------------------------------------GRID------------------------------------------------"
   ]
  },
  {
   "cell_type": "markdown",
   "metadata": {},
   "source": [
    "`get_rectangle()` "
   ]
  },
  {
   "cell_type": "code",
   "execution_count": 205,
   "metadata": {},
   "outputs": [],
   "source": [
    "def get_rectangle(list_corners, w_corner, h_corner):\n",
    "    #take the smallest rectangle inside the corners\n",
    "    sort_corners = sorted(list_corners) #trie les points selon x\n",
    "    x1 = max(sort_corners[0][0], sort_corners[1][0])\n",
    "    x2 = min(sort_corners[2][0], sort_corners[3][0]) + w_corner\n",
    "\n",
    "    sort_corners = sorted(list_corners , key=lambda k: [k[1], k[0]])\n",
    "    y1 = max(sort_corners[0][1], sort_corners[1][1])\n",
    "    y2 = min(sort_corners[2][1], sort_corners[3][1]) + h_corner\n",
    "\n",
    "    return [[x1,y1],[x2,y2]]"
   ]
  },
  {
   "cell_type": "markdown",
   "metadata": {},
   "source": [
    "create grid for visualization"
   ]
  },
  {
   "cell_type": "code",
   "execution_count": 206,
   "metadata": {},
   "outputs": [],
   "source": [
    "def create_visual_grid():\n",
    "    fig, ax = plt.subplots(figsize=(7,7))\n",
    "\n",
    "    major_ticks = np.arange(0, max_val_x+1, 10)\n",
    "    minor_ticks = np.arange(0, max_val_x+1, 1)\n",
    "    ax.set_xticks(major_ticks)\n",
    "    ax.set_xticks(minor_ticks, minor=True)\n",
    "    ax.set_yticks(major_ticks)\n",
    "    ax.set_yticks(minor_ticks, minor=True)\n",
    "    ax.grid(which='minor', alpha=0.2)\n",
    "    ax.grid(which='major', alpha=0.5)\n",
    "    ax.set_ylim([-1,max_val_y])\n",
    "    ax.set_xlim([-1,max_val_x])\n",
    "    ax.grid(True)\n",
    "    return fig, ax"
   ]
  },
  {
   "cell_type": "markdown",
   "metadata": {},
   "source": [
    "Convert pixel coordinate into grid coordinate"
   ]
  },
  {
   "cell_type": "code",
   "execution_count": 207,
   "metadata": {},
   "outputs": [],
   "source": [
    "def convert_px_to_grid(x,y):\n",
    "    x_grid = max_val_x*(x - list_delimitation[0][0])/(list_delimitation[1][0] - list_delimitation[0][0])\n",
    "    y_grid = max_val_y - max_val_y*(y - list_delimitation[0][1])/(list_delimitation[1][1] - list_delimitation[0][1])\n",
    "    return [x_grid,y_grid]"
   ]
  },
  {
   "cell_type": "markdown",
   "metadata": {},
   "source": [
    "Convert cm into grid coordinate"
   ]
  },
  {
   "cell_type": "code",
   "execution_count": 208,
   "metadata": {},
   "outputs": [],
   "source": [
    "def convert_cm_to_grid(x,y):\n",
    "    x_grid = floor(x/size_marker_cm)\n",
    "    y_grid = floor(y/size_marker_cm)\n",
    "    return [x_grid,y_grid]"
   ]
  },
  {
   "cell_type": "markdown",
   "metadata": {},
   "source": [
    "Convert grid into cm"
   ]
  },
  {
   "cell_type": "code",
   "execution_count": 209,
   "metadata": {},
   "outputs": [],
   "source": [
    "def convert_grid_to_cm(x,y):\n",
    "    x_cm = x*size_marker_cm\n",
    "    y_cm = y*size_marker_cm\n",
    "    return [x_cm, y_cm]"
   ]
  },
  {
   "cell_type": "markdown",
   "metadata": {},
   "source": [
    "Create The grid and fill it"
   ]
  },
  {
   "cell_type": "code",
   "execution_count": 210,
   "metadata": {},
   "outputs": [],
   "source": [
    "def create_fill_grid():\n",
    "    global list_delimitation\n",
    "    #Get coordinate\n",
    "    list_paintings, list_obstacles, w_obst, h_obst, list_corners, w_corner, h_corner, start, goal = get_param()\n",
    "    \n",
    "    #Create visual grid\n",
    "    fig, ax = create_visual_grid()\n",
    "    \n",
    "    # Creating the occupancy grid\n",
    "    occupancy_grid = np.zeros((max_val_x, max_val_y)) # Create an empty grid of max_val_x X max_val_y\n",
    " \n",
    "    cmap = colors.ListedColormap(['white', 'black', 'red', 'blue', 'yellow', 'pink']) # Select the colors: Black = obstacles, \n",
    "                                                            # Red = paintings, blue = goal, yellow = departure??\n",
    "\n",
    "    #Get environnement delimitations\n",
    "    list_delimitation = get_rectangle(list_corners, w_corner, h_corner)\n",
    "    \n",
    "    #thymio grid size\n",
    "    half_thymio = 83 #[mm]\n",
    "    size_sheet = [841, 594] #[mm]\n",
    "    safe_zone = [half_thymio * max_val_x/size_sheet[0], half_thymio * max_val_y/size_sheet[1]]\n",
    "    \n",
    "    \n",
    "    for obs in list_obstacles:\n",
    "        #Convert coordinate into grid coordinate and take into accompt the obstacle size and thymio size (safezone)\n",
    "        obs_grid_tl = convert_px_to_grid(obs[0] - safe_zone[0], obs[1] + safe_zone[1])\n",
    "        obs_grid_br = convert_px_to_grid(obs[0] + w_obst + safe_zone[0], obs[1] + h_obst - safe_zone[1])\n",
    "        \n",
    "        #check if out of the grid because of safe zone                \n",
    "        for i in range(max(floor(obs_grid_tl[0]),0), min(ceil(obs_grid_br[0]), max_val_x)):\n",
    "            for j in range(max(floor(obs_grid_br[1]), 0), min(ceil(obs_grid_tl[1]), max_val_y)):\n",
    "                occupancy_grid[i,j] = obstacle_here\n",
    "\n",
    "    list_paintings_grid = []\n",
    "    #Convert coordinate into grid coordinate\n",
    "    for paint in list_paintings:\n",
    "        paint_grid = convert_px_to_grid(paint[0], paint[1])\n",
    "        paint_grid = [round(paint_grid[0]), round(paint_grid[1])]\n",
    "        list_paintings_grid.append(paint_grid)\n",
    "        occupancy_grid[int(paint_grid[0]), int(paint_grid[1])] = painting_here\n",
    "\n",
    "    goal_grid = convert_px_to_grid(goal[0], goal[1])\n",
    "    occupancy_grid[int(goal_grid[0]), int(goal_grid[1])] = goal_here\n",
    "    \n",
    "    start_grid = convert_px_to_grid(start[0], start[1])\n",
    "    occupancy_grid[int(start_grid[0]), int(start_grid[1])] = start_here\n",
    "\n",
    "    # Displaying the map\n",
    "    ax.imshow(occupancy_grid, cmap=cmap)\n",
    "    \n",
    "    return occupancy_grid, list_paintings_grid, start_grid, goal_grid, fig, ax\n",
    "    "
   ]
  },
  {
   "cell_type": "markdown",
   "metadata": {},
   "source": [
    "G R I D "
   ]
  },
  {
   "cell_type": "markdown",
   "metadata": {},
   "source": [
    "**ASTAR**\n"
   ]
  },
  {
   "cell_type": "code",
   "execution_count": 211,
   "metadata": {},
   "outputs": [],
   "source": [
    "def _get_movements_4n():\n",
    "    \"\"\"\n",
    "    Get all possible 4-connectivity movements.\n",
    "    :return: list of movements with cost [(dx, dy, movement_cost)]\n",
    "    \"\"\"\n",
    "    return [(1, 0, 1.0),\n",
    "            (0, 1, 1.0),\n",
    "            (-1, 0, 1.0),\n",
    "            (0, -1, 1.0)]\n",
    "\n",
    "def reconstruct_path(cameFrom, current):\n",
    "    \"\"\"\n",
    "    Recurrently reconstructs the path from start node to the current node\n",
    "    :param cameFrom: map (dictionary) containing for each node n the node immediately \n",
    "                     preceding it on the cheapest path from start to n \n",
    "                     currently known.\n",
    "    :param current: current node (x, y)\n",
    "    :return: list of nodes from start to current node\n",
    "    \"\"\"\n",
    "    total_path = [current]\n",
    "    while current in cameFrom.keys():\n",
    "        # Add where the current node came from to the start of the list\n",
    "        total_path.insert(0, cameFrom[current]) \n",
    "        current=cameFrom[current]\n",
    "    return total_path\n",
    "\n",
    "def A_Star(start, goal, h, coords, occupancy_grid):\n",
    "    \"\"\"\n",
    "    A* for 2D occupancy grid. Finds a path from start to goal.\n",
    "    h is the heuristic function. h(n) estimates the cost to reach goal from node n.\n",
    "    :param start: start node (x, y)\n",
    "    :param goal_m: goal node (x, y)\n",
    "    :param occupancy_grid: the grid map\n",
    "    :return: a tuple that contains: (the resulting path in meters, the resulting path in data array indices)\n",
    "    \"\"\"\n",
    "\n",
    "    for point in [start, goal]: \n",
    "        assert point[0]>=0 and point[0]<max_val_x, \"start or end goal not contained in the map (x)\"\n",
    "        assert point[1]>=0 and point[1]<max_val_y, \"start or end goal not contained in the map (y)\"\n",
    "    \n",
    "    # check if start and goal nodes correspond to free spaces\n",
    "    if occupancy_grid[start[0], start[1]] == 1:\n",
    "        raise Exception('Start node is not traversable')\n",
    "\n",
    "    if occupancy_grid[goal[0], goal[1]] == 1:\n",
    "        raise Exception('Goal node is not traversable')\n",
    "    \n",
    "    # get possible movements\n",
    "    movements = _get_movements_4n()\n",
    "    \n",
    "    \n",
    "    # The set of visited nodes that need to be (re-)expanded, i.e. for which the neighbors need to be explored\n",
    "    # Initially, only the start node is known.\n",
    "    openSet = [start]\n",
    "    \n",
    "    # The set of visited nodes that no longer need to be expanded.\n",
    "    closedSet = []\n",
    "\n",
    "    # For node n, cameFrom[n] is the node immediately preceding it on the cheapest path from start to n currently known.\n",
    "    cameFrom = dict()\n",
    "\n",
    "    # For node n, gScore[n] is the cost of the cheapest path from start to n currently known.\n",
    "    gScore = dict(zip(coords, [np.inf for x in range(len(coords))]))\n",
    "    gScore[start] = 0\n",
    "\n",
    "    # For node n, fScore[n] := gScore[n] + h(n). map with default value of Infinity\n",
    "    fScore = dict(zip(coords, [np.inf for x in range(len(coords))]))\n",
    "    fScore[start] = h[start]\n",
    "\n",
    "    # while there are still elements to investigate\n",
    "    while openSet != []:\n",
    "        \n",
    "        #the node in openSet having the lowest fScore[] value\n",
    "        fScore_openSet = {key:val for (key,val) in fScore.items() if key in openSet}\n",
    "        current = min(fScore_openSet, key=fScore_openSet.get)\n",
    "        del fScore_openSet\n",
    "        \n",
    "        #If the goal is reached, reconstruct and return the obtained path\n",
    "        if current == goal:\n",
    "            return reconstruct_path(cameFrom, current), closedSet\n",
    "\n",
    "        openSet.remove(current)\n",
    "        closedSet.append(current)\n",
    "        \n",
    "        #for each neighbor of current:\n",
    "        for dx, dy, deltacost in movements:\n",
    "            \n",
    "            neighbor = (current[0]+dx, current[1]+dy)\n",
    "            \n",
    "            # if the node is not in the map, skip\n",
    "            if (neighbor[0] >= occupancy_grid.shape[0]) or (neighbor[1] >= occupancy_grid.shape[1]) or (neighbor[0] < 0) or (neighbor[1] < 0):\n",
    "                continue\n",
    "            \n",
    "            # if the node is occupied or has already been visited, skip\n",
    "            if (occupancy_grid[neighbor[0], neighbor[1]]==obstacle_here) or (neighbor in closedSet): \n",
    "                continue\n",
    "                \n",
    "            # d(current,neighbor) is the weight of the edge from current to neighbor\n",
    "            # tentative_gScore is the distance from start to the neighbor through current\n",
    "            tentative_gScore = gScore[current] + deltacost\n",
    "            \n",
    "            if neighbor not in openSet:\n",
    "                openSet.append(neighbor)\n",
    "                \n",
    "            if tentative_gScore < gScore[neighbor]:\n",
    "                # This path to neighbor is better than any previous one. Record it!\n",
    "                cameFrom[neighbor] = current\n",
    "                gScore[neighbor] = tentative_gScore\n",
    "                fScore[neighbor] = gScore[neighbor] + h[neighbor]\n",
    "\n",
    "    # Open set is empty but goal was never reached\n",
    "    print(\"No path found to goal\")\n",
    "    return [], closedSet\n"
   ]
  },
  {
   "cell_type": "code",
   "execution_count": 212,
   "metadata": {},
   "outputs": [],
   "source": [
    "def detect_stairs(path, occupancy_grid): \n",
    "    new_path = np.array([[path[0][0]], [path[1][0]]])\n",
    "    #new_occ = np.rot90(occupancy_grid)\n",
    "    new_occ = occupancy_grid\n",
    "    \n",
    "    for i in range (1,path.shape[1] - 2):        \n",
    "        if (occupancy_grid[path[0][i+1]][path[1][i+1]]) == painting_here: #if painting keep point\n",
    "            new_path = np.append(new_path, [[path[0][i+1]],[path[1][i+1]]], axis=1)\n",
    "            \n",
    "        else:\n",
    "            if (path[0][i + 2] == path[0][i] + 1) and (path[1][i + 2] == path[1][i] + 1): #going up right\n",
    "                occ1 = new_occ[path[0][i] + 1][path[1][i]]\n",
    "                occ2 = new_occ[path[0][i]][path[1][i] + 1]\n",
    "                if (occ1 == obstacle_here or occ2 == obstacle_here):\n",
    "                    new_path = np.append(new_path, [[path[0][i]],[path[1][i]]], axis=1)\n",
    "                    \n",
    "            elif (path[0][i + 2] == path[0][i] - 1) and (path[1][i + 2] == path[1][i] + 1): #going up left\n",
    "                occ1 = new_occ[path[0][i] - 1][path[1][i]]\n",
    "                occ2 = new_occ[path[0][i]][path[1][i] + 1]\n",
    "                if (occ1 == obstacle_here or occ2 == obstacle_here):\n",
    "                    new_path = np.append(new_path, [[path[0][i]],[path[1][i]]], axis=1)\n",
    "                    \n",
    "            elif (path[0][i + 2] == path[0][i] + 1) and (path[1][i + 2] == path[1][i] - 1): #going down right\n",
    "                occ1 = new_occ[path[0][i] + 1][path[1][i]]\n",
    "                occ2 = new_occ[path[0][i]][path[1][i] - 1]\n",
    "                if (occ1 == obstacle_here or occ2 == obstacle_here):\n",
    "                    new_path = np.append(new_path, [[path[0][i]],[path[1][i]]], axis=1)\n",
    "\n",
    "            elif (path[0][i + 2] == path[0][i] - 1) and (path[1][i + 2] == path[1][i] - 1): #going down left\n",
    "                occ1 = new_occ[path[0][i] - 1][path[1][i]]\n",
    "                occ2 = new_occ[path[0][i]][path[1][i] - 1]\n",
    "                if (occ1 == obstacle_here or occ2 == obstacle_here):\n",
    "                    new_path = np.append(new_path, [[path[0][i]],[path[1][i]]], axis=1)\n",
    "\n",
    "            else:\n",
    "                new_path = np.append(new_path, [[path[0][i]],[path[1][i]]], axis=1)\n",
    "    \n",
    "    new_path = np.append(new_path, [[path[0][-1]],[path[1][-1]]], axis=1)\n",
    "    return new_path"
   ]
  },
  {
   "cell_type": "markdown",
   "metadata": {},
   "source": [
    "Visit paintings"
   ]
  },
  {
   "cell_type": "code",
   "execution_count": 213,
   "metadata": {},
   "outputs": [],
   "source": [
    "def thymio_path(list_paintings_grid, start_grid, goal_grid, fig_astar, ax_astar, occupancy_grid):\n",
    "\n",
    "    # Define the start and end goal constant with entrance and exit of museum\n",
    "    entrance = tuple([int(start_grid[0]), int(start_grid[1])]) #(0,0)\n",
    "    exit = tuple([int(goal_grid[0]), int(goal_grid[1])]) #(20,10)\n",
    "\n",
    "\n",
    "    # List of all coordinates in the grid\n",
    "    x,y = np.mgrid[0:max_val_x:1, 0:max_val_y:1]\n",
    "    pos = np.empty(x.shape + (2,))\n",
    "    pos[:, :, 0] = x; pos[:, :, 1] = y\n",
    "    pos = np.reshape(pos, (x.shape[0]*x.shape[1], 2))\n",
    "    coords = list([(int(x[0]), int(x[1])) for x in pos])\n",
    "    path = []\n",
    "    visitedNodes = []\n",
    "\n",
    "    p = input('Enter the order you want to to see the paintings in :')\n",
    "    visiting_order = []\n",
    "    i = 0\n",
    "    x_t = []\n",
    "    y_t = []\n",
    "    pos_int = 0\n",
    "    while i<len(p):\n",
    "        if p[i].isdigit():\n",
    "            visiting_order.append(int(p[i]))\n",
    "            x_t.append(float(list_paintings_grid[int(p[i])][0]))\n",
    "            y_t.append(float(list_paintings_grid[int(p[i])][1]))\n",
    "        i = i + 1\n",
    "\n",
    "    coords_goal = list([x_v, y_v] for (x_v,y_v) in zip(x_t,y_t))\n",
    "\n",
    "    previous_pos = entrance #Start position\n",
    "    goal_pos = coords_goal[0]\n",
    "\n",
    "    for goal_pos in coords_goal:\n",
    "        # Define the heuristic, here = distance to goal ignoring obstacles\n",
    "        h = np.linalg.norm(pos - goal_pos, axis=-1)\n",
    "        h = dict(zip(coords, h))\n",
    "        goal_pos[0] = int(goal_pos[0])\n",
    "        goal_pos[1] = int(goal_pos[1])\n",
    "\n",
    "        # Run the A* algorithm #PUT ALL TOGETHER\n",
    "        new_path, new_visitedNodes = A_Star(tuple(previous_pos), tuple(goal_pos), h, coords, occupancy_grid)\n",
    "        if len(path) == 0:\n",
    "            path = np.array(new_path).reshape(-1, 2).transpose()\n",
    "        else:\n",
    "            path = np.concatenate((path, np.array(new_path).reshape(-1, 2).transpose()), axis=1)\n",
    "\n",
    "        if len(visitedNodes) == 0:\n",
    "            visitedNodes = np.array(new_visitedNodes).reshape(-1, 2).transpose()\n",
    "        else:\n",
    "            visitedNodes = np.concatenate((visitedNodes, np.array(new_visitedNodes).reshape(-1, 2).transpose()), axis=1)\n",
    "\n",
    "        previous_pos = goal_pos\n",
    "\n",
    "    #####GO TO EXIT\n",
    "    goal_pos = exit\n",
    "    # Define the heuristic, here = distance to goal ignoring obstacles\n",
    "    h = np.linalg.norm(pos - goal_pos, axis=-1)\n",
    "    h = dict(zip(coords, h))\n",
    "\n",
    "    # Run the A* algorithm\n",
    "    new_path, new_visitedNodes = A_Star(tuple(previous_pos), goal_pos, h, coords, occupancy_grid) \n",
    "    if len(path) == 0:\n",
    "            path = np.array(new_path).reshape(-1, 2).transpose()\n",
    "    else:\n",
    "        path = np.concatenate((path, np.array(new_path).reshape(-1, 2).transpose()), axis=1)\n",
    "\n",
    "    if len(visitedNodes) == 0:\n",
    "        visitedNodes = np.array(new_visitedNodes).reshape(-1, 2).transpose()\n",
    "    else:\n",
    "        visitedNodes = np.concatenate((visitedNodes, np.array(new_visitedNodes).reshape(-1, 2).transpose()), axis=1)\n",
    "    \n",
    "    path = detect_stairs(path, occupancy_grid)\n",
    "    \n",
    "    ##### Displaying the map\n",
    "    plt.figure()\n",
    "    #fig_astar, ax_astar = create_empty_plot()\n",
    "    cmap = colors.ListedColormap(['white', 'black', 'red', 'blue', 'yellow', 'pink']) # Select the colors: Black = obstacles, Red = painting\n",
    "    ax_astar.imshow(occupancy_grid.transpose(), cmap=cmap)\n",
    "\n",
    "    # Plot the best path found and the list of visited nodes\n",
    "    ax_astar.scatter(visitedNodes[0], visitedNodes[1], marker=\"o\", color = 'orange')\n",
    "    ax_astar.plot(path[0], path[1], marker=\"o\", color = 'blue')\n",
    "    ax_astar.scatter(entrance[0], entrance[1], marker=\"o\", color = 'green', s=200)\n",
    "    ax_astar.scatter(exit[0], exit[1], marker=\"o\", color = 'purple', s=200)\n",
    "    \n",
    "    path2 = []\n",
    "    #transform the path in a list of [x y]\n",
    "    for i in range(0, path.shape[1]):\n",
    "        path2.append([path[0][i], path[1][i]])\n",
    "    \n",
    "    return path2"
   ]
  },
  {
   "cell_type": "markdown",
   "metadata": {},
   "source": [
    "**Create checkerboard pattern on the grid** \n",
    "\n",
    "We will use A0 format for our map. We want squares of 6cm, hence we need 20 x 14 squares on our map. The 20th \n",
    "square will be cropped, se we will move the corners.\n"
   ]
  },
  {
   "cell_type": "code",
   "execution_count": 214,
   "metadata": {},
   "outputs": [],
   "source": [
    "def checkerboard(occupancy_grid):\n",
    "    \n",
    "    for x in range (0,max_val_x):\n",
    "        for y in range (0,max_val_y):\n",
    "            if not occupancy_grid[x,y]:\n",
    "                if not ((x + y)%2):\n",
    "                    occupancy_grid[x,y] = marker_here\n",
    "            \n",
    "    return occupancy_grid          \n",
    "    "
   ]
  },
  {
   "cell_type": "markdown",
   "metadata": {},
   "source": [
    "Returns what the ground sensors should return given the position and orientation of the Thymio"
   ]
  },
  {
   "cell_type": "code",
   "execution_count": 215,
   "metadata": {},
   "outputs": [],
   "source": [
    "def ground_sensor_theoretical(theta, x, y, occupancy_grid): #theta in degrees, x, y, in cm\n",
    "    pos_grid = convert_cm_to_grid(x,y)\n",
    "    alpha = 9\n",
    "    dist_sensor_center = 7.9\n",
    "    \n",
    "    if (x<0) or (y<0) or (pos_grid[0]>max_val_x) or (pos_grid[1]>max_val_y):\n",
    "        print('ERROR : Thymio out of the grid')\n",
    "        return\n",
    "    pos_sensor_left = [dist_sensor_center*sin((90 - theta - alpha)*pi/180), \n",
    "                       dist_sensor_center*cos((90 - theta - alpha)*pi/180)]\n",
    "    pos_sensor_right = [dist_sensor_center*sin((90 - theta + alpha)*pi/180),\n",
    "                        dist_sensor_center*cos((90 - theta + alpha)*pi/180)]\n",
    "    \n",
    "    pos_sensor_left_grid = convert_cm_to_grid(x + pos_sensor_left[0], y + pos_sensor_left[1])\n",
    "    pos_sensor_right_grid = convert_cm_to_grid(x + pos_sensor_right[0], y + pos_sensor_right[1])\n",
    "    print(\"POS SENSOR GRID: \",pos_sensor_left_grid, pos_sensor_right_grid)\n",
    "    \n",
    "    left = occupancy_grid[int(pos_sensor_left_grid[0]), int(pos_sensor_left_grid[1])]\n",
    "    right = occupancy_grid[int(pos_sensor_right_grid[0]), int(pos_sensor_right_grid[1])]\n",
    "    return [left, right]"
   ]
  },
  {
   "cell_type": "markdown",
   "metadata": {},
   "source": [
    "Function that return a list of the distance (in grid squares) and angle of the thymio for each move"
   ]
  },
  {
   "cell_type": "code",
   "execution_count": 216,
   "metadata": {},
   "outputs": [],
   "source": [
    "def convert_path_to_movements(path):\n",
    "    for i in range (0, len(path)-1):\n",
    "        p_x = path[i][0]\n",
    "        p_y = path[i][1]\n",
    "        n_x = path[i+1][0]\n",
    "        n_y = path[i+1][1]\n",
    "        theta = 0\n",
    "        d = 0\n",
    "        #This condition is needed, since when we do the Astar it will always use the start and end (visiting is start and end)\n",
    "        if(n_x != p_x or n_y != p_y):\n",
    "            #1st quadrant\n",
    "            if(n_x > p_x and n_y >= p_y):\n",
    "                theta = np.arctan(abs(n_y-p_y)/abs(n_x-p_x))\n",
    "            #2nd quadrant\n",
    "            elif(n_x <= p_x and n_y > p_y):\n",
    "                theta = pi/2 + np.arctan(abs(n_y-p_y)/abs(n_x-p_x))\n",
    "            #3rd quadrant\n",
    "            elif(n_x < p_x and n_y <= p_y):\n",
    "                theta = pi + np.arctan(abs(n_x-p_x)/abs(n_y-p_y))\n",
    "            #4th quadrant\n",
    "            elif(n_x >= p_x and n_y < p_y):\n",
    "                theta = 3*pi/2 + np.arctan(abs(n_y-p_y)/abs(n_x-p_x))\n",
    "\n",
    "            d = np.sqrt(np.power(abs(n_x-p_x),2)+np.power(abs(n_y-p_y),2))\n",
    "\n",
    "            if(i == 0):\n",
    "                move = np.array([[np.copy(d)], [np.copy(theta)]])\n",
    "            else:\n",
    "                move = np.append(move, [[np.copy(d)],[np.copy(theta)]], axis=1)\n",
    "        else:\n",
    "            move = np.append(move, [[0],[0]], axis=1)\n",
    "    return move"
   ]
  },
  {
   "cell_type": "markdown",
   "metadata": {},
   "source": [
    "#### markers2reality:\n",
    "\n",
    "This function gives the position in real coordinates (cm) of the given markers coordinates (matrix coordinates). The checkerboard pattern has 6cm sided squares:"
   ]
  },
  {
   "cell_type": "code",
   "execution_count": 217,
   "metadata": {},
   "outputs": [],
   "source": [
    "def markers2reality(mx, my):\n",
    "    x = (2*mx + 1)*3\n",
    "    y = (2*my + 1)*3\n",
    "    return (x,y)"
   ]
  },
  {
   "cell_type": "markdown",
   "metadata": {},
   "source": [
    "#### Kalmanfilter\n",
    "\n",
    "Extended Kalman filter called at each iteration after Thymio's movement. See lecture on Uncertainties slides 33-end. Previous lecture on Localisation might be useful as well, odometry slides 19-20 and intro. to uncertainties slides 23-37."
   ]
  },
  {
   "cell_type": "code",
   "execution_count": 218,
   "metadata": {},
   "outputs": [],
   "source": [
    "class Kalmanfilter:\n",
    "    def __init__(self, A, B, w, C1, C2, v, pred_mu, pred_Sigma, mu, Sigma):\n",
    "        self.A = A # jacobian, constant\n",
    "        self.B = B # odometry matrix, change with theta of Thymio\n",
    "        self.w = w # displacement noise, constant\n",
    "        self.C1 = C1 # measurement matrix measurements == predictions\n",
    "        self.C2 = C2 # measurement matrix when measurements =/= predictions\n",
    "        self.v = v # measurement noise, constant\n",
    "        self.mu = mu # current mean, aka current state\n",
    "        self.Sigma = 0 # current covariance matrix\n",
    "        self.i = 0 #innovation\n",
    "        \n",
    "    def predict(self, u): # first step. u doit etre un array. SLIDE UNCERTAINTIES-39\n",
    "        self.mu = np.matmul(self.A, self.mu) + np.matmul(self.B, u) #not sure about matmul\n",
    "        self.Sigma = np.matmul(self.A, np.matmul(self.Sigma, np.transpose(self.A)))\n",
    "\n",
    "    def innovation(self): # second step SLIDE UNCERTAINTIES-40\n",
    "        #self.i = - np.matmul()\n",
    "        pass\n",
    "    def aposteriori(self): # final step\n",
    "        pass"
   ]
  },
  {
   "cell_type": "code",
   "execution_count": null,
   "metadata": {},
   "outputs": [],
   "source": [
    "def "
   ]
  },
  {
   "cell_type": "code",
   "execution_count": 219,
   "metadata": {},
   "outputs": [
    {
     "name": "stdout",
     "output_type": "stream",
     "text": [
      "Enter the order you want to to see the paintings in :10\n"
     ]
    },
    {
     "name": "stderr",
     "output_type": "stream",
     "text": [
      "C:\\Users\\emmab\\Anaconda3\\lib\\site-packages\\ipykernel_launcher.py:21: RuntimeWarning: divide by zero encountered in long_scalars\n",
      "C:\\Users\\emmab\\Anaconda3\\lib\\site-packages\\ipykernel_launcher.py:18: RuntimeWarning: divide by zero encountered in long_scalars\n",
      "C:\\Users\\emmab\\Anaconda3\\lib\\site-packages\\ipykernel_launcher.py:24: RuntimeWarning: divide by zero encountered in long_scalars\n"
     ]
    },
    {
     "data": {
      "image/png": "[encoded data removed]",
      "text/plain": [
       "<Figure size 504x504 with 1 Axes>"
      ]
     },
     "metadata": {
      "needs_background": "light"
     },
     "output_type": "display_data"
    },
    {
     "data": {
      "text/plain": [
       "<Figure size 432x288 with 0 Axes>"
      ]
     },
     "metadata": {},
     "output_type": "display_data"
    }
   ],
   "source": [
    "#-------------main---------------------\n",
    "occupancy_grid, list_paintings_grid, start_grid, goal_grid, fig, ax= create_fill_grid()\n",
    "occupancy_grid = checkerboard(occupancy_grid)\n",
    "path = thymio_path(list_paintings_grid, start_grid, goal_grid, fig, ax, occupancy_grid)\n",
    "move = convert_path_to_movements(path)\n",
    "\n",
    "start_cm = convert_grid_to_cm(start_grid[0],start_grid[1])\n",
    "Pablo = Thymio(start_cm[0], start_cm[1], 100)\n",
    "\n",
    "for movement in move:\n",
    "    pass"
   ]
  },
  {
   "cell_type": "code",
   "execution_count": 180,
   "metadata": {},
   "outputs": [],
   "source": [
    "Pablo = Thymio (1,2)"
   ]
  },
  {
   "cell_type": "code",
   "execution_count": 183,
   "metadata": {},
   "outputs": [
    {
     "name": "stdout",
     "output_type": "stream",
     "text": [
      "54\n"
     ]
    }
   ],
   "source": [
    "Pablo.x = 54\n",
    "print(Pablo.x)"
   ]
  },
  {
   "cell_type": "markdown",
   "metadata": {},
   "source": [
    "TODO\n",
    "check les trucs publics et privés de la classe Thymoio\n",
    "\n",
    "attention angles de move en radians !\n",
    "soit tout degrés soit rad"
   ]
  },
  {
   "cell_type": "code",
   "execution_count": 188,
   "metadata": {},
   "outputs": [
    {
     "name": "stdout",
     "output_type": "stream",
     "text": [
      "[[1.         1.         1.         1.         2.23606798 0.\n",
      "  0.         2.         1.         5.         0.         0.\n",
      "  2.         1.         1.         1.         1.         1.\n",
      "  1.         3.16227766]\n",
      " [3.14159265 3.14159265 3.14159265 3.14159265 3.60524026 0.\n",
      "  0.         4.71238898 0.         5.35589009 0.         0.\n",
      "  0.         1.57079633 1.57079633 1.57079633 0.         0.\n",
      "  0.         0.32175055]]\n"
     ]
    }
   ],
   "source": [
    "print(move)"
   ]
  },
  {
   "cell_type": "code",
   "execution_count": 221,
   "metadata": {},
   "outputs": [
    {
     "ename": "SyntaxError",
     "evalue": "invalid syntax (<ipython-input-221-672a8b1c4654>, line 2)",
     "output_type": "error",
     "traceback": [
      "\u001b[1;36m  File \u001b[1;32m\"<ipython-input-221-672a8b1c4654>\"\u001b[1;36m, line \u001b[1;32m2\u001b[0m\n\u001b[1;33m    for i in range len(a):\u001b[0m\n\u001b[1;37m                     ^\u001b[0m\n\u001b[1;31mSyntaxError\u001b[0m\u001b[1;31m:\u001b[0m invalid syntax\n"
     ]
    }
   ],
   "source": [
    "a = [1, 2, 5, 6]\n",
    "for i in range len(a):\n",
    "    print(i)"
   ]
  },
  {
   "cell_type": "code",
   "execution_count": null,
   "metadata": {},
   "outputs": [],
   "source": []
  }
 ],
 "metadata": {
  "kernelspec": {
   "display_name": "Python 3",
   "language": "python",
   "name": "python3"
  },
  "language_info": {
   "codemirror_mode": {
    "name": "ipython",
    "version": 3
   },
   "file_extension": ".py",
   "mimetype": "text/x-python",
   "name": "python",
   "nbconvert_exporter": "python",
   "pygments_lexer": "ipython3",
   "version": "3.7.3"
  }
 },
 "nbformat": 4,
 "nbformat_minor": 2
}
