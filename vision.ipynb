{
 "cells": [
  {
   "cell_type": "code",
   "execution_count": 57,
   "metadata": {},
   "outputs": [],
   "source": [
    "import cv2\n",
    "import time\n",
    "\n",
    "import numpy as np\n",
    "from math import *\n",
    "\n",
    "%matplotlib notebook \n",
    "import matplotlib.pyplot as plt\n",
    "%matplotlib notebook\n",
    "from matplotlib import colors\n",
    "%matplotlib inline\n",
    "\n",
    "from bokeh.plotting import figure\n",
    "from bokeh.io import output_notebook, show, push_notebook\n",
    "from tqdm import tqdm\n",
    "\n",
    "import IPython.display as Disp\n",
    "from ipywidgets import widgets"
   ]
  },
  {
   "cell_type": "code",
   "execution_count": 37,
   "metadata": {},
   "outputs": [],
   "source": [
    "def detect_image(img, template, plot_enable):\n",
    "    img2 = img.copy()\n",
    "    w, h = template.shape[::-1]\n",
    "    \n",
    "    img = img2.copy()\n",
    "    method = cv2.TM_SQDIFF_NORMED\n",
    "\n",
    "    # Apply template Matching\n",
    "    res = cv2.matchTemplate(img,template,method)\n",
    "    min_val, max_val, min_loc, max_loc = cv2.minMaxLoc(res)\n",
    "    \n",
    "    #take minimum\n",
    "    top_left = min_loc\n",
    "    bottom_right = (top_left[0] + w, top_left[1] + h)\n",
    "    cv2.rectangle(img,top_left, bottom_right, (0,0,255), 7)\n",
    "\n",
    "    if plot_enable:\n",
    "        plt.figure()\n",
    "        ax4 = plt.subplot(121),plt.imshow(res, cmap = 'gray')\n",
    "        plt.title('Matching Result'), plt.xticks([]), plt.yticks([])\n",
    "        ax5 = plt.subplot(122),plt.imshow(img, cmap = 'gray')\n",
    "        plt.title('Detected picture'), plt.xticks([]), plt.yticks([])\n",
    "        plt.suptitle(method)\n",
    "        \n",
    "        plt.show()\n",
    "        \n",
    "    center = [(top_left[0] + bottom_right[0])/2, (top_left[1] + bottom_right[1])/2]\n",
    "    return [center] #coordinates of the center of the image."
   ]
  },
  {
   "cell_type": "code",
   "execution_count": 79,
   "metadata": {},
   "outputs": [],
   "source": [
    "def filtering(name_img, plot_enable):\n",
    "    photo = cv2.imread(name_img)\n",
    "    bilateral = cv2.bilateralFilter(photo,9,75,75)\n",
    "\n",
    "    bw_photo = cv2.cvtColor(bilateral, cv2.COLOR_BGR2GRAY)\n",
    "\n",
    "    #th2 = cv2.adaptiveThreshold(bw_photo,255,cv2.ADAPTIVE_THRESH_MEAN_C,\\\n",
    "    #           cv2.THRESH_BINARY,11,2)\n",
    "    #th3 = cv2.adaptiveThreshold(bw_photo,255,cv2.ADAPTIVE_THRESH_GAUSSIAN_C,\\\n",
    "    #        cv2.THRESH_BINARY,101,4)\n",
    "    ret2,th2 = cv2.threshold(cv2.cvtColor(photo, cv2.COLOR_BGR2GRAY),0,255,cv2.THRESH_BINARY+cv2.THRESH_OTSU)\n",
    "\n",
    "    if plot_enable:\n",
    "        plt.figure()\n",
    "        ax = plt.subplot(121),plt.imshow(photo[:,:,::-1], cmap = 'gray')\n",
    "        plt.title('Original'), plt.xticks([]), plt.yticks([])\n",
    "        ax1 = plt.subplot(122),plt.imshow(th2, cmap = 'gray')\n",
    "        plt.title('Filtered image'), plt.xticks([]), plt.yticks([])\n",
    "        \n",
    "        plt.show()\n",
    "        \n",
    "    return th2"
   ]
  },
  {
   "cell_type": "code",
   "execution_count": 80,
   "metadata": {},
   "outputs": [],
   "source": [
    "def detect_multiple(name_img, img, template, threshold, plot_enable):\n",
    "    \n",
    "    img_gray = img\n",
    "    img_rgb = cv2.imread(name_img, cv2.IMREAD_COLOR)\n",
    "    \n",
    "    w, h = template.shape[::-1]\n",
    "\n",
    "    res = cv2.matchTemplate(img_gray,template,cv2.TM_SQDIFF_NORMED)\n",
    "\n",
    "    loc = np.where( res <= threshold)\n",
    "\n",
    "    pt_prec = [loc[1][0], loc[0][0]]\n",
    "    \n",
    "    list_pt = [pt_prec] #take 1st point\n",
    "    #draw rectangle for first point\n",
    "    cv2.rectangle(img_rgb, (pt_prec[0], pt_prec[1]), (int(pt_prec[0] + w), int(pt_prec[1] + h)), (255,0,0), 5)\n",
    "    \n",
    "    #list of extra point we don't want\n",
    "    pt_notchoosen = []\n",
    "\n",
    "    for pt in zip(*loc[::-1]):\n",
    "        #if not too close of the previous choosen point, might be a new obstacle\n",
    "        if (abs(pt[0] - pt_prec[0]) > 1) or (abs(pt[1] - pt_prec[1]) > 1) :\n",
    "            \n",
    "            same_obstacle = 0\n",
    "            #if too close of not wanted point, not a new obstacle, we don't want it\n",
    "            for pt_not in pt_notchoosen:\n",
    "                if (abs(pt[0] - pt_not[0]) <=10) and (abs(pt[1] - pt_not[1]) <= 10):\n",
    "                    same_obstacle = 1\n",
    "                    pt_notchoosen.append([pt[0], pt[1]])\n",
    "                    break\n",
    "            #if not too close, we add it to the list, draw a rectangle and update pt_prec\n",
    "            if not same_obstacle : \n",
    "                list_pt.append([pt[0], pt[1]])\n",
    "                cv2.rectangle(img_rgb, pt, (pt[0] + w, pt[1] + h), (255,0,0), 5)\n",
    "                pt_prec = pt\n",
    "        else:\n",
    "            pt_notchoosen.append([pt[0], pt[1]])\n",
    "                    \n",
    "    \n",
    "    #cv2.imwrite('res.png',img_rgb)\n",
    "    if plot_enable:\n",
    "        plt.figure()\n",
    "        ax2 = plt.subplot(121),plt.imshow(res,cmap = 'gray')\n",
    "        plt.title('Matching Result'), plt.xticks([]), plt.yticks([])\n",
    "        ax3 = plt.subplot(122),plt.imshow(img_rgb,cmap = 'gray')\n",
    "        plt.title('Detected obstacles'), plt.xticks([]), plt.yticks([])\n",
    "        \n",
    "        plt.show()\n",
    "        \n",
    "    #list_pt contains the coordinates of the top left corners of all the objects    \n",
    "    return list_pt, w, h"
   ]
  },
  {
   "cell_type": "markdown",
   "metadata": {},
   "source": [
    "**Coordonnées des obstacles/peintures/coins**"
   ]
  },
  {
   "cell_type": "code",
   "execution_count": 106,
   "metadata": {},
   "outputs": [],
   "source": [
    "def get_param():\n",
    "    name_carte ='structure/cartecoin.png'\n",
    "    name_picture = 'oeuvres/triangle.png'\n",
    "    name_obstacle = 'structure/obstacle.png'\n",
    "    name_corner = 'structure/coin.png'\n",
    "    \n",
    "    #G R I D\n",
    "    max_val_x = 168 # nm of square of 6 cm\n",
    "    max_val_y = 118\n",
    "    \n",
    "    carte = cv2.imread(name_carte,0)\n",
    "    picture = cv2.imread(name_picture,0)\n",
    "    obstacle = cv2.imread(name_obstacle,0)\n",
    "    corner = cv2.imread(name_corner,0)\n",
    "    plot_enable = False\n",
    "\n",
    "\n",
    "    #filter images\n",
    "    carte_filtered = filtering(name_carte, plot_enable)\n",
    "    picture_filtered = filtering(name_picture, plot_enable)\n",
    "    obstacle_filtered = filtering(name_obstacle, plot_enable)\n",
    "    corner_filtered = filtering(name_corner, plot_enable)\n",
    "\n",
    "    #get coordinates of pictures and obstacles\n",
    "    list_paintings = detect_image(carte_filtered, picture_filtered, plot_enable)\n",
    "    list_obstacles,w_obst,h_obst = detect_multiple(name_carte, carte_filtered, obstacle_filtered, 0.8 , plot_enable)\n",
    "    list_corners, w_corner, h_corner = detect_multiple(name_carte, carte_filtered, corner_filtered, 0.2, plot_enable)\n",
    "    \n",
    "    return list_paintings, list_obstacles, w_obst, h_obst, list_corners, w_corner, h_corner, max_val_x, max_val_y"
   ]
  },
  {
   "cell_type": "markdown",
   "metadata": {},
   "source": [
    "**GRILLE**"
   ]
  },
  {
   "cell_type": "markdown",
   "metadata": {},
   "source": [
    "Environnement delimitation"
   ]
  },
  {
   "cell_type": "code",
   "execution_count": 107,
   "metadata": {},
   "outputs": [],
   "source": [
    "def get_rectangle(list_corners, w_corner, h_corner):\n",
    "    #prendre le plus petit rectangle décrit par les coins\n",
    "    sort_corners = sorted(list_corners) #trie les points selon x\n",
    "    x1 = max(sort_corners[0][0], sort_corners[1][0])\n",
    "    x2 = min(sort_corners[2][0], sort_corners[3][0]) + w_corner\n",
    "\n",
    "    sort_corners = sorted(list_corners , key=lambda k: [k[1], k[0]])\n",
    "    y1 = max(sort_corners[0][1], sort_corners[1][1])\n",
    "    y2 = min(sort_corners[2][1], sort_corners[3][1]) + h_corner\n",
    "\n",
    "    return [[x1,y1],[x2,y2]]"
   ]
  },
  {
   "cell_type": "markdown",
   "metadata": {},
   "source": [
    "create grid for visualization"
   ]
  },
  {
   "cell_type": "code",
   "execution_count": 108,
   "metadata": {},
   "outputs": [],
   "source": [
    "def create_visual_grid(max_val_x, max_val_y):\n",
    "    fig, ax = plt.subplots(figsize=(7,7))\n",
    "\n",
    "    major_ticks = np.arange(0, max_val_x+1, 10)\n",
    "    minor_ticks = np.arange(0, max_val_x+1, 1)\n",
    "    ax.set_xticks(major_ticks)\n",
    "    ax.set_xticks(minor_ticks, minor=True)\n",
    "    ax.set_yticks(major_ticks)\n",
    "    ax.set_yticks(minor_ticks, minor=True)\n",
    "    ax.grid(which='minor', alpha=0.2)\n",
    "    ax.grid(which='major', alpha=0.5)\n",
    "    ax.set_ylim([-1,max_val_y])\n",
    "    ax.set_xlim([-1,max_val_x])\n",
    "    ax.grid(True)\n",
    "    return fig, ax"
   ]
  },
  {
   "cell_type": "markdown",
   "metadata": {},
   "source": [
    "Convert into grid coordinate"
   ]
  },
  {
   "cell_type": "code",
   "execution_count": 109,
   "metadata": {},
   "outputs": [],
   "source": [
    "def convert_to_grid(x,y,list_corners, max_val_x, max_val_y):\n",
    "    x_grid = max_val_x*(x - list_corners[0][0])/(list_corners[1][0] - list_corners[0][0])\n",
    "    y_grid = max_val_y - max_val_y*(y - list_corners[0][1])/(list_corners[1][1] - list_corners[0][1])\n",
    "    return [x_grid,y_grid]"
   ]
  },
  {
   "cell_type": "markdown",
   "metadata": {},
   "source": [
    "Create The grid and fill it"
   ]
  },
  {
   "cell_type": "code",
   "execution_count": 110,
   "metadata": {},
   "outputs": [],
   "source": [
    "def create_fill_grid():\n",
    "    #Occupancy code\n",
    "    limit_empty = 1 \n",
    "    obstacle_here = 2\n",
    "    painting_here = 3\n",
    "\n",
    "    #Get coordinate\n",
    "    list_paintings, list_obstacles, w_obst, h_obst, list_corners, w_corner, h_corner, max_val_x, max_val_y = get_param()\n",
    "    \n",
    "    #Create visual grid\n",
    "    fig, ax = create_visual_grid(max_val_x, max_val_y)\n",
    "    \n",
    "    # Creating the occupancy grid\n",
    "    np.random.seed(0) # To guarantee the same outcome on all computers\n",
    "    data = np.zeros((max_val_x, max_val_y)) # Create an empty grid of max_val_x X max_val_y\n",
    "    cmap = colors.ListedColormap(['white', 'black', 'red']) # Select the colors: Black = obstacles, Red = painting\n",
    "\n",
    "    #Get environnement delimitations\n",
    "    list_delimitation = get_rectangle(list_corners, w_corner, h_corner)\n",
    "    \n",
    "    #thymio grid size\n",
    "    half_thymio = 60 #[mm]\n",
    "    size_sheet = [841, 594] #[mm]\n",
    "    safe_zone = [half_thymio * max_val_x/size_sheet[0], half_thymio * max_val_y/size_sheet[1]]\n",
    "    print(safe_zone)\n",
    "    \n",
    "    \n",
    "    for obs in list_obstacles:\n",
    "        #Convert coordinate into grid coordinate and take into accompt the obstacle size and thymio size (safezone)\n",
    "        obs_grid_tl = convert_to_grid(obs[0] - safe_zone[0], obs[1] + safe_zone[1], list_delimitation, max_val_x, max_val_y)\n",
    "        obs_grid_br = convert_to_grid(obs[0] + w_obst + safe_zone[0], obs[1] + h_obst - safe_zone[1], list_delimitation, max_val_x, max_val_y)\n",
    "        \n",
    "        #check if out of the grid because of safe zone                \n",
    "        for i in range(max(floor(obs_grid_tl[0]),0), min(ceil(obs_grid_br[0]), max_val_x)):\n",
    "            for j in range(max(floor(obs_grid_br[1]), 0), min(ceil(obs_grid_tl[1]), max_val_y)):\n",
    "                data[i,j] = obstacle_here\n",
    "        #data[int(obs_grid[0]), int(obs_grid[1])]= obstacle_here\n",
    "\n",
    "    #Convert coordinate into grid coordinate\n",
    "    for paint in list_paintings:\n",
    "        paint_grid = convert_to_grid(paint[0], paint[1], list_delimitation, max_val_x, max_val_y)\n",
    "        data[int(paint_grid[0]), int(paint_grid[1])] = painting_here\n",
    "\n",
    "\n",
    "    # Converting the random values into occupied and free cells\n",
    "    occupancy_grid = data.copy()\n",
    "    occupancy_grid[data==painting_here] = 2\n",
    "    occupancy_grid[data==obstacle_here] = 1\n",
    "    occupancy_grid[data==limit_empty] = 0\n",
    "\n",
    "    #GET THE POSITIONS OF PAINTINGS AND OBSTACLES FROM VISION\n",
    "\n",
    "    # Displaying the map\n",
    "    ax.imshow(occupancy_grid.transpose(), cmap=cmap)"
   ]
  },
  {
   "cell_type": "markdown",
   "metadata": {},
   "source": [
    "G R I D "
   ]
  },
  {
   "cell_type": "code",
   "execution_count": null,
   "metadata": {},
   "outputs": [
    {
     "name": "stdout",
     "output_type": "stream",
     "text": [
      "[11.985731272294887, 11.919191919191919]\n"
     ]
    }
   ],
   "source": [
    "# ------- GRID -------\n",
    "create_fill_grid()\n"
   ]
  },
  {
   "cell_type": "code",
   "execution_count": null,
   "metadata": {},
   "outputs": [],
   "source": []
  }
 ],
 "metadata": {
  "kernelspec": {
   "display_name": "Python 3",
   "language": "python",
   "name": "python3"
  },
  "language_info": {
   "codemirror_mode": {
    "name": "ipython",
    "version": 3
   },
   "file_extension": ".py",
   "mimetype": "text/x-python",
   "name": "python",
   "nbconvert_exporter": "python",
   "pygments_lexer": "ipython3",
   "version": "3.7.3"
  }
 },
 "nbformat": 4,
 "nbformat_minor": 2
}
