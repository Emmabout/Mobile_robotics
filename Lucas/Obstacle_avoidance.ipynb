{
 "cells": [
  {
   "cell_type": "markdown",
   "metadata": {},
   "source": [
    "# Obstacle avoidance block\n",
    "\n",
    "## Imports\n",
    "\n",
    "Import the script `thymio.py` and other libraries "
   ]
  },
  {
   "cell_type": "code",
   "execution_count": 2,
   "metadata": {},
   "outputs": [
    {
     "name": "stdout",
     "output_type": "stream",
     "text": [
      "Thymio will be connected.\n"
     ]
    }
   ],
   "source": [
    "import os\n",
    "import sys\n",
    "import time\n",
    "import serial\n",
    "import math\n",
    "\n",
    "# Variable to know if Thymio has already been connected before or not (== 1 if it is the case)\n",
    "try:\n",
    "    CONNECC\n",
    "except NameError:\n",
    "    CONNECC = 0\n",
    "    print('Thymio will be connected.')\n",
    "\n",
    "# Adding the src folder in the current directory as it contains the script\n",
    "# with the Thymio class\n",
    "#sys.path.insert(0, os.path.join(os.getcwd(), 'src'))\n",
    "\n",
    "from Thymio import Thymio\n",
    "\n",
    "# Print the path to Python3 executable\n",
    "# print(sys.executable)"
   ]
  },
  {
   "cell_type": "markdown",
   "metadata": {},
   "source": [
    "## Thymio connection\n",
    "\n",
    "First connect Thymio to the computer on one USB port through the USB cable.\n",
    "\n",
    "### Look-up table for ports:\n",
    "Replace `/dev/cu.usbmodem142101` (or current port value) below by the correct computer port:\n",
    "\n",
    "Lucas: `\\\\.\\COM3` for USB-cable and `\\\\.\\COM4` for USB-dongle\n",
    "\n",
    "Emma: ` `\n",
    "\n",
    "Elise: ` `\n",
    "\n",
    "Océane: ` `"
   ]
  },
  {
   "cell_type": "code",
   "execution_count": 3,
   "metadata": {},
   "outputs": [
    {
     "ename": "SerialException",
     "evalue": "could not open port '\\\\.\\\\COM4': PermissionError(13, 'Accès refusé.', None, 5)",
     "output_type": "error",
     "traceback": [
      "\u001b[1;31m---------------------------------------------------------------------------\u001b[0m",
      "\u001b[1;31mSerialException\u001b[0m                           Traceback (most recent call last)",
      "\u001b[1;32m<ipython-input-3-a4bc6f133db2>\u001b[0m in \u001b[0;36m<module>\u001b[1;34m\u001b[0m\n\u001b[0;32m      1\u001b[0m \u001b[1;32mif\u001b[0m \u001b[0mCONNECC\u001b[0m \u001b[1;33m==\u001b[0m \u001b[1;36m0\u001b[0m\u001b[1;33m:\u001b[0m\u001b[1;33m\u001b[0m\u001b[1;33m\u001b[0m\u001b[0m\n\u001b[0;32m      2\u001b[0m     \u001b[0mCONNECC\u001b[0m \u001b[1;33m=\u001b[0m \u001b[1;36m1\u001b[0m\u001b[1;33m\u001b[0m\u001b[1;33m\u001b[0m\u001b[0m\n\u001b[1;32m----> 3\u001b[1;33m     \u001b[0mth\u001b[0m \u001b[1;33m=\u001b[0m \u001b[0mThymio\u001b[0m\u001b[1;33m.\u001b[0m\u001b[0mserial\u001b[0m\u001b[1;33m(\u001b[0m\u001b[0mport\u001b[0m\u001b[1;33m=\u001b[0m\u001b[1;34m\"\\\\.\\COM4\"\u001b[0m\u001b[1;33m,\u001b[0m \u001b[0mrefreshing_rate\u001b[0m\u001b[1;33m=\u001b[0m\u001b[1;36m0.1\u001b[0m\u001b[1;33m)\u001b[0m\u001b[1;33m\u001b[0m\u001b[1;33m\u001b[0m\u001b[0m\n\u001b[0m\u001b[0;32m      4\u001b[0m     \u001b[0mtime\u001b[0m\u001b[1;33m.\u001b[0m\u001b[0msleep\u001b[0m\u001b[1;33m(\u001b[0m\u001b[1;36m1\u001b[0m\u001b[1;33m)\u001b[0m\u001b[1;33m\u001b[0m\u001b[1;33m\u001b[0m\u001b[0m\n",
      "\u001b[1;32m~\\Documents\\EPFL\\Basics of Mobile Robotics\\Project\\Mobile_robotics\\Lucas\\Thymio.py\u001b[0m in \u001b[0;36mserial\u001b[1;34m(port, node_id, refreshing_rate)\u001b[0m\n\u001b[0;32m    387\u001b[0m         \u001b[1;32mif\u001b[0m \u001b[0mport\u001b[0m \u001b[1;32mis\u001b[0m \u001b[1;32mNone\u001b[0m\u001b[1;33m:\u001b[0m\u001b[1;33m\u001b[0m\u001b[1;33m\u001b[0m\u001b[0m\n\u001b[0;32m    388\u001b[0m             \u001b[0mport\u001b[0m \u001b[1;33m=\u001b[0m \u001b[0mThymio\u001b[0m\u001b[1;33m.\u001b[0m\u001b[0mserial_default_port\u001b[0m\u001b[1;33m(\u001b[0m\u001b[1;33m)\u001b[0m\u001b[1;33m\u001b[0m\u001b[1;33m\u001b[0m\u001b[0m\n\u001b[1;32m--> 389\u001b[1;33m         \u001b[0mth\u001b[0m \u001b[1;33m=\u001b[0m \u001b[0mThymio\u001b[0m\u001b[1;33m(\u001b[0m\u001b[0mserial\u001b[0m\u001b[1;33m.\u001b[0m\u001b[0mSerial\u001b[0m\u001b[1;33m(\u001b[0m\u001b[0mport\u001b[0m\u001b[1;33m)\u001b[0m\u001b[1;33m,\u001b[0m \u001b[0mnode_id\u001b[0m\u001b[1;33m,\u001b[0m \u001b[0mrefreshing_rate\u001b[0m\u001b[1;33m)\u001b[0m\u001b[1;33m\u001b[0m\u001b[1;33m\u001b[0m\u001b[0m\n\u001b[0m\u001b[0;32m    390\u001b[0m         \u001b[0mth\u001b[0m\u001b[1;33m.\u001b[0m\u001b[0mhandshake\u001b[0m\u001b[1;33m(\u001b[0m\u001b[1;33m)\u001b[0m\u001b[1;33m\u001b[0m\u001b[1;33m\u001b[0m\u001b[0m\n\u001b[0;32m    391\u001b[0m         \u001b[1;32mreturn\u001b[0m \u001b[0mth\u001b[0m\u001b[1;33m\u001b[0m\u001b[1;33m\u001b[0m\u001b[0m\n",
      "\u001b[1;32m~\\Anaconda3\\lib\\site-packages\\serial\\serialwin32.py\u001b[0m in \u001b[0;36m__init__\u001b[1;34m(self, *args, **kwargs)\u001b[0m\n\u001b[0;32m     29\u001b[0m         \u001b[0mself\u001b[0m\u001b[1;33m.\u001b[0m\u001b[0m_overlapped_read\u001b[0m \u001b[1;33m=\u001b[0m \u001b[1;32mNone\u001b[0m\u001b[1;33m\u001b[0m\u001b[1;33m\u001b[0m\u001b[0m\n\u001b[0;32m     30\u001b[0m         \u001b[0mself\u001b[0m\u001b[1;33m.\u001b[0m\u001b[0m_overlapped_write\u001b[0m \u001b[1;33m=\u001b[0m \u001b[1;32mNone\u001b[0m\u001b[1;33m\u001b[0m\u001b[1;33m\u001b[0m\u001b[0m\n\u001b[1;32m---> 31\u001b[1;33m         \u001b[0msuper\u001b[0m\u001b[1;33m(\u001b[0m\u001b[0mSerial\u001b[0m\u001b[1;33m,\u001b[0m \u001b[0mself\u001b[0m\u001b[1;33m)\u001b[0m\u001b[1;33m.\u001b[0m\u001b[0m__init__\u001b[0m\u001b[1;33m(\u001b[0m\u001b[1;33m*\u001b[0m\u001b[0margs\u001b[0m\u001b[1;33m,\u001b[0m \u001b[1;33m**\u001b[0m\u001b[0mkwargs\u001b[0m\u001b[1;33m)\u001b[0m\u001b[1;33m\u001b[0m\u001b[1;33m\u001b[0m\u001b[0m\n\u001b[0m\u001b[0;32m     32\u001b[0m \u001b[1;33m\u001b[0m\u001b[0m\n\u001b[0;32m     33\u001b[0m     \u001b[1;32mdef\u001b[0m \u001b[0mopen\u001b[0m\u001b[1;33m(\u001b[0m\u001b[0mself\u001b[0m\u001b[1;33m)\u001b[0m\u001b[1;33m:\u001b[0m\u001b[1;33m\u001b[0m\u001b[1;33m\u001b[0m\u001b[0m\n",
      "\u001b[1;32m~\\Anaconda3\\lib\\site-packages\\serial\\serialutil.py\u001b[0m in \u001b[0;36m__init__\u001b[1;34m(self, port, baudrate, bytesize, parity, stopbits, timeout, xonxoff, rtscts, write_timeout, dsrdtr, inter_byte_timeout, exclusive, **kwargs)\u001b[0m\n\u001b[0;32m    238\u001b[0m \u001b[1;33m\u001b[0m\u001b[0m\n\u001b[0;32m    239\u001b[0m         \u001b[1;32mif\u001b[0m \u001b[0mport\u001b[0m \u001b[1;32mis\u001b[0m \u001b[1;32mnot\u001b[0m \u001b[1;32mNone\u001b[0m\u001b[1;33m:\u001b[0m\u001b[1;33m\u001b[0m\u001b[1;33m\u001b[0m\u001b[0m\n\u001b[1;32m--> 240\u001b[1;33m             \u001b[0mself\u001b[0m\u001b[1;33m.\u001b[0m\u001b[0mopen\u001b[0m\u001b[1;33m(\u001b[0m\u001b[1;33m)\u001b[0m\u001b[1;33m\u001b[0m\u001b[1;33m\u001b[0m\u001b[0m\n\u001b[0m\u001b[0;32m    241\u001b[0m \u001b[1;33m\u001b[0m\u001b[0m\n\u001b[0;32m    242\u001b[0m     \u001b[1;31m#  -  -  -  -  -  -  -  -  -  -  -  -  -  -  -  -  -  -  -  -  -  -  -  -\u001b[0m\u001b[1;33m\u001b[0m\u001b[1;33m\u001b[0m\u001b[1;33m\u001b[0m\u001b[0m\n",
      "\u001b[1;32m~\\Anaconda3\\lib\\site-packages\\serial\\serialwin32.py\u001b[0m in \u001b[0;36mopen\u001b[1;34m(self)\u001b[0m\n\u001b[0;32m     60\u001b[0m         \u001b[1;32mif\u001b[0m \u001b[0mself\u001b[0m\u001b[1;33m.\u001b[0m\u001b[0m_port_handle\u001b[0m \u001b[1;33m==\u001b[0m \u001b[0mwin32\u001b[0m\u001b[1;33m.\u001b[0m\u001b[0mINVALID_HANDLE_VALUE\u001b[0m\u001b[1;33m:\u001b[0m\u001b[1;33m\u001b[0m\u001b[1;33m\u001b[0m\u001b[0m\n\u001b[0;32m     61\u001b[0m             \u001b[0mself\u001b[0m\u001b[1;33m.\u001b[0m\u001b[0m_port_handle\u001b[0m \u001b[1;33m=\u001b[0m \u001b[1;32mNone\u001b[0m    \u001b[1;31m# 'cause __del__ is called anyway\u001b[0m\u001b[1;33m\u001b[0m\u001b[1;33m\u001b[0m\u001b[0m\n\u001b[1;32m---> 62\u001b[1;33m             \u001b[1;32mraise\u001b[0m \u001b[0mSerialException\u001b[0m\u001b[1;33m(\u001b[0m\u001b[1;34m\"could not open port {!r}: {!r}\"\u001b[0m\u001b[1;33m.\u001b[0m\u001b[0mformat\u001b[0m\u001b[1;33m(\u001b[0m\u001b[0mself\u001b[0m\u001b[1;33m.\u001b[0m\u001b[0mportstr\u001b[0m\u001b[1;33m,\u001b[0m \u001b[0mctypes\u001b[0m\u001b[1;33m.\u001b[0m\u001b[0mWinError\u001b[0m\u001b[1;33m(\u001b[0m\u001b[1;33m)\u001b[0m\u001b[1;33m)\u001b[0m\u001b[1;33m)\u001b[0m\u001b[1;33m\u001b[0m\u001b[1;33m\u001b[0m\u001b[0m\n\u001b[0m\u001b[0;32m     63\u001b[0m \u001b[1;33m\u001b[0m\u001b[0m\n\u001b[0;32m     64\u001b[0m         \u001b[1;32mtry\u001b[0m\u001b[1;33m:\u001b[0m\u001b[1;33m\u001b[0m\u001b[1;33m\u001b[0m\u001b[0m\n",
      "\u001b[1;31mSerialException\u001b[0m: could not open port '\\\\.\\\\COM4': PermissionError(13, 'Accès refusé.', None, 5)"
     ]
    }
   ],
   "source": [
    "if CONNECC == 0:\n",
    "    CONNECC = 1\n",
    "    th = Thymio.serial(port=\"\\\\.\\COM4\", refreshing_rate=0.1)\n",
    "    time.sleep(1)"
   ]
  },
  {
   "cell_type": "markdown",
   "metadata": {},
   "source": [
    "## Tests\n",
    "\n",
    "Testing communication with Thymio."
   ]
  },
  {
   "cell_type": "code",
   "execution_count": null,
   "metadata": {},
   "outputs": [],
   "source": [
    "# Defines if tests should be run\n",
    "TEST = 1"
   ]
  },
  {
   "cell_type": "markdown",
   "metadata": {},
   "source": [
    "### Retrieve values"
   ]
  },
  {
   "cell_type": "code",
   "execution_count": null,
   "metadata": {},
   "outputs": [],
   "source": [
    "if TEST == 1:\n",
    "    for i in range(10):\n",
    "        print(th[\"prox.horizontal\"])\n",
    "        time.sleep(0.2)"
   ]
  },
  {
   "cell_type": "markdown",
   "metadata": {},
   "source": [
    "### Set values"
   ]
  },
  {
   "cell_type": "code",
   "execution_count": null,
   "metadata": {},
   "outputs": [],
   "source": [
    "if TEST == 1:\n",
    "    th.set_var(\"motor.left.target\", 100)\n",
    "    th.set_var(\"motor.right.target\", 100)\n",
    "\n",
    "    time.sleep(1)\n",
    "\n",
    "    th.set_var(\"motor.left.target\", 0)\n",
    "    th.set_var(\"motor.right.target\", 0)"
   ]
  },
  {
   "cell_type": "markdown",
   "metadata": {},
   "source": [
    "## Obstacle avoidance algorithm\n",
    "\n",
    "The robot can be in two states: global navigation or obstacle avoidance when one is detected by the sensors (caution for not confounding walls from the map and unknown obstacles).\n",
    "\n",
    "When in obstacle avoidance state, the robot accelerates the wheels close to the obstacles."
   ]
  },
  {
   "cell_type": "code",
   "execution_count": 10,
   "metadata": {},
   "outputs": [
    {
     "name": "stdout",
     "output_type": "stream",
     "text": [
      "0\n",
      "0\n"
     ]
    },
    {
     "name": "stderr",
     "output_type": "stream",
     "text": [
      "Exception in thread Thread-7:\n",
      "Traceback (most recent call last):\n",
      "  File \"C:\\Users\\lucas\\Anaconda3\\lib\\threading.py\", line 917, in _bootstrap_inner\n",
      "    self.run()\n",
      "  File \"C:\\Users\\lucas\\Anaconda3\\lib\\threading.py\", line 865, in run\n",
      "    self._target(*self._args, **self._kwargs)\n",
      "  File \"C:\\Users\\lucas\\Documents\\EPFL\\MA1\\MICRO-452 Basics of mobile robotics\\Project\\Mobile_robotics\\Lucas\\Thymio.py\", line 340, in do_refresh\n",
      "    self.get_variables()\n",
      "  File \"C:\\Users\\lucas\\Documents\\EPFL\\MA1\\MICRO-452 Basics of mobile robotics\\Project\\Mobile_robotics\\Lucas\\Thymio.py\", line 499, in get_variables\n",
      "    self.send(msg)\n",
      "  File \"C:\\Users\\lucas\\Documents\\EPFL\\MA1\\MICRO-452 Basics of mobile robotics\\Project\\Mobile_robotics\\Lucas\\Thymio.py\", line 456, in send\n",
      "    self.io.write(msg.serialize())\n",
      "  File \"C:\\Users\\lucas\\Anaconda3\\lib\\site-packages\\serial\\serialwin32.py\", line 323, in write\n",
      "    raise writeTimeoutError\n",
      "serial.serialutil.SerialTimeoutException: Write timeout\n",
      "\n"
     ]
    }
   ],
   "source": [
    "# Tests\n",
    "\n",
    "#dir(th)\n",
    "#th.variable_description()\n",
    "# Conio\n",
    "# th.set_var(\"mic.intensity\", 0)\n",
    "\n",
    "th.set_var(\"motor.left.target\", 0)\n",
    "th.set_var(\"motor.right.target\", 0)"
   ]
  },
  {
   "cell_type": "code",
   "execution_count": 9,
   "metadata": {},
   "outputs": [],
   "source": [
    "State = 0 # State == 0 => Thymio goes straight, State == 1 => Thymio is in obstacle avoidance mode\n",
    "Velocity_0 = 100\n",
    "Obstacle_gain = [10, 15]\n",
    "Threshold_enter_obstavoid = 20 # Threshold to enter obstacle avoidance mode\n",
    "Threshold_quit_obstavoid = 10 # Threshold to quit obstacle avoidance mode\n",
    "Timer = 1 * 10**(-3) # 1ms\n",
    "Counter = 0\n",
    "Limit_loops = 1000 # number of while loops to go through before quitting, entering obstacle avoidance mode reset the counter\n",
    "\n",
    "while Counter < Limit_loops:\n",
    "    if (State == 0 and\n",
    "        (th[\"prox.horizontal\"][0] > Threshold_enter_obstavoid or\n",
    "        th[\"prox.horizontal\"][1] > Threshold_enter_obstavoid or\n",
    "        th[\"prox.horizontal\"][2] > Threshold_enter_obstavoid or\n",
    "        th[\"prox.horizontal\"][3] > Threshold_enter_obstavoid or\n",
    "        th[\"prox.horizontal\"][4] > Threshold_enter_obstavoid)): # enter obstacle avoidance\n",
    "        State = 1\n",
    "    elif (State == 1 and\n",
    "        th[\"prox.horizontal\"][0] < Threshold_quit_obstavoid and\n",
    "        th[\"prox.horizontal\"][1] < Threshold_enter_obstavoid and\n",
    "        th[\"prox.horizontal\"][2] < Threshold_enter_obstavoid and\n",
    "        th[\"prox.horizontal\"][3] < Threshold_enter_obstavoid and\n",
    "        th[\"prox.horizontal\"][4] < Threshold_quit_obstavoid): # quit obstacle avoidance\n",
    "        State = 0\n",
    "    \n",
    "    if State == 0: # goes straight\n",
    "        th.set_var(\"motor.right.target\", Velocity_0)\n",
    "        th.set_var(\"motor.left.target\", Velocity_0)\n",
    "        Counter += 1\n",
    "    else: # avoid obstacle depending on sensors values\n",
    "        if (th[\"prox.horizontal\"][0] == 0 and\n",
    "            th[\"prox.horizontal\"][1] == 0 and\n",
    "            th[\"prox.horizontal\"][3] == 0 and\n",
    "            th[\"prox.horizontal\"][4] == 0):\n",
    "            Left_gain = 0\n",
    "            Right_gain = int(Obstacle_gain[1]*(th[\"prox.horizontal\"][2]/100))\n",
    "        else:\n",
    "            Left_gain = int(Obstacle_gain[0]*(th[\"prox.horizontal\"][4]/100)) + int(Obstacle_gain[1]*(th[\"prox.horizontal\"][3]/100))\n",
    "            Right_gain = int(Obstacle_gain[0]*(th[\"prox.horizontal\"][0]/100)) + int(Obstacle_gain[1]*(th[\"prox.horizontal\"][1]/100))\n",
    "        \n",
    "        if Left_gain > Velocity_0:\n",
    "            th.set_var(\"motor.left.target\", 2**16 + (Velocity_0 - Left_gain))\n",
    "        else:\n",
    "            th.set_var(\"motor.left.target\", (Velocity_0 - Left_gain))\n",
    "        \n",
    "        if Right_gain > Velocity_0:\n",
    "            th.set_var(\"motor.right.target\", 2**16 + (Velocity_0 - Right_gain))\n",
    "        else:\n",
    "            th.set_var(\"motor.right.target\", (Velocity_0 - Right_gain))\n",
    "        Counter = 0\n",
    "        \n",
    "    time.sleep(Timer) # wait 1ms before relooping\n",
    "\n",
    "\n",
    "th.set_var(\"motor.right.target\", 0)\n",
    "th.set_var(\"motor.left.target\", 0)\n",
    "    "
   ]
  },
  {
   "cell_type": "markdown",
   "metadata": {},
   "source": [
    "## Calibration Odometry\n",
    "\n",
    "~ 0.0325 cm/s for 1 motor input unit of Thymio\n",
    "\n",
    "rotation: ~9.32s for 360° with [100, -100] motor inputs => ~ 0.0067 rad/s for [1, -1] motor inputs"
   ]
  },
  {
   "cell_type": "code",
   "execution_count": null,
   "metadata": {},
   "outputs": [],
   "source": [
    "# speed = []\n",
    "# omega = 2*3.1415926/9.32\n",
    "# omega_thymio = omega/100\n",
    "# print(omega_thymio)"
   ]
  },
  {
   "cell_type": "code",
   "execution_count": null,
   "metadata": {},
   "outputs": [],
   "source": [
    "counter = 0\n",
    "VelLeft = 100\n",
    "VelRight = -100\n",
    "adjust = 1.9 #4.15\n",
    "SpeedGain = adjust*0.0325 * 10**(-3)\n",
    "timer = 1 * 10**(-3) # 1ms\n",
    "b = 0.095 # distance between Thymio's wheels in m\n",
    "\n",
    "X = 0\n",
    "Y = 0\n",
    "Theta = 0\n",
    "\n",
    "t = 0\n",
    "\n",
    "while counter < 1000:\n",
    "    #a = time.time()\n",
    "    counter += 1\n",
    "    th.set_var(\"motor.right.target\", VelRight)\n",
    "    th.set_var(\"motor.left.target\", VelLeft)\n",
    "\n",
    "    DTheta = (VelLeft*SpeedGain - VelRight*SpeedGain)/(2*b)\n",
    "    DS = (VelLeft + VelRight)/2\n",
    "    \n",
    "    Theta += DTheta\n",
    "    X += DS*SpeedGain*math.cos(math.radians(Theta))\n",
    "    Y += DS*SpeedGain*math.sin(math.radians(Theta))\n",
    "\n",
    "    time.sleep(timer)\n",
    "    #b = time.time()\n",
    "    #t += b-a\n",
    "\n",
    "#print(t)\n",
    "th.set_var(\"motor.right.target\", 0)\n",
    "th.set_var(\"motor.left.target\", 0)\n",
    "\n",
    "print(X)\n",
    "print(Y)\n",
    "print(Theta)"
   ]
  },
  {
   "cell_type": "code",
   "execution_count": null,
   "metadata": {},
   "outputs": [],
   "source": [
    "# t = []\n",
    "# for i in range(1,1000):\n",
    "#     a = time.time()\n",
    "#     time.sleep(0.001)\n",
    "#     b = time.time()\n",
    "#     t.append(b-a)\n",
    "# \n",
    "# print(sum(t)/1000)"
   ]
  },
  {
   "cell_type": "code",
   "execution_count": null,
   "metadata": {},
   "outputs": [],
   "source": [
    "# delta_threshold = 300\n",
    "# square = 5 # cm\n",
    "# \n",
    "# count = 0\n",
    "# current_square = 1\n",
    "# previous_square = current_square\n",
    "# change = []\n",
    "# vel = 100\n",
    "# start_time =  time.time()\n",
    "# #print(th[\"prox.ground.delta\"])\n",
    "# \n",
    "# while (count < 3):\n",
    "#     th.set_var(\"motor.left.target\", vel)\n",
    "#     th.set_var(\"motor.right.target\", vel)\n",
    "#     ground = th[\"prox.ground.delta\"]\n",
    "#     if (time.time() - start_time) > 30:\n",
    "#         print('TIMED OUT')\n",
    "#         break\n",
    "#     if (ground[0] < delta_threshold and ground[1] < delta_threshold):\n",
    "#         current_square = 0\n",
    "#     else:\n",
    "#         current_square = 1\n",
    "#     if current_square != previous_square:\n",
    "#         start_time = time.time()\n",
    "#         change.append(time.time())\n",
    "#         previous_square = current_square\n",
    "#         count += 1\n",
    "# \n",
    "# th.set_var(\"motor.left.target\", 0)\n",
    "# th.set_var(\"motor.right.target\", 0)\n",
    "# \n",
    "# first = change[0]\n",
    "# change = [x - first for x in change]\n",
    "# for i in range(0, len(change) - 1):\n",
    "#         speed.append(square/(change[i+1]-change[i])/vel) # [cm/s by Thymio velocity unit]\n",
    "# \n",
    "# # print(change)\n",
    "# mean_speed = sum(speed)/len(speed)\n",
    "# print(mean_speed)"
   ]
  },
  {
   "cell_type": "code",
   "execution_count": null,
   "metadata": {},
   "outputs": [],
   "source": [
    "# Rotation odometry\n",
    "\n",
    "start = time.time()\n",
    "th.set_var(\"motor.left.target\", 100)\n",
    "th.set_var(\"motor.right.target\", 2**16 - 100)\n",
    "time.sleep(1)\n",
    "\n",
    "while (stop - start) < 9.32:\n",
    "    stop = time.time()\n",
    "\n",
    "th.set_var(\"motor.left.target\", 0)\n",
    "th.set_var(\"motor.right.target\", 0)\n",
    "print(stop - start)"
   ]
  },
  {
   "cell_type": "markdown",
   "metadata": {},
   "source": [
    "## Feel tor hinge\n",
    "\n",
    "Markov localisation (see slide 21 of the Uncertainties lecture)"
   ]
  },
  {
   "cell_type": "code",
   "execution_count": null,
   "metadata": {},
   "outputs": [],
   "source": [
    "def "
   ]
  }
 ],
 "metadata": {
  "kernelspec": {
   "display_name": "Python 3",
   "language": "python",
   "name": "python3"
  },
  "language_info": {
   "codemirror_mode": {
    "name": "ipython",
    "version": 3
   },
   "file_extension": ".py",
   "mimetype": "text/x-python",
   "name": "python",
   "nbconvert_exporter": "python",
   "pygments_lexer": "ipython3",
   "version": "3.7.3"
  }
 },
 "nbformat": 4,
 "nbformat_minor": 2
}
