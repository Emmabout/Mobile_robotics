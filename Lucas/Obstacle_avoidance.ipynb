{
 "cells": [
  {
   "cell_type": "markdown",
   "metadata": {},
   "source": [
    "# Obstacle avoidance block\n",
    "\n",
    "## Imports\n",
    "\n",
    "Import the script `thymio.py` and other libraries "
   ]
  },
  {
   "cell_type": "code",
   "execution_count": 1,
   "metadata": {},
   "outputs": [
    {
     "name": "stdout",
     "output_type": "stream",
     "text": [
      "Thymio will be connected.\n"
     ]
    }
   ],
   "source": [
    "import os\n",
    "import sys\n",
    "import time\n",
    "import serial\n",
    "\n",
    "# Variable to know if Thymio has already been connected before or not (== 1 if it is the case)\n",
    "try:\n",
    "    CONNECC\n",
    "except NameError:\n",
    "    CONNECC = 0\n",
    "    print('Thymio will be connected.')\n",
    "\n",
    "# Adding the src folder in the current directory as it contains the script\n",
    "# with the Thymio class\n",
    "sys.path.insert(0, os.path.join(os.getcwd(), 'src'))\n",
    "\n",
    "from Thymio import Thymio\n",
    "\n",
    "# Print the path to Python3 executable\n",
    "# print(sys.executable)"
   ]
  },
  {
   "cell_type": "markdown",
   "metadata": {},
   "source": [
    "## Thymio connection\n",
    "\n",
    "First connect Thymio to the computer on one USB port through the USB cable.\n",
    "\n",
    "### Look-up table for ports:\n",
    "Replace `/dev/cu.usbmodem142101` (or current port value) below by the correct computer port:\n",
    "\n",
    "Lucas: `\\\\.\\COM3` for USB-cable and `\\\\.\\COM4` for USB-dongle\n",
    "\n",
    "Emma: ` `\n",
    "\n",
    "Elise: ` `\n",
    "\n",
    "Océane: ` `"
   ]
  },
  {
   "cell_type": "code",
   "execution_count": 2,
   "metadata": {},
   "outputs": [],
   "source": [
    "if CONNECC == 0:\n",
    "    CONNECC = 1\n",
    "    th = Thymio.serial(port=\"\\\\.\\COM4\", refreshing_rate=0.1)\n",
    "    time.sleep(1)"
   ]
  },
  {
   "cell_type": "markdown",
   "metadata": {},
   "source": [
    "## Tests\n",
    "\n",
    "Testing communication with Thymio."
   ]
  },
  {
   "cell_type": "code",
   "execution_count": 5,
   "metadata": {},
   "outputs": [],
   "source": [
    "# Defines if tests should be run\n",
    "TEST = 0"
   ]
  },
  {
   "cell_type": "markdown",
   "metadata": {},
   "source": [
    "### Retrieve values"
   ]
  },
  {
   "cell_type": "code",
   "execution_count": 4,
   "metadata": {},
   "outputs": [
    {
     "name": "stdout",
     "output_type": "stream",
     "text": [
      "[0, 0, 0, 0, 1279, 0, 0]\n",
      "[0, 0, 0, 0, 1275, 0, 0]\n",
      "[0, 0, 0, 0, 1268, 0, 0]\n",
      "[0, 0, 0, 0, 1203, 0, 0]\n",
      "[0, 0, 0, 0, 1283, 0, 0]\n",
      "[0, 0, 0, 0, 1372, 0, 0]\n",
      "[0, 0, 0, 0, 1376, 0, 0]\n",
      "[0, 0, 0, 0, 1381, 0, 0]\n",
      "[0, 0, 0, 0, 1378, 0, 0]\n",
      "[0, 0, 0, 0, 1386, 0, 0]\n"
     ]
    }
   ],
   "source": [
    "if TEST == 1:\n",
    "    for i in range(10):\n",
    "        print(th[\"prox.horizontal\"])\n",
    "        time.sleep(0.2)"
   ]
  },
  {
   "cell_type": "markdown",
   "metadata": {},
   "source": [
    "### Set values"
   ]
  },
  {
   "cell_type": "code",
   "execution_count": null,
   "metadata": {},
   "outputs": [],
   "source": [
    "if TEST == 1:\n",
    "    th.set_var(\"motor.left.target\", 100)\n",
    "    th.set_var(\"motor.right.target\", 100)\n",
    "\n",
    "    time.sleep(1)\n",
    "\n",
    "    th.set_var(\"motor.left.target\", 0)\n",
    "    th.set_var(\"motor.right.target\", 0)"
   ]
  },
  {
   "cell_type": "markdown",
   "metadata": {},
   "source": [
    "## Obstacle avoidance algorithm\n",
    "\n",
    "The robot can be in two states: global navigation or obstacle avoidance when one is detected by the sensors (caution for not confounding walls from the map and unknown obstacles).\n",
    "\n",
    "When in obstacle avoidance state, the robot accelerates the wheels close to the obstacles."
   ]
  },
  {
   "cell_type": "code",
   "execution_count": null,
   "metadata": {},
   "outputs": [],
   "source": [
    "th.variable_description()"
   ]
  },
  {
   "cell_type": "code",
   "execution_count": 139,
   "metadata": {},
   "outputs": [
    {
     "name": "stdout",
     "output_type": "stream",
     "text": [
      "[8, 8]\n"
     ]
    }
   ],
   "source": [
    "# dir(th)\n",
    "# th.decscription_variable()\n",
    "# Conio\n",
    "# th.set_var(\"mic.intensity\", 0)\n",
    "\n",
    "th.set_var(\"motor.left.target\", 0)\n",
    "th.set_var(\"motor.right.target\", 0)\n",
    "print(th[\"prox.ground.delta\"])"
   ]
  },
  {
   "cell_type": "markdown",
   "metadata": {},
   "source": [
    "## Calibration Odometry\n",
    "\n",
    "~ 0.0325 cm/s for 1 motor input unit of Thymio\n",
    "\n",
    "rotation: ~9.32s for 360° with [100, -100] motor inputs => ~ 0.0067 rad/s for [1, -1] motor inputs"
   ]
  },
  {
   "cell_type": "code",
   "execution_count": 3,
   "metadata": {},
   "outputs": [
    {
     "name": "stdout",
     "output_type": "stream",
     "text": [
      "0.006741615021459227\n"
     ]
    }
   ],
   "source": [
    "speed = []\n",
    "omega = 2*3.1415926/9.32\n",
    "omega_thymio = omega/100\n",
    "print(omega_thymio)"
   ]
  },
  {
   "cell_type": "code",
   "execution_count": null,
   "metadata": {},
   "outputs": [],
   "source": [
    "\n",
    "\n",
    "delta_threshold = 300\n",
    "square = 5 # cm\n",
    "\n",
    "count = 0\n",
    "current_square = 1\n",
    "previous_square = current_square\n",
    "change = []\n",
    "vel = 100\n",
    "start_time =  time.time()\n",
    "#print(th[\"prox.ground.delta\"])\n",
    "\n",
    "while (count < 3):\n",
    "    th.set_var(\"motor.left.target\", vel)\n",
    "    th.set_var(\"motor.right.target\", vel)\n",
    "    ground = th[\"prox.ground.delta\"]\n",
    "    if (time.time() - start_time) > 30:\n",
    "        print('TIMED OUT')\n",
    "        break\n",
    "    if (ground[0] < delta_threshold and ground[1] < delta_threshold):\n",
    "        current_square = 0\n",
    "    else:\n",
    "        current_square = 1\n",
    "    if current_square != previous_square:\n",
    "        start_time = time.time()\n",
    "        change.append(time.time())\n",
    "        previous_square = current_square\n",
    "        count += 1\n",
    "\n",
    "th.set_var(\"motor.left.target\", 0)\n",
    "th.set_var(\"motor.right.target\", 0)\n",
    "\n",
    "first = change[0]\n",
    "change = [x - first for x in change]\n",
    "for i in range(0, len(change) - 1):\n",
    "        speed.append(square/(change[i+1]-change[i])/vel) # [cm/s by Thymio velocity unit]\n",
    "\n",
    "# print(change)\n",
    "mean_speed = sum(speed)/len(speed)\n",
    "print(mean_speed)"
   ]
  },
  {
   "cell_type": "code",
   "execution_count": 142,
   "metadata": {},
   "outputs": [
    {
     "name": "stdout",
     "output_type": "stream",
     "text": [
      "9.320163011550903\n"
     ]
    },
    {
     "name": "stderr",
     "output_type": "stream",
     "text": [
      "Exception in thread Thread-7:\n",
      "Traceback (most recent call last):\n",
      "  File \"C:\\Users\\lucas\\Anaconda3\\lib\\threading.py\", line 917, in _bootstrap_inner\n",
      "    self.run()\n",
      "  File \"C:\\Users\\lucas\\Anaconda3\\lib\\threading.py\", line 865, in run\n",
      "    self._target(*self._args, **self._kwargs)\n",
      "  File \"C:\\Users\\lucas\\Documents\\EPFL\\MA1\\MICRO-452 Basics of mobile robotics\\Project\\src\\Thymio.py\", line 340, in do_refresh\n",
      "    self.get_variables()\n",
      "  File \"C:\\Users\\lucas\\Documents\\EPFL\\MA1\\MICRO-452 Basics of mobile robotics\\Project\\src\\Thymio.py\", line 499, in get_variables\n",
      "    self.send(msg)\n",
      "  File \"C:\\Users\\lucas\\Documents\\EPFL\\MA1\\MICRO-452 Basics of mobile robotics\\Project\\src\\Thymio.py\", line 456, in send\n",
      "    self.io.write(msg.serialize())\n",
      "  File \"C:\\Users\\lucas\\Anaconda3\\lib\\site-packages\\serial\\serialwin32.py\", line 315, in write\n",
      "    raise SerialException(\"WriteFile failed ({!r})\".format(ctypes.WinError()))\n",
      "serial.serialutil.SerialException: WriteFile failed (PermissionError(13, 'Le périphérique ne reconnaît pas la commande.', None, 22))\n",
      "\n"
     ]
    }
   ],
   "source": [
    "# Rotation odometry\n",
    "\n",
    "start = time.time()\n",
    "th.set_var(\"motor.left.target\", 100)\n",
    "th.set_var(\"motor.right.target\", 2**16 - 100)\n",
    "time.sleep(1)\n",
    "\n",
    "while (stop - start) < 9.32:\n",
    "    stop = time.time()\n",
    "\n",
    "th.set_var(\"motor.left.target\", 0)\n",
    "th.set_var(\"motor.right.target\", 0)\n",
    "print(stop - start)"
   ]
  },
  {
   "cell_type": "code",
   "execution_count": 83,
   "metadata": {},
   "outputs": [
    {
     "name": "stdout",
     "output_type": "stream",
     "text": [
      "[2923, 2946, 0, 0, 0, 0, 0]\n"
     ]
    }
   ],
   "source": [
    "print(th[\"prox.horizontal\"])"
   ]
  },
  {
   "cell_type": "code",
   "execution_count": null,
   "metadata": {},
   "outputs": [],
   "source": [
    "# Initialisation for testing the obstacle avoidance algorithm, Thymio is going straight towards its goal.\n",
    "Speed0 = 100\n",
    "ObstacleSpeedGain = 2\n",
    "ObstacleThresholdLeft = 10\n",
    "ObstacleThreshholdRight = 20\n",
    "\n",
    "State = 0\n",
    "Sensors = [0,0,0,0,0,0,0] # proximity sensors array\n",
    "Now = time.time() # Actual time in seconds since 1st of Janurary 1970\n",
    "Timer = Now\n",
    "\n",
    "while:\n",
    "    Timer = time.time()\n",
    "\n",
    "dir"
   ]
  }
 ],
 "metadata": {
  "kernelspec": {
   "display_name": "Python 3",
   "language": "python",
   "name": "python3"
  },
  "language_info": {
   "codemirror_mode": {
    "name": "ipython",
    "version": 3
   },
   "file_extension": ".py",
   "mimetype": "text/x-python",
   "name": "python",
   "nbconvert_exporter": "python",
   "pygments_lexer": "ipython3",
   "version": "3.7.3"
  }
 },
 "nbformat": 4,
 "nbformat_minor": 2
}
