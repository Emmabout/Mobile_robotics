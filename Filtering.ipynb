{
 "cells": [
  {
   "cell_type": "markdown",
   "metadata": {},
   "source": [
    "# Filtering\n",
    "\n",
    "Function to develop/test the filtering based on a checkerboard of white and grey squares."
   ]
  },
  {
   "cell_type": "markdown",
   "metadata": {},
   "source": [
    "## Initialization and imports\n",
    "\n",
    "Imports libraries and initializes the communication with Thymio through USB port.\n",
    "\n",
    "### Look-up table for ports:\n",
    "Replace `/dev/cu.usbmodem142101` (or current port value) below by the correct computer port:\n",
    "\n",
    "Lucas: `\\\\.\\COM3` for USB-cable and `\\\\.\\COM4` for USB-dongle\n",
    "\n",
    "Emma: ` `\n",
    "\n",
    "Elise: ` `\n",
    "\n",
    "Océane: ` `"
   ]
  },
  {
   "cell_type": "code",
   "execution_count": null,
   "metadata": {},
   "outputs": [],
   "source": [
    "import os\n",
    "import sys\n",
    "import time\n",
    "import serial\n",
    "from math import *\n",
    "\n",
    "# Variable to know if Thymio has already been connected before or not (== 1 if it is the case)\n",
    "try:\n",
    "    CONNECC\n",
    "except NameError:\n",
    "    CONNECC = 0\n",
    "    print('Thymio will be connected.')\n",
    "else:\n",
    "    print('Thymio has already been connected to the computer')\n",
    "\n",
    "# Adding the src folder in the current directory as it contains the script\n",
    "# with the Thymio class\n",
    "#sys.path.insert(0, os.path.join(os.getcwd(), 'src'))\n",
    "\n",
    "from Thymio import Thymio\n",
    "\n",
    "# Print the path to Python3 executable\n",
    "# print(sys.executable)\n",
    "\n",
    "if CONNECC == 0:\n",
    "    CONNECC = 1\n",
    "    th = Thymio.serial(port=\"\\\\.\\COM3\", refreshing_rate=0.1)\n",
    "    time.sleep(1)"
   ]
  },
  {
   "cell_type": "markdown",
   "metadata": {},
   "source": [
    "## (Odometry)\n",
    "\n",
    "Important stuff are the coefficients for the odometry and the global structure of the code to make the Thymio moves towards the defined goal:"
   ]
  },
  {
   "cell_type": "code",
   "execution_count": null,
   "metadata": {},
   "outputs": [],
   "source": [
    "counter = 0\n",
    "VelLeft = 100\n",
    "VelRight = -100\n",
    "adjust = 1.9 #4.15\n",
    "SpeedGain = adjust*0.0325 * 10**(-3)\n",
    "timer = 1 * 10**(-3) # 1ms\n",
    "b = 0.095 # distance between Thymio's wheels in m\n",
    "\n",
    "X = 0\n",
    "Y = 0\n",
    "Theta = 0\n",
    "\n",
    "t = 0\n",
    "\n",
    "while counter < 1000:\n",
    "    #a = time.time()\n",
    "    counter += 1\n",
    "    th.set_var(\"motor.right.target\", VelRight)\n",
    "    th.set_var(\"motor.left.target\", VelLeft)\n",
    "\n",
    "    DTheta = (VelLeft*SpeedGain - VelRight*SpeedGain)/(2*b)\n",
    "    DS = (VelLeft + VelRight)/2\n",
    "    \n",
    "    Theta += DTheta\n",
    "    X += DS*SpeedGain*cos(radians(Theta))\n",
    "    Y += DS*SpeedGain*sin(radians(Theta))\n",
    "\n",
    "    time.sleep(timer)\n",
    "    #b = time.time()\n",
    "    #t += b-a\n",
    "\n",
    "#print(t)\n",
    "th.set_var(\"motor.right.target\", 0)\n",
    "th.set_var(\"motor.left.target\", 0)\n",
    "\n",
    "print(X)\n",
    "print(Y)\n",
    "print(Theta)"
   ]
  },
  {
   "cell_type": "markdown",
   "metadata": {},
   "source": [
    "## To do:\n",
    "\n",
    "- Définir fonctions et classes utiles à l'ensemble du déplacement du Thymio\n",
    "    - markers2reality traduit les coordonnées des cases du damier en cm DONE\n",
    "    - Thymio contient la position du Thymio ainsi que permet de régler la vitesse des roues et récupérer les informations relatives aux différents capteurs DONE\n",
    "    - Kalmanfilter est la classe qui contiendra les différentes matrices nécessaires au filtrage\n",
    "        - Concernant le filtrage en lui-même: état X = (x, y, theta); A = matrice identité; B = odometry (change avec l'état du Thymio, car varie avec l'angle du Thymio, voir slides 19-20 cours sur la localisation) dont un exemple se trouve ci-dessus, les facteurs adjust et 0.0325 sont déduit par expériences, ils changeront probablement dû au chgt de la durée d'une boucle par rapport à l'exemple ci-dessus, il faudra donc préalablement dire que l'odométrie est parfaite, faire des tests pour voir si l'odométrie est satisfaisante ou non* (voir notes en bas); C = matrice identité si mesures == prédictions, sinon il faut changer les valeurs (c'est la dernière grande inconnue, je pense que ça se fait par intuitions premièrement, et ensuite à tâtons lors des tests, ne vous embêtez pas trop avec ça pour le moment, dîtes que c'est égal à 2 fois l'identité par exemple)\n",
    "    - Si d'autres fonctions/classes vous semblent intéressantes à créer vous gêner pas évidemment\n",
    "- Créer la boucle principale, celle-ci doit effectuer les tâches suivantes dans cet ordre:\n",
    "    - Initialiser la classe Thymio avec la start position voulue\n",
    "    - Déterminer la vitesse qu'il faut appliquer aux roues afin d'atteindre le prochain objectif (qu'il faut définir évidemment, ça peut simplement se faire par coordonnées des cases évidemment)\n",
    "    - Bouger le thymio \n",
    "    - Appliquer le filtrage pour déterminer la nouvelle position du Thymio\n",
    "    - Si le goal est considéré comme atteint (|X - goal| < epsilon, tel que epsilon << 1), alors définir goal suivant, sauf si c'était la fin, dans ce cas, Pablo commence à faire du break dance.\n",
    "    \n",
    "*NOTES*: lorsque vous aurez tout coder, il faudra tester le tout en disant que l'odométrie est parfaite, mais en faisant quand même tous les calculs de filtrage!!! Pour déterminer les coefficients d'ajustement de l'odométrie qui dépendent forcément de la durée d'une boucle complète!\n",
    "Evidemment, ne suivez pas bêtement cette liste de choses à faire si vous pensez qu'il est possible de faire mieux, je ne suis pas Dieu, j'ai pratiquement rien foutu hier soir.\n",
    "    "
   ]
  },
  {
   "cell_type": "markdown",
   "metadata": {},
   "source": [
    "## Definitions"
   ]
  },
  {
   "cell_type": "markdown",
   "metadata": {},
   "source": [
    "### Functions"
   ]
  },
  {
   "cell_type": "markdown",
   "metadata": {},
   "source": [
    "#### markers2reality:\n",
    "\n",
    "This function gives the position in real coordinates (cm) of the given markers coordinates (matrix coordinates). The checkerboard pattern has 6cm sided squares:"
   ]
  },
  {
   "cell_type": "code",
   "execution_count": 1,
   "metadata": {},
   "outputs": [],
   "source": [
    "def markers2reality(mx, my):\n",
    "    x = (2*mx + 1)*3\n",
    "    y = (2*my + 1)*3\n",
    "    return (x,y)"
   ]
  },
  {
   "cell_type": "markdown",
   "metadata": {},
   "source": [
    "### Classes"
   ]
  },
  {
   "cell_type": "markdown",
   "metadata": {},
   "source": [
    "#### Thymio\n",
    "\n",
    "This class designates the robot, including its state (x, y and theta) and the different functions that control its displacement:"
   ]
  },
  {
   "cell_type": "code",
   "execution_count": 33,
   "metadata": {},
   "outputs": [],
   "source": [
    "class Thymio:\n",
    "    def __init__(self, x, y): # x and y are in cm, theta in degrees\n",
    "        self.x = x\n",
    "        self.y = y\n",
    "        self.theta = 90\n",
    "        self.ground = [0,0]\n",
    "        self.front = [0,0,0,0,0]\n",
    "    \n",
    "    def set_pos(self, x, y, theta):\n",
    "        self.x = x\n",
    "        self.y = y\n",
    "        self.theta = theta\n",
    "    \n",
    "    def get_ground(self):\n",
    "        self.ground = th[\"prox.ground.delta\"] # à déterminer s'il vaut mieux choisir ground.ambiant, ground.delta\n",
    "        return self.ground                    # ou bien encore ground.... (le dernier des trois possibles, voir les variables Aseba)\n",
    "        \n",
    "    def get_front(self):\n",
    "        self.front = th[\"prox.horizontal\"][0:4]\n",
    "        return self.front\n",
    "        \n",
    "    def pos(self):\n",
    "        return [self.x, self.y, self.theta]\n",
    "    \n",
    "    def move(self, u): # soit simplement set la vitesse des roues, possible de faire l'odometry ici aussi je pense\n",
    "        \n",
    "        # Move thymio depending on the control inputs u\n",
    "        th.set_var(\"motor.left.target\", u[0])\n",
    "        the.set_var(\"motor.right.target\", u[1])\n",
    "        \n",
    "    def nopuedo(self): # je sais pas encore ce que c'est, mais ce sera quelque chose j'imagine, jpp, arg, prout, pouet\n",
    "        \n",
    "    \n",
    "        \n",
    "    def __repr__(self): # called when print(Thymio) is used\n",
    "        return \"(x, y, theta) = (%.2f, %.2f, %.1f)\" %(self.x, self.y, self.theta)"
   ]
  },
  {
   "cell_type": "code",
   "execution_count": 30,
   "metadata": {},
   "outputs": [
    {
     "name": "stdout",
     "output_type": "stream",
     "text": [
      "x = 5.30, y = 2.66\n"
     ]
    }
   ],
   "source": [
    "a = 5.3\n",
    "b = 2.65784\n",
    "c = \"x = %.2f, y = %.2f\" %(a, b)\n",
    "print(c)"
   ]
  },
  {
   "cell_type": "markdown",
   "metadata": {},
   "source": [
    "#### Kalmanfilter\n",
    "\n",
    "Extended Kalman filter called at each iteration after Thymio's movement. See lecture on Uncertainties slides 33-end. Previous lecture on Localisation might be useful as well, odometry slides 19-20 and intro. to uncertainties slides 23-37."
   ]
  },
  {
   "cell_type": "code",
   "execution_count": null,
   "metadata": {},
   "outputs": [],
   "source": [
    "class Kalmanfilter:\n",
    "    def __init__(self, A, B, w, C1, C2, v, pred_mu, pred_Sigma, mu, Sigma):\n",
    "        self.A = A # jacobian, constant\n",
    "        self.B = B # odometry matrix, change with theta of Thymio\n",
    "        self.w = w # displacement noise, constant\n",
    "        self.C1 = C1 # measurement matrix measurements == predictions\n",
    "        self.C2 = C2 # measurement matrix when measurements =/= predictions\n",
    "        self.v = v # measurement noise, constant\n",
    "        self.mu = mu # current mean, aka current state\n",
    "        self.Sigma = 0 # current covariance matrix\n",
    "        \n",
    "    def predict(self): # first step\n",
    "        \n",
    "    def innovation(self): # second step\n",
    "        \n",
    "    def aposteriori(self): # final step"
   ]
  }
 ],
 "metadata": {
  "kernelspec": {
   "display_name": "Python 3",
   "language": "python",
   "name": "python3"
  },
  "language_info": {
   "codemirror_mode": {
    "name": "ipython",
    "version": 3
   },
   "file_extension": ".py",
   "mimetype": "text/x-python",
   "name": "python",
   "nbconvert_exporter": "python",
   "pygments_lexer": "ipython3",
   "version": "3.7.3"
  }
 },
 "nbformat": 4,
 "nbformat_minor": 2
}
